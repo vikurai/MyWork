{
 "cells": [
  {
   "cell_type": "code",
   "execution_count": 1,
   "id": "a93c1dce",
   "metadata": {
    "_cell_guid": "b1076dfc-b9ad-4769-8c92-a6c4dae69d19",
    "_uuid": "8f2839f25d086af736a60e9eeb907d3b93b6e0e5",
    "execution": {
     "iopub.execute_input": "2023-08-18T07:03:50.102864Z",
     "iopub.status.busy": "2023-08-18T07:03:50.102086Z",
     "iopub.status.idle": "2023-08-18T07:03:50.127473Z",
     "shell.execute_reply": "2023-08-18T07:03:50.125856Z"
    },
    "papermill": {
     "duration": 0.045208,
     "end_time": "2023-08-18T07:03:50.130790",
     "exception": false,
     "start_time": "2023-08-18T07:03:50.085582",
     "status": "completed"
    },
    "tags": []
   },
   "outputs": [
    {
     "name": "stdout",
     "output_type": "stream",
     "text": [
      "/kaggle/input/student-performance-multiple-linear-regression/Student_Performance.csv\n"
     ]
    }
   ],
   "source": [
    "# This Python 3 environment comes with many helpful analytics libraries installed\n",
    "# It is defined by the kaggle/python Docker image: https://github.com/kaggle/docker-python\n",
    "# For example, here's several helpful packages to load\n",
    "\n",
    "import numpy as np # linear algebra\n",
    "import pandas as pd # data processing, CSV file I/O (e.g. pd.read_csv)\n",
    "\n",
    "# Input data files are available in the read-only \"../input/\" directory\n",
    "# For example, running this (by clicking run or pressing Shift+Enter) will list all files under the input directory\n",
    "\n",
    "import os\n",
    "for dirname, _, filenames in os.walk('/kaggle/input'):\n",
    "    for filename in filenames:\n",
    "        print(os.path.join(dirname, filename))\n",
    "\n",
    "# You can write up to 20GB to the current directory (/kaggle/working/) that gets preserved as output when you create a version using \"Save & Run All\" \n",
    "# You can also write temporary files to /kaggle/temp/, but they won't be saved outside of the current session"
   ]
  },
  {
   "cell_type": "markdown",
   "id": "2f0047c0",
   "metadata": {
    "papermill": {
     "duration": 0.013696,
     "end_time": "2023-08-18T07:03:50.158580",
     "exception": false,
     "start_time": "2023-08-18T07:03:50.144884",
     "status": "completed"
    },
    "tags": []
   },
   "source": [
    "**reading the file**"
   ]
  },
  {
   "cell_type": "code",
   "execution_count": 2,
   "id": "45fdf23a",
   "metadata": {
    "execution": {
     "iopub.execute_input": "2023-08-18T07:03:50.192178Z",
     "iopub.status.busy": "2023-08-18T07:03:50.190452Z",
     "iopub.status.idle": "2023-08-18T07:03:50.230714Z",
     "shell.execute_reply": "2023-08-18T07:03:50.229194Z"
    },
    "papermill": {
     "duration": 0.061239,
     "end_time": "2023-08-18T07:03:50.233620",
     "exception": false,
     "start_time": "2023-08-18T07:03:50.172381",
     "status": "completed"
    },
    "tags": []
   },
   "outputs": [],
   "source": [
    "df = pd.read_csv('/kaggle/input/student-performance-multiple-linear-regression/Student_Performance.csv')"
   ]
  },
  {
   "cell_type": "markdown",
   "id": "efb45b32",
   "metadata": {
    "papermill": {
     "duration": 0.014805,
     "end_time": "2023-08-18T07:03:50.263139",
     "exception": false,
     "start_time": "2023-08-18T07:03:50.248334",
     "status": "completed"
    },
    "tags": []
   },
   "source": [
    "checking the data "
   ]
  },
  {
   "cell_type": "code",
   "execution_count": 3,
   "id": "e5759224",
   "metadata": {
    "execution": {
     "iopub.execute_input": "2023-08-18T07:03:50.295311Z",
     "iopub.status.busy": "2023-08-18T07:03:50.293904Z",
     "iopub.status.idle": "2023-08-18T07:03:50.323128Z",
     "shell.execute_reply": "2023-08-18T07:03:50.321211Z"
    },
    "papermill": {
     "duration": 0.047558,
     "end_time": "2023-08-18T07:03:50.326074",
     "exception": false,
     "start_time": "2023-08-18T07:03:50.278516",
     "status": "completed"
    },
    "tags": []
   },
   "outputs": [
    {
     "data": {
      "text/html": [
       "<div>\n",
       "<style scoped>\n",
       "    .dataframe tbody tr th:only-of-type {\n",
       "        vertical-align: middle;\n",
       "    }\n",
       "\n",
       "    .dataframe tbody tr th {\n",
       "        vertical-align: top;\n",
       "    }\n",
       "\n",
       "    .dataframe thead th {\n",
       "        text-align: right;\n",
       "    }\n",
       "</style>\n",
       "<table border=\"1\" class=\"dataframe\">\n",
       "  <thead>\n",
       "    <tr style=\"text-align: right;\">\n",
       "      <th></th>\n",
       "      <th>Hours Studied</th>\n",
       "      <th>Previous Scores</th>\n",
       "      <th>Extracurricular Activities</th>\n",
       "      <th>Sleep Hours</th>\n",
       "      <th>Sample Question Papers Practiced</th>\n",
       "      <th>Performance Index</th>\n",
       "    </tr>\n",
       "  </thead>\n",
       "  <tbody>\n",
       "    <tr>\n",
       "      <th>0</th>\n",
       "      <td>7</td>\n",
       "      <td>99</td>\n",
       "      <td>Yes</td>\n",
       "      <td>9</td>\n",
       "      <td>1</td>\n",
       "      <td>91.0</td>\n",
       "    </tr>\n",
       "    <tr>\n",
       "      <th>1</th>\n",
       "      <td>4</td>\n",
       "      <td>82</td>\n",
       "      <td>No</td>\n",
       "      <td>4</td>\n",
       "      <td>2</td>\n",
       "      <td>65.0</td>\n",
       "    </tr>\n",
       "    <tr>\n",
       "      <th>2</th>\n",
       "      <td>8</td>\n",
       "      <td>51</td>\n",
       "      <td>Yes</td>\n",
       "      <td>7</td>\n",
       "      <td>2</td>\n",
       "      <td>45.0</td>\n",
       "    </tr>\n",
       "    <tr>\n",
       "      <th>3</th>\n",
       "      <td>5</td>\n",
       "      <td>52</td>\n",
       "      <td>Yes</td>\n",
       "      <td>5</td>\n",
       "      <td>2</td>\n",
       "      <td>36.0</td>\n",
       "    </tr>\n",
       "    <tr>\n",
       "      <th>4</th>\n",
       "      <td>7</td>\n",
       "      <td>75</td>\n",
       "      <td>No</td>\n",
       "      <td>8</td>\n",
       "      <td>5</td>\n",
       "      <td>66.0</td>\n",
       "    </tr>\n",
       "  </tbody>\n",
       "</table>\n",
       "</div>"
      ],
      "text/plain": [
       "   Hours Studied  Previous Scores Extracurricular Activities  Sleep Hours  \\\n",
       "0              7               99                        Yes            9   \n",
       "1              4               82                         No            4   \n",
       "2              8               51                        Yes            7   \n",
       "3              5               52                        Yes            5   \n",
       "4              7               75                         No            8   \n",
       "\n",
       "   Sample Question Papers Practiced  Performance Index  \n",
       "0                                 1               91.0  \n",
       "1                                 2               65.0  \n",
       "2                                 2               45.0  \n",
       "3                                 2               36.0  \n",
       "4                                 5               66.0  "
      ]
     },
     "execution_count": 3,
     "metadata": {},
     "output_type": "execute_result"
    }
   ],
   "source": [
    "df.head()"
   ]
  },
  {
   "cell_type": "code",
   "execution_count": 4,
   "id": "14accbe6",
   "metadata": {
    "execution": {
     "iopub.execute_input": "2023-08-18T07:03:50.356140Z",
     "iopub.status.busy": "2023-08-18T07:03:50.354929Z",
     "iopub.status.idle": "2023-08-18T07:03:50.374750Z",
     "shell.execute_reply": "2023-08-18T07:03:50.372958Z"
    },
    "papermill": {
     "duration": 0.038417,
     "end_time": "2023-08-18T07:03:50.378163",
     "exception": false,
     "start_time": "2023-08-18T07:03:50.339746",
     "status": "completed"
    },
    "tags": []
   },
   "outputs": [
    {
     "data": {
      "text/plain": [
       "<bound method NDFrame.describe of       Hours Studied  Previous Scores Extracurricular Activities  Sleep Hours  \\\n",
       "0                 7               99                        Yes            9   \n",
       "1                 4               82                         No            4   \n",
       "2                 8               51                        Yes            7   \n",
       "3                 5               52                        Yes            5   \n",
       "4                 7               75                         No            8   \n",
       "...             ...              ...                        ...          ...   \n",
       "9995              1               49                        Yes            4   \n",
       "9996              7               64                        Yes            8   \n",
       "9997              6               83                        Yes            8   \n",
       "9998              9               97                        Yes            7   \n",
       "9999              7               74                         No            8   \n",
       "\n",
       "      Sample Question Papers Practiced  Performance Index  \n",
       "0                                    1               91.0  \n",
       "1                                    2               65.0  \n",
       "2                                    2               45.0  \n",
       "3                                    2               36.0  \n",
       "4                                    5               66.0  \n",
       "...                                ...                ...  \n",
       "9995                                 2               23.0  \n",
       "9996                                 5               58.0  \n",
       "9997                                 5               74.0  \n",
       "9998                                 0               95.0  \n",
       "9999                                 1               64.0  \n",
       "\n",
       "[10000 rows x 6 columns]>"
      ]
     },
     "execution_count": 4,
     "metadata": {},
     "output_type": "execute_result"
    }
   ],
   "source": [
    "df.describe"
   ]
  },
  {
   "cell_type": "code",
   "execution_count": 5,
   "id": "ba2937ea",
   "metadata": {
    "execution": {
     "iopub.execute_input": "2023-08-18T07:03:50.409895Z",
     "iopub.status.busy": "2023-08-18T07:03:50.409394Z",
     "iopub.status.idle": "2023-08-18T07:03:50.419419Z",
     "shell.execute_reply": "2023-08-18T07:03:50.417726Z"
    },
    "papermill": {
     "duration": 0.029786,
     "end_time": "2023-08-18T07:03:50.422375",
     "exception": false,
     "start_time": "2023-08-18T07:03:50.392589",
     "status": "completed"
    },
    "tags": []
   },
   "outputs": [
    {
     "data": {
      "text/plain": [
       "Hours Studied                         int64\n",
       "Previous Scores                       int64\n",
       "Extracurricular Activities           object\n",
       "Sleep Hours                           int64\n",
       "Sample Question Papers Practiced      int64\n",
       "Performance Index                   float64\n",
       "dtype: object"
      ]
     },
     "execution_count": 5,
     "metadata": {},
     "output_type": "execute_result"
    }
   ],
   "source": [
    "df.dtypes"
   ]
  },
  {
   "cell_type": "code",
   "execution_count": 6,
   "id": "f87dc0ab",
   "metadata": {
    "execution": {
     "iopub.execute_input": "2023-08-18T07:03:50.456458Z",
     "iopub.status.busy": "2023-08-18T07:03:50.455004Z",
     "iopub.status.idle": "2023-08-18T07:03:50.474088Z",
     "shell.execute_reply": "2023-08-18T07:03:50.472074Z"
    },
    "papermill": {
     "duration": 0.038406,
     "end_time": "2023-08-18T07:03:50.477057",
     "exception": false,
     "start_time": "2023-08-18T07:03:50.438651",
     "status": "completed"
    },
    "tags": []
   },
   "outputs": [
    {
     "data": {
      "text/plain": [
       "No     5052\n",
       "Yes    4948\n",
       "Name: Extracurricular Activities, dtype: int64"
      ]
     },
     "execution_count": 6,
     "metadata": {},
     "output_type": "execute_result"
    }
   ],
   "source": [
    "df['Extracurricular Activities'].value_counts()"
   ]
  },
  {
   "cell_type": "markdown",
   "id": "9b1170ba",
   "metadata": {
    "papermill": {
     "duration": 0.015359,
     "end_time": "2023-08-18T07:03:50.506785",
     "exception": false,
     "start_time": "2023-08-18T07:03:50.491426",
     "status": "completed"
    },
    "tags": []
   },
   "source": [
    "# #checking for null values and duplicate values and handling them if any"
   ]
  },
  {
   "cell_type": "code",
   "execution_count": 7,
   "id": "8122d89c",
   "metadata": {
    "execution": {
     "iopub.execute_input": "2023-08-18T07:03:50.538611Z",
     "iopub.status.busy": "2023-08-18T07:03:50.538174Z",
     "iopub.status.idle": "2023-08-18T07:03:50.551988Z",
     "shell.execute_reply": "2023-08-18T07:03:50.550766Z"
    },
    "papermill": {
     "duration": 0.032755,
     "end_time": "2023-08-18T07:03:50.554792",
     "exception": false,
     "start_time": "2023-08-18T07:03:50.522037",
     "status": "completed"
    },
    "tags": []
   },
   "outputs": [
    {
     "data": {
      "text/plain": [
       "Hours Studied                       0\n",
       "Previous Scores                     0\n",
       "Extracurricular Activities          0\n",
       "Sleep Hours                         0\n",
       "Sample Question Papers Practiced    0\n",
       "Performance Index                   0\n",
       "dtype: int64"
      ]
     },
     "execution_count": 7,
     "metadata": {},
     "output_type": "execute_result"
    }
   ],
   "source": [
    "df.isnull().sum()"
   ]
  },
  {
   "cell_type": "code",
   "execution_count": 8,
   "id": "91b4e4e7",
   "metadata": {
    "execution": {
     "iopub.execute_input": "2023-08-18T07:03:50.588452Z",
     "iopub.status.busy": "2023-08-18T07:03:50.587983Z",
     "iopub.status.idle": "2023-08-18T07:03:50.605411Z",
     "shell.execute_reply": "2023-08-18T07:03:50.604075Z"
    },
    "papermill": {
     "duration": 0.038181,
     "end_time": "2023-08-18T07:03:50.608216",
     "exception": false,
     "start_time": "2023-08-18T07:03:50.570035",
     "status": "completed"
    },
    "tags": []
   },
   "outputs": [
    {
     "data": {
      "text/plain": [
       "127"
      ]
     },
     "execution_count": 8,
     "metadata": {},
     "output_type": "execute_result"
    }
   ],
   "source": [
    "df.duplicated().sum()"
   ]
  },
  {
   "cell_type": "code",
   "execution_count": 9,
   "id": "40120602",
   "metadata": {
    "execution": {
     "iopub.execute_input": "2023-08-18T07:03:50.640399Z",
     "iopub.status.busy": "2023-08-18T07:03:50.639635Z",
     "iopub.status.idle": "2023-08-18T07:03:50.648832Z",
     "shell.execute_reply": "2023-08-18T07:03:50.647722Z"
    },
    "papermill": {
     "duration": 0.028944,
     "end_time": "2023-08-18T07:03:50.651808",
     "exception": false,
     "start_time": "2023-08-18T07:03:50.622864",
     "status": "completed"
    },
    "tags": []
   },
   "outputs": [],
   "source": [
    "df = df.drop_duplicates()"
   ]
  },
  {
   "cell_type": "markdown",
   "id": "028b03ee",
   "metadata": {
    "papermill": {
     "duration": 0.016074,
     "end_time": "2023-08-18T07:03:50.682209",
     "exception": false,
     "start_time": "2023-08-18T07:03:50.666135",
     "status": "completed"
    },
    "tags": []
   },
   "source": [
    "# encoding categorical variable"
   ]
  },
  {
   "cell_type": "code",
   "execution_count": 10,
   "id": "d0828bf7",
   "metadata": {
    "execution": {
     "iopub.execute_input": "2023-08-18T07:03:50.716185Z",
     "iopub.status.busy": "2023-08-18T07:03:50.715025Z",
     "iopub.status.idle": "2023-08-18T07:03:50.730893Z",
     "shell.execute_reply": "2023-08-18T07:03:50.729360Z"
    },
    "papermill": {
     "duration": 0.034568,
     "end_time": "2023-08-18T07:03:50.733642",
     "exception": false,
     "start_time": "2023-08-18T07:03:50.699074",
     "status": "completed"
    },
    "tags": []
   },
   "outputs": [
    {
     "name": "stderr",
     "output_type": "stream",
     "text": [
      "/tmp/ipykernel_20/2947262224.py:1: SettingWithCopyWarning: \n",
      "A value is trying to be set on a copy of a slice from a DataFrame.\n",
      "Try using .loc[row_indexer,col_indexer] = value instead\n",
      "\n",
      "See the caveats in the documentation: https://pandas.pydata.org/pandas-docs/stable/user_guide/indexing.html#returning-a-view-versus-a-copy\n",
      "  df['Extracurricular Activities'] = df['Extracurricular Activities'].apply(lambda x: 1 if x == 'Yes' else 0)\n"
     ]
    }
   ],
   "source": [
    "df['Extracurricular Activities'] = df['Extracurricular Activities'].apply(lambda x: 1 if x == 'Yes' else 0)\n"
   ]
  },
  {
   "cell_type": "markdown",
   "id": "cf62fcf5",
   "metadata": {
    "papermill": {
     "duration": 0.015795,
     "end_time": "2023-08-18T07:03:50.764046",
     "exception": false,
     "start_time": "2023-08-18T07:03:50.748251",
     "status": "completed"
    },
    "tags": []
   },
   "source": [
    "# checking correlation between variables"
   ]
  },
  {
   "cell_type": "code",
   "execution_count": 11,
   "id": "a3e6279d",
   "metadata": {
    "execution": {
     "iopub.execute_input": "2023-08-18T07:03:50.796106Z",
     "iopub.status.busy": "2023-08-18T07:03:50.795372Z",
     "iopub.status.idle": "2023-08-18T07:03:50.815942Z",
     "shell.execute_reply": "2023-08-18T07:03:50.814934Z"
    },
    "papermill": {
     "duration": 0.040102,
     "end_time": "2023-08-18T07:03:50.818995",
     "exception": false,
     "start_time": "2023-08-18T07:03:50.778893",
     "status": "completed"
    },
    "tags": []
   },
   "outputs": [
    {
     "data": {
      "text/html": [
       "<div>\n",
       "<style scoped>\n",
       "    .dataframe tbody tr th:only-of-type {\n",
       "        vertical-align: middle;\n",
       "    }\n",
       "\n",
       "    .dataframe tbody tr th {\n",
       "        vertical-align: top;\n",
       "    }\n",
       "\n",
       "    .dataframe thead th {\n",
       "        text-align: right;\n",
       "    }\n",
       "</style>\n",
       "<table border=\"1\" class=\"dataframe\">\n",
       "  <thead>\n",
       "    <tr style=\"text-align: right;\">\n",
       "      <th></th>\n",
       "      <th>Hours Studied</th>\n",
       "      <th>Previous Scores</th>\n",
       "      <th>Extracurricular Activities</th>\n",
       "      <th>Sleep Hours</th>\n",
       "      <th>Sample Question Papers Practiced</th>\n",
       "      <th>Performance Index</th>\n",
       "    </tr>\n",
       "  </thead>\n",
       "  <tbody>\n",
       "    <tr>\n",
       "      <th>Hours Studied</th>\n",
       "      <td>1.000000</td>\n",
       "      <td>-0.010676</td>\n",
       "      <td>0.004899</td>\n",
       "      <td>0.002131</td>\n",
       "      <td>0.015740</td>\n",
       "      <td>0.375332</td>\n",
       "    </tr>\n",
       "    <tr>\n",
       "      <th>Previous Scores</th>\n",
       "      <td>-0.010676</td>\n",
       "      <td>1.000000</td>\n",
       "      <td>0.009534</td>\n",
       "      <td>0.007975</td>\n",
       "      <td>0.008719</td>\n",
       "      <td>0.915135</td>\n",
       "    </tr>\n",
       "    <tr>\n",
       "      <th>Extracurricular Activities</th>\n",
       "      <td>0.004899</td>\n",
       "      <td>0.009534</td>\n",
       "      <td>1.000000</td>\n",
       "      <td>-0.024008</td>\n",
       "      <td>0.013839</td>\n",
       "      <td>0.026075</td>\n",
       "    </tr>\n",
       "    <tr>\n",
       "      <th>Sleep Hours</th>\n",
       "      <td>0.002131</td>\n",
       "      <td>0.007975</td>\n",
       "      <td>-0.024008</td>\n",
       "      <td>1.000000</td>\n",
       "      <td>0.004907</td>\n",
       "      <td>0.050352</td>\n",
       "    </tr>\n",
       "    <tr>\n",
       "      <th>Sample Question Papers Practiced</th>\n",
       "      <td>0.015740</td>\n",
       "      <td>0.008719</td>\n",
       "      <td>0.013839</td>\n",
       "      <td>0.004907</td>\n",
       "      <td>1.000000</td>\n",
       "      <td>0.043436</td>\n",
       "    </tr>\n",
       "    <tr>\n",
       "      <th>Performance Index</th>\n",
       "      <td>0.375332</td>\n",
       "      <td>0.915135</td>\n",
       "      <td>0.026075</td>\n",
       "      <td>0.050352</td>\n",
       "      <td>0.043436</td>\n",
       "      <td>1.000000</td>\n",
       "    </tr>\n",
       "  </tbody>\n",
       "</table>\n",
       "</div>"
      ],
      "text/plain": [
       "                                  Hours Studied  Previous Scores  \\\n",
       "Hours Studied                          1.000000        -0.010676   \n",
       "Previous Scores                       -0.010676         1.000000   \n",
       "Extracurricular Activities             0.004899         0.009534   \n",
       "Sleep Hours                            0.002131         0.007975   \n",
       "Sample Question Papers Practiced       0.015740         0.008719   \n",
       "Performance Index                      0.375332         0.915135   \n",
       "\n",
       "                                  Extracurricular Activities  Sleep Hours  \\\n",
       "Hours Studied                                       0.004899     0.002131   \n",
       "Previous Scores                                     0.009534     0.007975   \n",
       "Extracurricular Activities                          1.000000    -0.024008   \n",
       "Sleep Hours                                        -0.024008     1.000000   \n",
       "Sample Question Papers Practiced                    0.013839     0.004907   \n",
       "Performance Index                                   0.026075     0.050352   \n",
       "\n",
       "                                  Sample Question Papers Practiced  \\\n",
       "Hours Studied                                             0.015740   \n",
       "Previous Scores                                           0.008719   \n",
       "Extracurricular Activities                                0.013839   \n",
       "Sleep Hours                                               0.004907   \n",
       "Sample Question Papers Practiced                          1.000000   \n",
       "Performance Index                                         0.043436   \n",
       "\n",
       "                                  Performance Index  \n",
       "Hours Studied                              0.375332  \n",
       "Previous Scores                            0.915135  \n",
       "Extracurricular Activities                 0.026075  \n",
       "Sleep Hours                                0.050352  \n",
       "Sample Question Papers Practiced           0.043436  \n",
       "Performance Index                          1.000000  "
      ]
     },
     "execution_count": 11,
     "metadata": {},
     "output_type": "execute_result"
    }
   ],
   "source": [
    "df.corr()"
   ]
  },
  {
   "cell_type": "code",
   "execution_count": 12,
   "id": "840c74b0",
   "metadata": {
    "execution": {
     "iopub.execute_input": "2023-08-18T07:03:50.851487Z",
     "iopub.status.busy": "2023-08-18T07:03:50.850644Z",
     "iopub.status.idle": "2023-08-18T07:03:50.864507Z",
     "shell.execute_reply": "2023-08-18T07:03:50.863066Z"
    },
    "papermill": {
     "duration": 0.033797,
     "end_time": "2023-08-18T07:03:50.867494",
     "exception": false,
     "start_time": "2023-08-18T07:03:50.833697",
     "status": "completed"
    },
    "tags": []
   },
   "outputs": [
    {
     "data": {
      "text/html": [
       "<div>\n",
       "<style scoped>\n",
       "    .dataframe tbody tr th:only-of-type {\n",
       "        vertical-align: middle;\n",
       "    }\n",
       "\n",
       "    .dataframe tbody tr th {\n",
       "        vertical-align: top;\n",
       "    }\n",
       "\n",
       "    .dataframe thead th {\n",
       "        text-align: right;\n",
       "    }\n",
       "</style>\n",
       "<table border=\"1\" class=\"dataframe\">\n",
       "  <thead>\n",
       "    <tr style=\"text-align: right;\">\n",
       "      <th></th>\n",
       "      <th>Hours Studied</th>\n",
       "      <th>Previous Scores</th>\n",
       "      <th>Extracurricular Activities</th>\n",
       "      <th>Sleep Hours</th>\n",
       "      <th>Sample Question Papers Practiced</th>\n",
       "      <th>Performance Index</th>\n",
       "    </tr>\n",
       "  </thead>\n",
       "  <tbody>\n",
       "    <tr>\n",
       "      <th>0</th>\n",
       "      <td>7</td>\n",
       "      <td>99</td>\n",
       "      <td>1</td>\n",
       "      <td>9</td>\n",
       "      <td>1</td>\n",
       "      <td>91.0</td>\n",
       "    </tr>\n",
       "    <tr>\n",
       "      <th>1</th>\n",
       "      <td>4</td>\n",
       "      <td>82</td>\n",
       "      <td>0</td>\n",
       "      <td>4</td>\n",
       "      <td>2</td>\n",
       "      <td>65.0</td>\n",
       "    </tr>\n",
       "    <tr>\n",
       "      <th>2</th>\n",
       "      <td>8</td>\n",
       "      <td>51</td>\n",
       "      <td>1</td>\n",
       "      <td>7</td>\n",
       "      <td>2</td>\n",
       "      <td>45.0</td>\n",
       "    </tr>\n",
       "    <tr>\n",
       "      <th>3</th>\n",
       "      <td>5</td>\n",
       "      <td>52</td>\n",
       "      <td>1</td>\n",
       "      <td>5</td>\n",
       "      <td>2</td>\n",
       "      <td>36.0</td>\n",
       "    </tr>\n",
       "    <tr>\n",
       "      <th>4</th>\n",
       "      <td>7</td>\n",
       "      <td>75</td>\n",
       "      <td>0</td>\n",
       "      <td>8</td>\n",
       "      <td>5</td>\n",
       "      <td>66.0</td>\n",
       "    </tr>\n",
       "  </tbody>\n",
       "</table>\n",
       "</div>"
      ],
      "text/plain": [
       "   Hours Studied  Previous Scores  Extracurricular Activities  Sleep Hours  \\\n",
       "0              7               99                           1            9   \n",
       "1              4               82                           0            4   \n",
       "2              8               51                           1            7   \n",
       "3              5               52                           1            5   \n",
       "4              7               75                           0            8   \n",
       "\n",
       "   Sample Question Papers Practiced  Performance Index  \n",
       "0                                 1               91.0  \n",
       "1                                 2               65.0  \n",
       "2                                 2               45.0  \n",
       "3                                 2               36.0  \n",
       "4                                 5               66.0  "
      ]
     },
     "execution_count": 12,
     "metadata": {},
     "output_type": "execute_result"
    }
   ],
   "source": [
    "df.head()"
   ]
  },
  {
   "cell_type": "code",
   "execution_count": 13,
   "id": "791d217b",
   "metadata": {
    "execution": {
     "iopub.execute_input": "2023-08-18T07:03:50.903025Z",
     "iopub.status.busy": "2023-08-18T07:03:50.902209Z",
     "iopub.status.idle": "2023-08-18T07:03:52.728849Z",
     "shell.execute_reply": "2023-08-18T07:03:52.727421Z"
    },
    "papermill": {
     "duration": 1.847504,
     "end_time": "2023-08-18T07:03:52.731709",
     "exception": false,
     "start_time": "2023-08-18T07:03:50.884205",
     "status": "completed"
    },
    "tags": []
   },
   "outputs": [
    {
     "name": "stderr",
     "output_type": "stream",
     "text": [
      "/opt/conda/lib/python3.10/site-packages/scipy/__init__.py:146: UserWarning: A NumPy version >=1.16.5 and <1.23.0 is required for this version of SciPy (detected version 1.23.5\n",
      "  warnings.warn(f\"A NumPy version >={np_minversion} and <{np_maxversion}\"\n"
     ]
    }
   ],
   "source": [
    "import matplotlib.pyplot as plt\n",
    "import seaborn as sns"
   ]
  },
  {
   "cell_type": "code",
   "execution_count": 14,
   "id": "93075042",
   "metadata": {
    "execution": {
     "iopub.execute_input": "2023-08-18T07:03:52.766685Z",
     "iopub.status.busy": "2023-08-18T07:03:52.766218Z",
     "iopub.status.idle": "2023-08-18T07:03:53.340761Z",
     "shell.execute_reply": "2023-08-18T07:03:53.339641Z"
    },
    "papermill": {
     "duration": 0.595605,
     "end_time": "2023-08-18T07:03:53.344359",
     "exception": false,
     "start_time": "2023-08-18T07:03:52.748754",
     "status": "completed"
    },
    "tags": []
   },
   "outputs": [
    {
     "data": {
      "image/png": "[encoded data removed]",
      "text/plain": [
       "<Figure size 800x600 with 2 Axes>"
      ]
     },
     "metadata": {},
     "output_type": "display_data"
    }
   ],
   "source": [
    "plt.figure(figsize=(8, 6))\n",
    "sns.heatmap(df.corr(),annot = True)\n",
    "plt.show()"
   ]
  },
  {
   "cell_type": "code",
   "execution_count": 15,
   "id": "99f77a5b",
   "metadata": {
    "execution": {
     "iopub.execute_input": "2023-08-18T07:03:53.389301Z",
     "iopub.status.busy": "2023-08-18T07:03:53.388848Z",
     "iopub.status.idle": "2023-08-18T07:03:53.398559Z",
     "shell.execute_reply": "2023-08-18T07:03:53.396844Z"
    },
    "papermill": {
     "duration": 0.032003,
     "end_time": "2023-08-18T07:03:53.401625",
     "exception": false,
     "start_time": "2023-08-18T07:03:53.369622",
     "status": "completed"
    },
    "tags": []
   },
   "outputs": [
    {
     "data": {
      "text/plain": [
       "Index(['Hours Studied', 'Previous Scores', 'Extracurricular Activities',\n",
       "       'Sleep Hours', 'Sample Question Papers Practiced', 'Performance Index'],\n",
       "      dtype='object')"
      ]
     },
     "execution_count": 15,
     "metadata": {},
     "output_type": "execute_result"
    }
   ],
   "source": [
    "df.columns"
   ]
  },
  {
   "cell_type": "code",
   "execution_count": 16,
   "id": "242cac81",
   "metadata": {
    "execution": {
     "iopub.execute_input": "2023-08-18T07:03:53.437702Z",
     "iopub.status.busy": "2023-08-18T07:03:53.436875Z",
     "iopub.status.idle": "2023-08-18T07:03:53.442453Z",
     "shell.execute_reply": "2023-08-18T07:03:53.441092Z"
    },
    "papermill": {
     "duration": 0.026113,
     "end_time": "2023-08-18T07:03:53.445101",
     "exception": false,
     "start_time": "2023-08-18T07:03:53.418988",
     "status": "completed"
    },
    "tags": []
   },
   "outputs": [],
   "source": [
    "var = ['Hours Studied',  'Extracurricular Activities',\n",
    "       'Sleep Hours', 'Sample Question Papers Practiced']"
   ]
  },
  {
   "cell_type": "code",
   "execution_count": 17,
   "id": "f1b00b33",
   "metadata": {
    "execution": {
     "iopub.execute_input": "2023-08-18T07:03:53.482453Z",
     "iopub.status.busy": "2023-08-18T07:03:53.481595Z",
     "iopub.status.idle": "2023-08-18T07:03:53.867153Z",
     "shell.execute_reply": "2023-08-18T07:03:53.865109Z"
    },
    "papermill": {
     "duration": 0.407359,
     "end_time": "2023-08-18T07:03:53.870546",
     "exception": false,
     "start_time": "2023-08-18T07:03:53.463187",
     "status": "completed"
    },
    "tags": []
   },
   "outputs": [
    {
     "data": {
      "image/png": "[encoded data removed]",
      "text/plain": [
       "<Figure size 640x480 with 1 Axes>"
      ]
     },
     "metadata": {},
     "output_type": "display_data"
    }
   ],
   "source": [
    "for i in var:\n",
    "    sns.histplot(i)"
   ]
  },
  {
   "cell_type": "markdown",
   "id": "25b743dd",
   "metadata": {
    "papermill": {
     "duration": 0.017717,
     "end_time": "2023-08-18T07:03:53.907728",
     "exception": false,
     "start_time": "2023-08-18T07:03:53.890011",
     "status": "completed"
    },
    "tags": []
   },
   "source": [
    "# extracting the independent and dependent variable\n"
   ]
  },
  {
   "cell_type": "code",
   "execution_count": 18,
   "id": "e8afc03b",
   "metadata": {
    "execution": {
     "iopub.execute_input": "2023-08-18T07:03:53.945265Z",
     "iopub.status.busy": "2023-08-18T07:03:53.944435Z",
     "iopub.status.idle": "2023-08-18T07:03:53.952388Z",
     "shell.execute_reply": "2023-08-18T07:03:53.951144Z"
    },
    "papermill": {
     "duration": 0.029764,
     "end_time": "2023-08-18T07:03:53.955161",
     "exception": false,
     "start_time": "2023-08-18T07:03:53.925397",
     "status": "completed"
    },
    "tags": []
   },
   "outputs": [],
   "source": [
    "x = df.drop('Performance Index', axis =1)\n",
    "y = df['Performance Index']"
   ]
  },
  {
   "cell_type": "code",
   "execution_count": 19,
   "id": "b2c309da",
   "metadata": {
    "execution": {
     "iopub.execute_input": "2023-08-18T07:03:53.996074Z",
     "iopub.status.busy": "2023-08-18T07:03:53.995259Z",
     "iopub.status.idle": "2023-08-18T07:03:54.005009Z",
     "shell.execute_reply": "2023-08-18T07:03:54.003606Z"
    },
    "papermill": {
     "duration": 0.03328,
     "end_time": "2023-08-18T07:03:54.007986",
     "exception": false,
     "start_time": "2023-08-18T07:03:53.974706",
     "status": "completed"
    },
    "tags": []
   },
   "outputs": [
    {
     "data": {
      "text/plain": [
       "0    91.0\n",
       "1    65.0\n",
       "2    45.0\n",
       "3    36.0\n",
       "4    66.0\n",
       "Name: Performance Index, dtype: float64"
      ]
     },
     "execution_count": 19,
     "metadata": {},
     "output_type": "execute_result"
    }
   ],
   "source": [
    "y.head()"
   ]
  },
  {
   "cell_type": "markdown",
   "id": "c8883c24",
   "metadata": {
    "papermill": {
     "duration": 0.017018,
     "end_time": "2023-08-18T07:03:54.043633",
     "exception": false,
     "start_time": "2023-08-18T07:03:54.026615",
     "status": "completed"
    },
    "tags": []
   },
   "source": [
    "**splitting into training and testing the data**"
   ]
  },
  {
   "cell_type": "code",
   "execution_count": 20,
   "id": "92b2b23d",
   "metadata": {
    "execution": {
     "iopub.execute_input": "2023-08-18T07:03:54.082829Z",
     "iopub.status.busy": "2023-08-18T07:03:54.082376Z",
     "iopub.status.idle": "2023-08-18T07:03:54.429298Z",
     "shell.execute_reply": "2023-08-18T07:03:54.427908Z"
    },
    "papermill": {
     "duration": 0.370652,
     "end_time": "2023-08-18T07:03:54.432174",
     "exception": false,
     "start_time": "2023-08-18T07:03:54.061522",
     "status": "completed"
    },
    "tags": []
   },
   "outputs": [],
   "source": [
    "from sklearn.model_selection import train_test_split"
   ]
  },
  {
   "cell_type": "code",
   "execution_count": 21,
   "id": "65bb04a6",
   "metadata": {
    "execution": {
     "iopub.execute_input": "2023-08-18T07:03:54.470680Z",
     "iopub.status.busy": "2023-08-18T07:03:54.470209Z",
     "iopub.status.idle": "2023-08-18T07:03:54.479589Z",
     "shell.execute_reply": "2023-08-18T07:03:54.478457Z"
    },
    "papermill": {
     "duration": 0.032914,
     "end_time": "2023-08-18T07:03:54.482294",
     "exception": false,
     "start_time": "2023-08-18T07:03:54.449380",
     "status": "completed"
    },
    "tags": []
   },
   "outputs": [],
   "source": [
    "x_train,x_test,y_train,y_test = train_test_split(x,y, train_size = 0.75,test_size = 0.25, random_state = 1234)"
   ]
  },
  {
   "cell_type": "code",
   "execution_count": 22,
   "id": "305570c6",
   "metadata": {
    "execution": {
     "iopub.execute_input": "2023-08-18T07:03:54.521317Z",
     "iopub.status.busy": "2023-08-18T07:03:54.520123Z",
     "iopub.status.idle": "2023-08-18T07:03:54.533899Z",
     "shell.execute_reply": "2023-08-18T07:03:54.532314Z"
    },
    "papermill": {
     "duration": 0.03577,
     "end_time": "2023-08-18T07:03:54.536872",
     "exception": false,
     "start_time": "2023-08-18T07:03:54.501102",
     "status": "completed"
    },
    "tags": []
   },
   "outputs": [
    {
     "data": {
      "text/html": [
       "<div>\n",
       "<style scoped>\n",
       "    .dataframe tbody tr th:only-of-type {\n",
       "        vertical-align: middle;\n",
       "    }\n",
       "\n",
       "    .dataframe tbody tr th {\n",
       "        vertical-align: top;\n",
       "    }\n",
       "\n",
       "    .dataframe thead th {\n",
       "        text-align: right;\n",
       "    }\n",
       "</style>\n",
       "<table border=\"1\" class=\"dataframe\">\n",
       "  <thead>\n",
       "    <tr style=\"text-align: right;\">\n",
       "      <th></th>\n",
       "      <th>Hours Studied</th>\n",
       "      <th>Previous Scores</th>\n",
       "      <th>Extracurricular Activities</th>\n",
       "      <th>Sleep Hours</th>\n",
       "      <th>Sample Question Papers Practiced</th>\n",
       "    </tr>\n",
       "  </thead>\n",
       "  <tbody>\n",
       "    <tr>\n",
       "      <th>177</th>\n",
       "      <td>5</td>\n",
       "      <td>81</td>\n",
       "      <td>1</td>\n",
       "      <td>5</td>\n",
       "      <td>7</td>\n",
       "    </tr>\n",
       "    <tr>\n",
       "      <th>6426</th>\n",
       "      <td>3</td>\n",
       "      <td>98</td>\n",
       "      <td>0</td>\n",
       "      <td>6</td>\n",
       "      <td>4</td>\n",
       "    </tr>\n",
       "    <tr>\n",
       "      <th>6671</th>\n",
       "      <td>7</td>\n",
       "      <td>54</td>\n",
       "      <td>1</td>\n",
       "      <td>5</td>\n",
       "      <td>6</td>\n",
       "    </tr>\n",
       "    <tr>\n",
       "      <th>4134</th>\n",
       "      <td>2</td>\n",
       "      <td>76</td>\n",
       "      <td>0</td>\n",
       "      <td>7</td>\n",
       "      <td>1</td>\n",
       "    </tr>\n",
       "    <tr>\n",
       "      <th>6327</th>\n",
       "      <td>1</td>\n",
       "      <td>71</td>\n",
       "      <td>0</td>\n",
       "      <td>5</td>\n",
       "      <td>1</td>\n",
       "    </tr>\n",
       "  </tbody>\n",
       "</table>\n",
       "</div>"
      ],
      "text/plain": [
       "      Hours Studied  Previous Scores  Extracurricular Activities  Sleep Hours  \\\n",
       "177               5               81                           1            5   \n",
       "6426              3               98                           0            6   \n",
       "6671              7               54                           1            5   \n",
       "4134              2               76                           0            7   \n",
       "6327              1               71                           0            5   \n",
       "\n",
       "      Sample Question Papers Practiced  \n",
       "177                                  7  \n",
       "6426                                 4  \n",
       "6671                                 6  \n",
       "4134                                 1  \n",
       "6327                                 1  "
      ]
     },
     "execution_count": 22,
     "metadata": {},
     "output_type": "execute_result"
    }
   ],
   "source": [
    "x_train.head()"
   ]
  },
  {
   "cell_type": "code",
   "execution_count": 23,
   "id": "99b443a0",
   "metadata": {
    "execution": {
     "iopub.execute_input": "2023-08-18T07:03:54.574713Z",
     "iopub.status.busy": "2023-08-18T07:03:54.573802Z",
     "iopub.status.idle": "2023-08-18T07:03:54.698032Z",
     "shell.execute_reply": "2023-08-18T07:03:54.696889Z"
    },
    "papermill": {
     "duration": 0.14663,
     "end_time": "2023-08-18T07:03:54.701187",
     "exception": false,
     "start_time": "2023-08-18T07:03:54.554557",
     "status": "completed"
    },
    "tags": []
   },
   "outputs": [],
   "source": [
    "from sklearn.linear_model import LinearRegression"
   ]
  },
  {
   "cell_type": "code",
   "execution_count": 24,
   "id": "181c2ffd",
   "metadata": {
    "execution": {
     "iopub.execute_input": "2023-08-18T07:03:54.740594Z",
     "iopub.status.busy": "2023-08-18T07:03:54.739804Z",
     "iopub.status.idle": "2023-08-18T07:03:54.745353Z",
     "shell.execute_reply": "2023-08-18T07:03:54.744352Z"
    },
    "papermill": {
     "duration": 0.029954,
     "end_time": "2023-08-18T07:03:54.748770",
     "exception": false,
     "start_time": "2023-08-18T07:03:54.718816",
     "status": "completed"
    },
    "tags": []
   },
   "outputs": [],
   "source": [
    "lr = LinearRegression()"
   ]
  },
  {
   "cell_type": "code",
   "execution_count": 25,
   "id": "e4148fba",
   "metadata": {
    "execution": {
     "iopub.execute_input": "2023-08-18T07:03:54.789304Z",
     "iopub.status.busy": "2023-08-18T07:03:54.788553Z",
     "iopub.status.idle": "2023-08-18T07:03:54.831942Z",
     "shell.execute_reply": "2023-08-18T07:03:54.830789Z"
    },
    "papermill": {
     "duration": 0.06817,
     "end_time": "2023-08-18T07:03:54.834917",
     "exception": false,
     "start_time": "2023-08-18T07:03:54.766747",
     "status": "completed"
    },
    "tags": []
   },
   "outputs": [
    {
     "data": {
      "text/html": [
       "<style>#sk-container-id-1 {color: black;background-color: white;}#sk-container-id-1 pre{padding: 0;}#sk-container-id-1 div.sk-toggleable {background-color: white;}#sk-container-id-1 label.sk-toggleable__label {cursor: pointer;display: block;width: 100%;margin-bottom: 0;padding: 0.3em;box-sizing: border-box;text-align: center;}#sk-container-id-1 label.sk-toggleable__label-arrow:before {content: \"▸\";float: left;margin-right: 0.25em;color: #696969;}#sk-container-id-1 label.sk-toggleable__label-arrow:hover:before {color: black;}#sk-container-id-1 div.sk-estimator:hover label.sk-toggleable__label-arrow:before {color: black;}#sk-container-id-1 div.sk-toggleable__content {max-height: 0;max-width: 0;overflow: hidden;text-align: left;background-color: #f0f8ff;}#sk-container-id-1 div.sk-toggleable__content pre {margin: 0.2em;color: black;border-radius: 0.25em;background-color: #f0f8ff;}#sk-container-id-1 input.sk-toggleable__control:checked~div.sk-toggleable__content {max-height: 200px;max-width: 100%;overflow: auto;}#sk-container-id-1 input.sk-toggleable__control:checked~label.sk-toggleable__label-arrow:before {content: \"▾\";}#sk-container-id-1 div.sk-estimator input.sk-toggleable__control:checked~label.sk-toggleable__label {background-color: #d4ebff;}#sk-container-id-1 div.sk-label input.sk-toggleable__control:checked~label.sk-toggleable__label {background-color: #d4ebff;}#sk-container-id-1 input.sk-hidden--visually {border: 0;clip: rect(1px 1px 1px 1px);clip: rect(1px, 1px, 1px, 1px);height: 1px;margin: -1px;overflow: hidden;padding: 0;position: absolute;width: 1px;}#sk-container-id-1 div.sk-estimator {font-family: monospace;background-color: #f0f8ff;border: 1px dotted black;border-radius: 0.25em;box-sizing: border-box;margin-bottom: 0.5em;}#sk-container-id-1 div.sk-estimator:hover {background-color: #d4ebff;}#sk-container-id-1 div.sk-parallel-item::after {content: \"\";width: 100%;border-bottom: 1px solid gray;flex-grow: 1;}#sk-container-id-1 div.sk-label:hover label.sk-toggleable__label {background-color: #d4ebff;}#sk-container-id-1 div.sk-serial::before {content: \"\";position: absolute;border-left: 1px solid gray;box-sizing: border-box;top: 0;bottom: 0;left: 50%;z-index: 0;}#sk-container-id-1 div.sk-serial {display: flex;flex-direction: column;align-items: center;background-color: white;padding-right: 0.2em;padding-left: 0.2em;position: relative;}#sk-container-id-1 div.sk-item {position: relative;z-index: 1;}#sk-container-id-1 div.sk-parallel {display: flex;align-items: stretch;justify-content: center;background-color: white;position: relative;}#sk-container-id-1 div.sk-item::before, #sk-container-id-1 div.sk-parallel-item::before {content: \"\";position: absolute;border-left: 1px solid gray;box-sizing: border-box;top: 0;bottom: 0;left: 50%;z-index: -1;}#sk-container-id-1 div.sk-parallel-item {display: flex;flex-direction: column;z-index: 1;position: relative;background-color: white;}#sk-container-id-1 div.sk-parallel-item:first-child::after {align-self: flex-end;width: 50%;}#sk-container-id-1 div.sk-parallel-item:last-child::after {align-self: flex-start;width: 50%;}#sk-container-id-1 div.sk-parallel-item:only-child::after {width: 0;}#sk-container-id-1 div.sk-dashed-wrapped {border: 1px dashed gray;margin: 0 0.4em 0.5em 0.4em;box-sizing: border-box;padding-bottom: 0.4em;background-color: white;}#sk-container-id-1 div.sk-label label {font-family: monospace;font-weight: bold;display: inline-block;line-height: 1.2em;}#sk-container-id-1 div.sk-label-container {text-align: center;}#sk-container-id-1 div.sk-container {/* jupyter's `normalize.less` sets `[hidden] { display: none; }` but bootstrap.min.css set `[hidden] { display: none !important; }` so we also need the `!important` here to be able to override the default hidden behavior on the sphinx rendered scikit-learn.org. See: https://github.com/scikit-learn/scikit-learn/issues/21755 */display: inline-block !important;position: relative;}#sk-container-id-1 div.sk-text-repr-fallback {display: none;}</style><div id=\"sk-container-id-1\" class=\"sk-top-container\"><div class=\"sk-text-repr-fallback\"><pre>LinearRegression()</pre><b>In a Jupyter environment, please rerun this cell to show the HTML representation or trust the notebook. <br />On GitHub, the HTML representation is unable to render, please try loading this page with nbviewer.org.</b></div><div class=\"sk-container\" hidden><div class=\"sk-item\"><div class=\"sk-estimator sk-toggleable\"><input class=\"sk-toggleable__control sk-hidden--visually\" id=\"sk-estimator-id-1\" type=\"checkbox\" checked><label for=\"sk-estimator-id-1\" class=\"sk-toggleable__label sk-toggleable__label-arrow\">LinearRegression</label><div class=\"sk-toggleable__content\"><pre>LinearRegression()</pre></div></div></div></div></div>"
      ],
      "text/plain": [
       "LinearRegression()"
      ]
     },
     "execution_count": 25,
     "metadata": {},
     "output_type": "execute_result"
    }
   ],
   "source": [
    "lr.fit(x_train,y_train)"
   ]
  },
  {
   "cell_type": "code",
   "execution_count": 26,
   "id": "91d26784",
   "metadata": {
    "execution": {
     "iopub.execute_input": "2023-08-18T07:03:54.874596Z",
     "iopub.status.busy": "2023-08-18T07:03:54.874128Z",
     "iopub.status.idle": "2023-08-18T07:03:54.887272Z",
     "shell.execute_reply": "2023-08-18T07:03:54.885217Z"
    },
    "papermill": {
     "duration": 0.039201,
     "end_time": "2023-08-18T07:03:54.893126",
     "exception": false,
     "start_time": "2023-08-18T07:03:54.853925",
     "status": "completed"
    },
    "tags": []
   },
   "outputs": [],
   "source": [
    "y_pred_test = lr.predict(x_test)"
   ]
  },
  {
   "cell_type": "code",
   "execution_count": 27,
   "id": "8e1c0aba",
   "metadata": {
    "execution": {
     "iopub.execute_input": "2023-08-18T07:03:54.977587Z",
     "iopub.status.busy": "2023-08-18T07:03:54.976698Z",
     "iopub.status.idle": "2023-08-18T07:03:54.995300Z",
     "shell.execute_reply": "2023-08-18T07:03:54.992580Z"
    },
    "papermill": {
     "duration": 0.070021,
     "end_time": "2023-08-18T07:03:55.003747",
     "exception": false,
     "start_time": "2023-08-18T07:03:54.933726",
     "status": "completed"
    },
    "tags": []
   },
   "outputs": [
    {
     "data": {
      "text/plain": [
       "array([35.51897919, 44.25762017, 83.54472984, ..., 55.65659248,\n",
       "       46.00819476, 55.07386075])"
      ]
     },
     "execution_count": 27,
     "metadata": {},
     "output_type": "execute_result"
    }
   ],
   "source": [
    "y_pred_test"
   ]
  },
  {
   "cell_type": "code",
   "execution_count": 28,
   "id": "84a02a22",
   "metadata": {
    "execution": {
     "iopub.execute_input": "2023-08-18T07:03:55.043980Z",
     "iopub.status.busy": "2023-08-18T07:03:55.043512Z",
     "iopub.status.idle": "2023-08-18T07:03:55.053555Z",
     "shell.execute_reply": "2023-08-18T07:03:55.051453Z"
    },
    "papermill": {
     "duration": 0.036638,
     "end_time": "2023-08-18T07:03:55.058998",
     "exception": false,
     "start_time": "2023-08-18T07:03:55.022360",
     "status": "completed"
    },
    "tags": []
   },
   "outputs": [],
   "source": [
    "y_pred_train = lr.predict(x_train)"
   ]
  },
  {
   "cell_type": "markdown",
   "id": "889fde2d",
   "metadata": {
    "papermill": {
     "duration": 0.039136,
     "end_time": "2023-08-18T07:03:55.141083",
     "exception": false,
     "start_time": "2023-08-18T07:03:55.101947",
     "status": "completed"
    },
    "tags": []
   },
   "source": [
    "**now we are doing evaluation**"
   ]
  },
  {
   "cell_type": "markdown",
   "id": "a6f892a0",
   "metadata": {
    "papermill": {
     "duration": 0.020412,
     "end_time": "2023-08-18T07:03:55.196682",
     "exception": false,
     "start_time": "2023-08-18T07:03:55.176270",
     "status": "completed"
    },
    "tags": []
   },
   "source": [
    "Mean Squared Error (MSE)\n",
    "\n",
    "Root Mean Squared Error (RMSE)\n",
    "\n",
    "Mean Absolute Error (MAE)\n",
    "\n",
    "R-squared (R2)\n",
    "\n",
    "Adjusted R-squared"
   ]
  },
  {
   "cell_type": "code",
   "execution_count": 29,
   "id": "b7b53b6a",
   "metadata": {
    "execution": {
     "iopub.execute_input": "2023-08-18T07:03:55.239394Z",
     "iopub.status.busy": "2023-08-18T07:03:55.238491Z",
     "iopub.status.idle": "2023-08-18T07:03:55.245870Z",
     "shell.execute_reply": "2023-08-18T07:03:55.244043Z"
    },
    "papermill": {
     "duration": 0.032996,
     "end_time": "2023-08-18T07:03:55.249054",
     "exception": false,
     "start_time": "2023-08-18T07:03:55.216058",
     "status": "completed"
    },
    "tags": []
   },
   "outputs": [],
   "source": [
    "from sklearn.metrics import mean_squared_error,r2_score"
   ]
  },
  {
   "cell_type": "code",
   "execution_count": 30,
   "id": "f0287dfe",
   "metadata": {
    "execution": {
     "iopub.execute_input": "2023-08-18T07:03:55.290688Z",
     "iopub.status.busy": "2023-08-18T07:03:55.289320Z",
     "iopub.status.idle": "2023-08-18T07:03:55.298733Z",
     "shell.execute_reply": "2023-08-18T07:03:55.296772Z"
    },
    "papermill": {
     "duration": 0.033809,
     "end_time": "2023-08-18T07:03:55.301903",
     "exception": false,
     "start_time": "2023-08-18T07:03:55.268094",
     "status": "completed"
    },
    "tags": []
   },
   "outputs": [],
   "source": [
    "test_mse = mean_squared_error(y_test,y_pred_test)\n",
    "train_mse = mean_squared_error(y_train,y_pred_train)"
   ]
  },
  {
   "cell_type": "code",
   "execution_count": 31,
   "id": "a1f733ee",
   "metadata": {
    "execution": {
     "iopub.execute_input": "2023-08-18T07:03:55.342182Z",
     "iopub.status.busy": "2023-08-18T07:03:55.341755Z",
     "iopub.status.idle": "2023-08-18T07:03:55.347944Z",
     "shell.execute_reply": "2023-08-18T07:03:55.346524Z"
    },
    "papermill": {
     "duration": 0.0305,
     "end_time": "2023-08-18T07:03:55.351362",
     "exception": false,
     "start_time": "2023-08-18T07:03:55.320862",
     "status": "completed"
    },
    "tags": []
   },
   "outputs": [
    {
     "name": "stdout",
     "output_type": "stream",
     "text": [
      "testing data mse: 4.321875441560404\n",
      "training data mse: 4.129920440241684\n"
     ]
    }
   ],
   "source": [
    "print('testing data mse:',test_mse)\n",
    "print('training data mse:',train_mse)"
   ]
  },
  {
   "cell_type": "code",
   "execution_count": 32,
   "id": "f2dd92d3",
   "metadata": {
    "execution": {
     "iopub.execute_input": "2023-08-18T07:03:55.392747Z",
     "iopub.status.busy": "2023-08-18T07:03:55.392306Z",
     "iopub.status.idle": "2023-08-18T07:03:55.403265Z",
     "shell.execute_reply": "2023-08-18T07:03:55.401788Z"
    },
    "papermill": {
     "duration": 0.035431,
     "end_time": "2023-08-18T07:03:55.406689",
     "exception": false,
     "start_time": "2023-08-18T07:03:55.371258",
     "status": "completed"
    },
    "tags": []
   },
   "outputs": [],
   "source": [
    "r_square_train = r2_score(y_train,y_pred_train)\n",
    "r_square_test = r2_score(y_test,y_pred_test)"
   ]
  },
  {
   "cell_type": "code",
   "execution_count": 33,
   "id": "bb109510",
   "metadata": {
    "execution": {
     "iopub.execute_input": "2023-08-18T07:03:55.448659Z",
     "iopub.status.busy": "2023-08-18T07:03:55.448145Z",
     "iopub.status.idle": "2023-08-18T07:03:55.455448Z",
     "shell.execute_reply": "2023-08-18T07:03:55.453441Z"
    },
    "papermill": {
     "duration": 0.034402,
     "end_time": "2023-08-18T07:03:55.460466",
     "exception": false,
     "start_time": "2023-08-18T07:03:55.426064",
     "status": "completed"
    },
    "tags": []
   },
   "outputs": [
    {
     "name": "stdout",
     "output_type": "stream",
     "text": [
      "accuracy of training data 0.9888594400309599\n",
      "accuracy of testing data: 0.9881072267801202\n"
     ]
    }
   ],
   "source": [
    "print('accuracy of training data',r_square_train)\n",
    "print('accuracy of testing data:',r_square_test)"
   ]
  },
  {
   "cell_type": "markdown",
   "id": "15b1b5e5",
   "metadata": {
    "papermill": {
     "duration": 0.019308,
     "end_time": "2023-08-18T07:03:55.501291",
     "exception": false,
     "start_time": "2023-08-18T07:03:55.481983",
     "status": "completed"
    },
    "tags": []
   },
   "source": [
    "r2_sqaure value of testing and training so we cann say that our model is generalised"
   ]
  },
  {
   "cell_type": "code",
   "execution_count": null,
   "id": "13781349",
   "metadata": {
    "papermill": {
     "duration": 0.019105,
     "end_time": "2023-08-18T07:03:55.539495",
     "exception": false,
     "start_time": "2023-08-18T07:03:55.520390",
     "status": "completed"
    },
    "tags": []
   },
   "outputs": [],
   "source": []
  }
 ],
 "metadata": {
  "kernelspec": {
   "display_name": "Python 3",
   "language": "python",
   "name": "python3"
  },
  "language_info": {
   "codemirror_mode": {
    "name": "ipython",
    "version": 3
   },
   "file_extension": ".py",
   "mimetype": "text/x-python",
   "name": "python",
   "nbconvert_exporter": "python",
   "pygments_lexer": "ipython3",
   "version": "3.10.12"
  },
  "papermill": {
   "default_parameters": {},
   "duration": 21.786941,
   "end_time": "2023-08-18T07:03:56.785950",
   "environment_variables": {},
   "exception": null,
   "input_path": "__notebook__.ipynb",
   "output_path": "__notebook__.ipynb",
   "parameters": {},
   "start_time": "2023-08-18T07:03:34.999009",
   "version": "2.4.0"
  }
 },
 "nbformat": 4,
 "nbformat_minor": 5
}
