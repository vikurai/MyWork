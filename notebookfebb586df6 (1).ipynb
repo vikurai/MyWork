{
 "cells": [
  {
   "cell_type": "code",
   "execution_count": 1,
   "id": "7d26494b",
   "metadata": {
    "_cell_guid": "b1076dfc-b9ad-4769-8c92-a6c4dae69d19",
    "_uuid": "8f2839f25d086af736a60e9eeb907d3b93b6e0e5",
    "execution": {
     "iopub.execute_input": "2023-02-16T05:12:22.257424Z",
     "iopub.status.busy": "2023-02-16T05:12:22.256730Z",
     "iopub.status.idle": "2023-02-16T05:12:22.274123Z",
     "shell.execute_reply": "2023-02-16T05:12:22.273025Z"
    },
    "papermill": {
     "duration": 0.029953,
     "end_time": "2023-02-16T05:12:22.276296",
     "exception": false,
     "start_time": "2023-02-16T05:12:22.246343",
     "status": "completed"
    },
    "tags": []
   },
   "outputs": [
    {
     "name": "stdout",
     "output_type": "stream",
     "text": [
      "/kaggle/input/hotel-reservations-classification-dataset/Hotel Reservations.csv\n"
     ]
    }
   ],
   "source": [
    "# This Python 3 environment comes with many helpful analytics libraries installed\n",
    "# It is defined by the kaggle/python Docker image: https://github.com/kaggle/docker-python\n",
    "# For example, here's several helpful packages to load\n",
    "\n",
    "import numpy as np # linear algebra\n",
    "import pandas as pd # data processing, CSV file I/O (e.g. pd.read_csv)\n",
    "\n",
    "# Input data files are available in the read-only \"../input/\" directory\n",
    "# For example, running this (by clicking run or pressing Shift+Enter) will list all files under the input directory\n",
    "\n",
    "import os\n",
    "for dirname, _, filenames in os.walk('/kaggle/input'):\n",
    "    for filename in filenames:\n",
    "        print(os.path.join(dirname, filename))\n",
    "\n",
    "# You can write up to 20GB to the current directory (/kaggle/working/) that gets preserved as output when you create a version using \"Save & Run All\" \n",
    "# You can also write temporary files to /kaggle/temp/, but they won't be saved outside of the current session"
   ]
  },
  {
   "cell_type": "code",
   "execution_count": 2,
   "id": "b52e84d0",
   "metadata": {
    "execution": {
     "iopub.execute_input": "2023-02-16T05:12:22.293481Z",
     "iopub.status.busy": "2023-02-16T05:12:22.293084Z",
     "iopub.status.idle": "2023-02-16T05:12:22.423198Z",
     "shell.execute_reply": "2023-02-16T05:12:22.421898Z"
    },
    "papermill": {
     "duration": 0.141645,
     "end_time": "2023-02-16T05:12:22.425962",
     "exception": false,
     "start_time": "2023-02-16T05:12:22.284317",
     "status": "completed"
    },
    "tags": []
   },
   "outputs": [],
   "source": [
    "data = pd.read_csv(\"/kaggle/input/hotel-reservations-classification-dataset/Hotel Reservations.csv\")"
   ]
  },
  {
   "cell_type": "code",
   "execution_count": 3,
   "id": "7a390d15",
   "metadata": {
    "execution": {
     "iopub.execute_input": "2023-02-16T05:12:22.442409Z",
     "iopub.status.busy": "2023-02-16T05:12:22.442042Z",
     "iopub.status.idle": "2023-02-16T05:12:22.468792Z",
     "shell.execute_reply": "2023-02-16T05:12:22.467826Z"
    },
    "papermill": {
     "duration": 0.03721,
     "end_time": "2023-02-16T05:12:22.470767",
     "exception": false,
     "start_time": "2023-02-16T05:12:22.433557",
     "status": "completed"
    },
    "tags": []
   },
   "outputs": [
    {
     "data": {
      "text/html": [
       "<div>\n",
       "<style scoped>\n",
       "    .dataframe tbody tr th:only-of-type {\n",
       "        vertical-align: middle;\n",
       "    }\n",
       "\n",
       "    .dataframe tbody tr th {\n",
       "        vertical-align: top;\n",
       "    }\n",
       "\n",
       "    .dataframe thead th {\n",
       "        text-align: right;\n",
       "    }\n",
       "</style>\n",
       "<table border=\"1\" class=\"dataframe\">\n",
       "  <thead>\n",
       "    <tr style=\"text-align: right;\">\n",
       "      <th></th>\n",
       "      <th>Booking_ID</th>\n",
       "      <th>no_of_adults</th>\n",
       "      <th>no_of_children</th>\n",
       "      <th>no_of_weekend_nights</th>\n",
       "      <th>no_of_week_nights</th>\n",
       "      <th>type_of_meal_plan</th>\n",
       "      <th>required_car_parking_space</th>\n",
       "      <th>room_type_reserved</th>\n",
       "      <th>lead_time</th>\n",
       "      <th>arrival_year</th>\n",
       "      <th>arrival_month</th>\n",
       "      <th>arrival_date</th>\n",
       "      <th>market_segment_type</th>\n",
       "      <th>repeated_guest</th>\n",
       "      <th>no_of_previous_cancellations</th>\n",
       "      <th>no_of_previous_bookings_not_canceled</th>\n",
       "      <th>avg_price_per_room</th>\n",
       "      <th>no_of_special_requests</th>\n",
       "      <th>booking_status</th>\n",
       "    </tr>\n",
       "  </thead>\n",
       "  <tbody>\n",
       "    <tr>\n",
       "      <th>0</th>\n",
       "      <td>INN00001</td>\n",
       "      <td>2</td>\n",
       "      <td>0</td>\n",
       "      <td>1</td>\n",
       "      <td>2</td>\n",
       "      <td>Meal Plan 1</td>\n",
       "      <td>0</td>\n",
       "      <td>Room_Type 1</td>\n",
       "      <td>224</td>\n",
       "      <td>2017</td>\n",
       "      <td>10</td>\n",
       "      <td>2</td>\n",
       "      <td>Offline</td>\n",
       "      <td>0</td>\n",
       "      <td>0</td>\n",
       "      <td>0</td>\n",
       "      <td>65.00</td>\n",
       "      <td>0</td>\n",
       "      <td>Not_Canceled</td>\n",
       "    </tr>\n",
       "    <tr>\n",
       "      <th>1</th>\n",
       "      <td>INN00002</td>\n",
       "      <td>2</td>\n",
       "      <td>0</td>\n",
       "      <td>2</td>\n",
       "      <td>3</td>\n",
       "      <td>Not Selected</td>\n",
       "      <td>0</td>\n",
       "      <td>Room_Type 1</td>\n",
       "      <td>5</td>\n",
       "      <td>2018</td>\n",
       "      <td>11</td>\n",
       "      <td>6</td>\n",
       "      <td>Online</td>\n",
       "      <td>0</td>\n",
       "      <td>0</td>\n",
       "      <td>0</td>\n",
       "      <td>106.68</td>\n",
       "      <td>1</td>\n",
       "      <td>Not_Canceled</td>\n",
       "    </tr>\n",
       "    <tr>\n",
       "      <th>2</th>\n",
       "      <td>INN00003</td>\n",
       "      <td>1</td>\n",
       "      <td>0</td>\n",
       "      <td>2</td>\n",
       "      <td>1</td>\n",
       "      <td>Meal Plan 1</td>\n",
       "      <td>0</td>\n",
       "      <td>Room_Type 1</td>\n",
       "      <td>1</td>\n",
       "      <td>2018</td>\n",
       "      <td>2</td>\n",
       "      <td>28</td>\n",
       "      <td>Online</td>\n",
       "      <td>0</td>\n",
       "      <td>0</td>\n",
       "      <td>0</td>\n",
       "      <td>60.00</td>\n",
       "      <td>0</td>\n",
       "      <td>Canceled</td>\n",
       "    </tr>\n",
       "    <tr>\n",
       "      <th>3</th>\n",
       "      <td>INN00004</td>\n",
       "      <td>2</td>\n",
       "      <td>0</td>\n",
       "      <td>0</td>\n",
       "      <td>2</td>\n",
       "      <td>Meal Plan 1</td>\n",
       "      <td>0</td>\n",
       "      <td>Room_Type 1</td>\n",
       "      <td>211</td>\n",
       "      <td>2018</td>\n",
       "      <td>5</td>\n",
       "      <td>20</td>\n",
       "      <td>Online</td>\n",
       "      <td>0</td>\n",
       "      <td>0</td>\n",
       "      <td>0</td>\n",
       "      <td>100.00</td>\n",
       "      <td>0</td>\n",
       "      <td>Canceled</td>\n",
       "    </tr>\n",
       "    <tr>\n",
       "      <th>4</th>\n",
       "      <td>INN00005</td>\n",
       "      <td>2</td>\n",
       "      <td>0</td>\n",
       "      <td>1</td>\n",
       "      <td>1</td>\n",
       "      <td>Not Selected</td>\n",
       "      <td>0</td>\n",
       "      <td>Room_Type 1</td>\n",
       "      <td>48</td>\n",
       "      <td>2018</td>\n",
       "      <td>4</td>\n",
       "      <td>11</td>\n",
       "      <td>Online</td>\n",
       "      <td>0</td>\n",
       "      <td>0</td>\n",
       "      <td>0</td>\n",
       "      <td>94.50</td>\n",
       "      <td>0</td>\n",
       "      <td>Canceled</td>\n",
       "    </tr>\n",
       "    <tr>\n",
       "      <th>5</th>\n",
       "      <td>INN00006</td>\n",
       "      <td>2</td>\n",
       "      <td>0</td>\n",
       "      <td>0</td>\n",
       "      <td>2</td>\n",
       "      <td>Meal Plan 2</td>\n",
       "      <td>0</td>\n",
       "      <td>Room_Type 1</td>\n",
       "      <td>346</td>\n",
       "      <td>2018</td>\n",
       "      <td>9</td>\n",
       "      <td>13</td>\n",
       "      <td>Online</td>\n",
       "      <td>0</td>\n",
       "      <td>0</td>\n",
       "      <td>0</td>\n",
       "      <td>115.00</td>\n",
       "      <td>1</td>\n",
       "      <td>Canceled</td>\n",
       "    </tr>\n",
       "    <tr>\n",
       "      <th>6</th>\n",
       "      <td>INN00007</td>\n",
       "      <td>2</td>\n",
       "      <td>0</td>\n",
       "      <td>1</td>\n",
       "      <td>3</td>\n",
       "      <td>Meal Plan 1</td>\n",
       "      <td>0</td>\n",
       "      <td>Room_Type 1</td>\n",
       "      <td>34</td>\n",
       "      <td>2017</td>\n",
       "      <td>10</td>\n",
       "      <td>15</td>\n",
       "      <td>Online</td>\n",
       "      <td>0</td>\n",
       "      <td>0</td>\n",
       "      <td>0</td>\n",
       "      <td>107.55</td>\n",
       "      <td>1</td>\n",
       "      <td>Not_Canceled</td>\n",
       "    </tr>\n",
       "    <tr>\n",
       "      <th>7</th>\n",
       "      <td>INN00008</td>\n",
       "      <td>2</td>\n",
       "      <td>0</td>\n",
       "      <td>1</td>\n",
       "      <td>3</td>\n",
       "      <td>Meal Plan 1</td>\n",
       "      <td>0</td>\n",
       "      <td>Room_Type 4</td>\n",
       "      <td>83</td>\n",
       "      <td>2018</td>\n",
       "      <td>12</td>\n",
       "      <td>26</td>\n",
       "      <td>Online</td>\n",
       "      <td>0</td>\n",
       "      <td>0</td>\n",
       "      <td>0</td>\n",
       "      <td>105.61</td>\n",
       "      <td>1</td>\n",
       "      <td>Not_Canceled</td>\n",
       "    </tr>\n",
       "    <tr>\n",
       "      <th>8</th>\n",
       "      <td>INN00009</td>\n",
       "      <td>3</td>\n",
       "      <td>0</td>\n",
       "      <td>0</td>\n",
       "      <td>4</td>\n",
       "      <td>Meal Plan 1</td>\n",
       "      <td>0</td>\n",
       "      <td>Room_Type 1</td>\n",
       "      <td>121</td>\n",
       "      <td>2018</td>\n",
       "      <td>7</td>\n",
       "      <td>6</td>\n",
       "      <td>Offline</td>\n",
       "      <td>0</td>\n",
       "      <td>0</td>\n",
       "      <td>0</td>\n",
       "      <td>96.90</td>\n",
       "      <td>1</td>\n",
       "      <td>Not_Canceled</td>\n",
       "    </tr>\n",
       "    <tr>\n",
       "      <th>9</th>\n",
       "      <td>INN00010</td>\n",
       "      <td>2</td>\n",
       "      <td>0</td>\n",
       "      <td>0</td>\n",
       "      <td>5</td>\n",
       "      <td>Meal Plan 1</td>\n",
       "      <td>0</td>\n",
       "      <td>Room_Type 4</td>\n",
       "      <td>44</td>\n",
       "      <td>2018</td>\n",
       "      <td>10</td>\n",
       "      <td>18</td>\n",
       "      <td>Online</td>\n",
       "      <td>0</td>\n",
       "      <td>0</td>\n",
       "      <td>0</td>\n",
       "      <td>133.44</td>\n",
       "      <td>3</td>\n",
       "      <td>Not_Canceled</td>\n",
       "    </tr>\n",
       "  </tbody>\n",
       "</table>\n",
       "</div>"
      ],
      "text/plain": [
       "  Booking_ID  no_of_adults  no_of_children  no_of_weekend_nights  \\\n",
       "0   INN00001             2               0                     1   \n",
       "1   INN00002             2               0                     2   \n",
       "2   INN00003             1               0                     2   \n",
       "3   INN00004             2               0                     0   \n",
       "4   INN00005             2               0                     1   \n",
       "5   INN00006             2               0                     0   \n",
       "6   INN00007             2               0                     1   \n",
       "7   INN00008             2               0                     1   \n",
       "8   INN00009             3               0                     0   \n",
       "9   INN00010             2               0                     0   \n",
       "\n",
       "   no_of_week_nights type_of_meal_plan  required_car_parking_space  \\\n",
       "0                  2       Meal Plan 1                           0   \n",
       "1                  3      Not Selected                           0   \n",
       "2                  1       Meal Plan 1                           0   \n",
       "3                  2       Meal Plan 1                           0   \n",
       "4                  1      Not Selected                           0   \n",
       "5                  2       Meal Plan 2                           0   \n",
       "6                  3       Meal Plan 1                           0   \n",
       "7                  3       Meal Plan 1                           0   \n",
       "8                  4       Meal Plan 1                           0   \n",
       "9                  5       Meal Plan 1                           0   \n",
       "\n",
       "  room_type_reserved  lead_time  arrival_year  arrival_month  arrival_date  \\\n",
       "0        Room_Type 1        224          2017             10             2   \n",
       "1        Room_Type 1          5          2018             11             6   \n",
       "2        Room_Type 1          1          2018              2            28   \n",
       "3        Room_Type 1        211          2018              5            20   \n",
       "4        Room_Type 1         48          2018              4            11   \n",
       "5        Room_Type 1        346          2018              9            13   \n",
       "6        Room_Type 1         34          2017             10            15   \n",
       "7        Room_Type 4         83          2018             12            26   \n",
       "8        Room_Type 1        121          2018              7             6   \n",
       "9        Room_Type 4         44          2018             10            18   \n",
       "\n",
       "  market_segment_type  repeated_guest  no_of_previous_cancellations  \\\n",
       "0             Offline               0                             0   \n",
       "1              Online               0                             0   \n",
       "2              Online               0                             0   \n",
       "3              Online               0                             0   \n",
       "4              Online               0                             0   \n",
       "5              Online               0                             0   \n",
       "6              Online               0                             0   \n",
       "7              Online               0                             0   \n",
       "8             Offline               0                             0   \n",
       "9              Online               0                             0   \n",
       "\n",
       "   no_of_previous_bookings_not_canceled  avg_price_per_room  \\\n",
       "0                                     0               65.00   \n",
       "1                                     0              106.68   \n",
       "2                                     0               60.00   \n",
       "3                                     0              100.00   \n",
       "4                                     0               94.50   \n",
       "5                                     0              115.00   \n",
       "6                                     0              107.55   \n",
       "7                                     0              105.61   \n",
       "8                                     0               96.90   \n",
       "9                                     0              133.44   \n",
       "\n",
       "   no_of_special_requests booking_status  \n",
       "0                       0   Not_Canceled  \n",
       "1                       1   Not_Canceled  \n",
       "2                       0       Canceled  \n",
       "3                       0       Canceled  \n",
       "4                       0       Canceled  \n",
       "5                       1       Canceled  \n",
       "6                       1   Not_Canceled  \n",
       "7                       1   Not_Canceled  \n",
       "8                       1   Not_Canceled  \n",
       "9                       3   Not_Canceled  "
      ]
     },
     "execution_count": 3,
     "metadata": {},
     "output_type": "execute_result"
    }
   ],
   "source": [
    "data.head(10)"
   ]
  },
  {
   "cell_type": "code",
   "execution_count": 4,
   "id": "36a07a82",
   "metadata": {
    "execution": {
     "iopub.execute_input": "2023-02-16T05:12:22.488327Z",
     "iopub.status.busy": "2023-02-16T05:12:22.487360Z",
     "iopub.status.idle": "2023-02-16T05:12:22.504985Z",
     "shell.execute_reply": "2023-02-16T05:12:22.504129Z"
    },
    "papermill": {
     "duration": 0.029262,
     "end_time": "2023-02-16T05:12:22.507879",
     "exception": false,
     "start_time": "2023-02-16T05:12:22.478617",
     "status": "completed"
    },
    "tags": []
   },
   "outputs": [
    {
     "data": {
      "text/plain": [
       "<bound method DataFrame.info of       Booking_ID  no_of_adults  no_of_children  no_of_weekend_nights  \\\n",
       "0       INN00001             2               0                     1   \n",
       "1       INN00002             2               0                     2   \n",
       "2       INN00003             1               0                     2   \n",
       "3       INN00004             2               0                     0   \n",
       "4       INN00005             2               0                     1   \n",
       "...          ...           ...             ...                   ...   \n",
       "36270   INN36271             3               0                     2   \n",
       "36271   INN36272             2               0                     1   \n",
       "36272   INN36273             2               0                     2   \n",
       "36273   INN36274             2               0                     0   \n",
       "36274   INN36275             2               0                     1   \n",
       "\n",
       "       no_of_week_nights type_of_meal_plan  required_car_parking_space  \\\n",
       "0                      2       Meal Plan 1                           0   \n",
       "1                      3      Not Selected                           0   \n",
       "2                      1       Meal Plan 1                           0   \n",
       "3                      2       Meal Plan 1                           0   \n",
       "4                      1      Not Selected                           0   \n",
       "...                  ...               ...                         ...   \n",
       "36270                  6       Meal Plan 1                           0   \n",
       "36271                  3       Meal Plan 1                           0   \n",
       "36272                  6       Meal Plan 1                           0   \n",
       "36273                  3      Not Selected                           0   \n",
       "36274                  2       Meal Plan 1                           0   \n",
       "\n",
       "      room_type_reserved  lead_time  arrival_year  arrival_month  \\\n",
       "0            Room_Type 1        224          2017             10   \n",
       "1            Room_Type 1          5          2018             11   \n",
       "2            Room_Type 1          1          2018              2   \n",
       "3            Room_Type 1        211          2018              5   \n",
       "4            Room_Type 1         48          2018              4   \n",
       "...                  ...        ...           ...            ...   \n",
       "36270        Room_Type 4         85          2018              8   \n",
       "36271        Room_Type 1        228          2018             10   \n",
       "36272        Room_Type 1        148          2018              7   \n",
       "36273        Room_Type 1         63          2018              4   \n",
       "36274        Room_Type 1        207          2018             12   \n",
       "\n",
       "       arrival_date market_segment_type  repeated_guest  \\\n",
       "0                 2             Offline               0   \n",
       "1                 6              Online               0   \n",
       "2                28              Online               0   \n",
       "3                20              Online               0   \n",
       "4                11              Online               0   \n",
       "...             ...                 ...             ...   \n",
       "36270             3              Online               0   \n",
       "36271            17              Online               0   \n",
       "36272             1              Online               0   \n",
       "36273            21              Online               0   \n",
       "36274            30             Offline               0   \n",
       "\n",
       "       no_of_previous_cancellations  no_of_previous_bookings_not_canceled  \\\n",
       "0                                 0                                     0   \n",
       "1                                 0                                     0   \n",
       "2                                 0                                     0   \n",
       "3                                 0                                     0   \n",
       "4                                 0                                     0   \n",
       "...                             ...                                   ...   \n",
       "36270                             0                                     0   \n",
       "36271                             0                                     0   \n",
       "36272                             0                                     0   \n",
       "36273                             0                                     0   \n",
       "36274                             0                                     0   \n",
       "\n",
       "       avg_price_per_room  no_of_special_requests booking_status  \n",
       "0                   65.00                       0   Not_Canceled  \n",
       "1                  106.68                       1   Not_Canceled  \n",
       "2                   60.00                       0       Canceled  \n",
       "3                  100.00                       0       Canceled  \n",
       "4                   94.50                       0       Canceled  \n",
       "...                   ...                     ...            ...  \n",
       "36270              167.80                       1   Not_Canceled  \n",
       "36271               90.95                       2       Canceled  \n",
       "36272               98.39                       2   Not_Canceled  \n",
       "36273               94.50                       0       Canceled  \n",
       "36274              161.67                       0   Not_Canceled  \n",
       "\n",
       "[36275 rows x 19 columns]>"
      ]
     },
     "execution_count": 4,
     "metadata": {},
     "output_type": "execute_result"
    }
   ],
   "source": [
    "data.info"
   ]
  },
  {
   "cell_type": "code",
   "execution_count": 5,
   "id": "077fbbe9",
   "metadata": {
    "execution": {
     "iopub.execute_input": "2023-02-16T05:12:22.526407Z",
     "iopub.status.busy": "2023-02-16T05:12:22.525961Z",
     "iopub.status.idle": "2023-02-16T05:12:22.532844Z",
     "shell.execute_reply": "2023-02-16T05:12:22.531404Z"
    },
    "papermill": {
     "duration": 0.018969,
     "end_time": "2023-02-16T05:12:22.535339",
     "exception": false,
     "start_time": "2023-02-16T05:12:22.516370",
     "status": "completed"
    },
    "tags": []
   },
   "outputs": [
    {
     "data": {
      "text/plain": [
       "(36275, 19)"
      ]
     },
     "execution_count": 5,
     "metadata": {},
     "output_type": "execute_result"
    }
   ],
   "source": [
    "data.shape"
   ]
  },
  {
   "cell_type": "code",
   "execution_count": 6,
   "id": "7000a3cd",
   "metadata": {
    "execution": {
     "iopub.execute_input": "2023-02-16T05:12:22.553939Z",
     "iopub.status.busy": "2023-02-16T05:12:22.553565Z",
     "iopub.status.idle": "2023-02-16T05:12:22.562399Z",
     "shell.execute_reply": "2023-02-16T05:12:22.561261Z"
    },
    "papermill": {
     "duration": 0.021143,
     "end_time": "2023-02-16T05:12:22.565080",
     "exception": false,
     "start_time": "2023-02-16T05:12:22.543937",
     "status": "completed"
    },
    "tags": []
   },
   "outputs": [
    {
     "data": {
      "text/plain": [
       "Booking_ID                               object\n",
       "no_of_adults                              int64\n",
       "no_of_children                            int64\n",
       "no_of_weekend_nights                      int64\n",
       "no_of_week_nights                         int64\n",
       "type_of_meal_plan                        object\n",
       "required_car_parking_space                int64\n",
       "room_type_reserved                       object\n",
       "lead_time                                 int64\n",
       "arrival_year                              int64\n",
       "arrival_month                             int64\n",
       "arrival_date                              int64\n",
       "market_segment_type                      object\n",
       "repeated_guest                            int64\n",
       "no_of_previous_cancellations              int64\n",
       "no_of_previous_bookings_not_canceled      int64\n",
       "avg_price_per_room                      float64\n",
       "no_of_special_requests                    int64\n",
       "booking_status                           object\n",
       "dtype: object"
      ]
     },
     "execution_count": 6,
     "metadata": {},
     "output_type": "execute_result"
    }
   ],
   "source": [
    "data.dtypes"
   ]
  },
  {
   "cell_type": "markdown",
   "id": "1d705c57",
   "metadata": {
    "papermill": {
     "duration": 0.008681,
     "end_time": "2023-02-16T05:12:22.582357",
     "exception": false,
     "start_time": "2023-02-16T05:12:22.573676",
     "status": "completed"
    },
    "tags": []
   },
   "source": [
    "checking for missing values"
   ]
  },
  {
   "cell_type": "code",
   "execution_count": 7,
   "id": "0495d072",
   "metadata": {
    "execution": {
     "iopub.execute_input": "2023-02-16T05:12:22.601143Z",
     "iopub.status.busy": "2023-02-16T05:12:22.600781Z",
     "iopub.status.idle": "2023-02-16T05:12:22.616925Z",
     "shell.execute_reply": "2023-02-16T05:12:22.615997Z"
    },
    "papermill": {
     "duration": 0.027936,
     "end_time": "2023-02-16T05:12:22.619322",
     "exception": false,
     "start_time": "2023-02-16T05:12:22.591386",
     "status": "completed"
    },
    "tags": []
   },
   "outputs": [
    {
     "data": {
      "text/plain": [
       "Booking_ID                              0\n",
       "no_of_adults                            0\n",
       "no_of_children                          0\n",
       "no_of_weekend_nights                    0\n",
       "no_of_week_nights                       0\n",
       "type_of_meal_plan                       0\n",
       "required_car_parking_space              0\n",
       "room_type_reserved                      0\n",
       "lead_time                               0\n",
       "arrival_year                            0\n",
       "arrival_month                           0\n",
       "arrival_date                            0\n",
       "market_segment_type                     0\n",
       "repeated_guest                          0\n",
       "no_of_previous_cancellations            0\n",
       "no_of_previous_bookings_not_canceled    0\n",
       "avg_price_per_room                      0\n",
       "no_of_special_requests                  0\n",
       "booking_status                          0\n",
       "dtype: int64"
      ]
     },
     "execution_count": 7,
     "metadata": {},
     "output_type": "execute_result"
    }
   ],
   "source": [
    "data.isnull().sum()"
   ]
  },
  {
   "cell_type": "code",
   "execution_count": 8,
   "id": "57642a9f",
   "metadata": {
    "execution": {
     "iopub.execute_input": "2023-02-16T05:12:22.637971Z",
     "iopub.status.busy": "2023-02-16T05:12:22.637441Z",
     "iopub.status.idle": "2023-02-16T05:12:22.642390Z",
     "shell.execute_reply": "2023-02-16T05:12:22.641735Z"
    },
    "papermill": {
     "duration": 0.016415,
     "end_time": "2023-02-16T05:12:22.644389",
     "exception": false,
     "start_time": "2023-02-16T05:12:22.627974",
     "status": "completed"
    },
    "tags": []
   },
   "outputs": [],
   "source": [
    "df = data.copy()"
   ]
  },
  {
   "cell_type": "markdown",
   "id": "7344db95",
   "metadata": {
    "papermill": {
     "duration": 0.008274,
     "end_time": "2023-02-16T05:12:22.661747",
     "exception": false,
     "start_time": "2023-02-16T05:12:22.653473",
     "status": "completed"
    },
    "tags": []
   },
   "source": [
    "dropping unnecessary data"
   ]
  },
  {
   "cell_type": "code",
   "execution_count": 9,
   "id": "04c2b3ea",
   "metadata": {
    "execution": {
     "iopub.execute_input": "2023-02-16T05:12:22.680841Z",
     "iopub.status.busy": "2023-02-16T05:12:22.680238Z",
     "iopub.status.idle": "2023-02-16T05:12:22.692175Z",
     "shell.execute_reply": "2023-02-16T05:12:22.691255Z"
    },
    "papermill": {
     "duration": 0.024179,
     "end_time": "2023-02-16T05:12:22.694443",
     "exception": false,
     "start_time": "2023-02-16T05:12:22.670264",
     "status": "completed"
    },
    "tags": []
   },
   "outputs": [],
   "source": [
    "df =df.drop('Booking_ID',axis=1)"
   ]
  },
  {
   "cell_type": "code",
   "execution_count": 10,
   "id": "ef6c97be",
   "metadata": {
    "execution": {
     "iopub.execute_input": "2023-02-16T05:12:22.713026Z",
     "iopub.status.busy": "2023-02-16T05:12:22.712361Z",
     "iopub.status.idle": "2023-02-16T05:12:22.718930Z",
     "shell.execute_reply": "2023-02-16T05:12:22.718318Z"
    },
    "papermill": {
     "duration": 0.018113,
     "end_time": "2023-02-16T05:12:22.721020",
     "exception": false,
     "start_time": "2023-02-16T05:12:22.702907",
     "status": "completed"
    },
    "tags": []
   },
   "outputs": [],
   "source": [
    "cat_variable = ['type_of_meal_plan','room_type_reserved','market_segment_type','booking_status']"
   ]
  },
  {
   "cell_type": "code",
   "execution_count": 11,
   "id": "f2a33e96",
   "metadata": {
    "execution": {
     "iopub.execute_input": "2023-02-16T05:12:22.739863Z",
     "iopub.status.busy": "2023-02-16T05:12:22.739058Z",
     "iopub.status.idle": "2023-02-16T05:12:22.744127Z",
     "shell.execute_reply": "2023-02-16T05:12:22.743564Z"
    },
    "papermill": {
     "duration": 0.016413,
     "end_time": "2023-02-16T05:12:22.746081",
     "exception": false,
     "start_time": "2023-02-16T05:12:22.729668",
     "status": "completed"
    },
    "tags": []
   },
   "outputs": [],
   "source": [
    "num_variable = df.drop((cat_variable),axis=1)"
   ]
  },
  {
   "cell_type": "code",
   "execution_count": 12,
   "id": "c5f88a43",
   "metadata": {
    "execution": {
     "iopub.execute_input": "2023-02-16T05:12:22.765547Z",
     "iopub.status.busy": "2023-02-16T05:12:22.765008Z",
     "iopub.status.idle": "2023-02-16T05:12:22.781177Z",
     "shell.execute_reply": "2023-02-16T05:12:22.780168Z"
    },
    "papermill": {
     "duration": 0.02887,
     "end_time": "2023-02-16T05:12:22.783640",
     "exception": false,
     "start_time": "2023-02-16T05:12:22.754770",
     "status": "completed"
    },
    "tags": []
   },
   "outputs": [
    {
     "data": {
      "text/html": [
       "<div>\n",
       "<style scoped>\n",
       "    .dataframe tbody tr th:only-of-type {\n",
       "        vertical-align: middle;\n",
       "    }\n",
       "\n",
       "    .dataframe tbody tr th {\n",
       "        vertical-align: top;\n",
       "    }\n",
       "\n",
       "    .dataframe thead th {\n",
       "        text-align: right;\n",
       "    }\n",
       "</style>\n",
       "<table border=\"1\" class=\"dataframe\">\n",
       "  <thead>\n",
       "    <tr style=\"text-align: right;\">\n",
       "      <th></th>\n",
       "      <th>no_of_adults</th>\n",
       "      <th>no_of_children</th>\n",
       "      <th>no_of_weekend_nights</th>\n",
       "      <th>no_of_week_nights</th>\n",
       "      <th>required_car_parking_space</th>\n",
       "      <th>lead_time</th>\n",
       "      <th>arrival_year</th>\n",
       "      <th>arrival_month</th>\n",
       "      <th>arrival_date</th>\n",
       "      <th>repeated_guest</th>\n",
       "      <th>no_of_previous_cancellations</th>\n",
       "      <th>no_of_previous_bookings_not_canceled</th>\n",
       "      <th>avg_price_per_room</th>\n",
       "      <th>no_of_special_requests</th>\n",
       "    </tr>\n",
       "  </thead>\n",
       "  <tbody>\n",
       "    <tr>\n",
       "      <th>0</th>\n",
       "      <td>2</td>\n",
       "      <td>0</td>\n",
       "      <td>1</td>\n",
       "      <td>2</td>\n",
       "      <td>0</td>\n",
       "      <td>224</td>\n",
       "      <td>2017</td>\n",
       "      <td>10</td>\n",
       "      <td>2</td>\n",
       "      <td>0</td>\n",
       "      <td>0</td>\n",
       "      <td>0</td>\n",
       "      <td>65.00</td>\n",
       "      <td>0</td>\n",
       "    </tr>\n",
       "    <tr>\n",
       "      <th>1</th>\n",
       "      <td>2</td>\n",
       "      <td>0</td>\n",
       "      <td>2</td>\n",
       "      <td>3</td>\n",
       "      <td>0</td>\n",
       "      <td>5</td>\n",
       "      <td>2018</td>\n",
       "      <td>11</td>\n",
       "      <td>6</td>\n",
       "      <td>0</td>\n",
       "      <td>0</td>\n",
       "      <td>0</td>\n",
       "      <td>106.68</td>\n",
       "      <td>1</td>\n",
       "    </tr>\n",
       "    <tr>\n",
       "      <th>2</th>\n",
       "      <td>1</td>\n",
       "      <td>0</td>\n",
       "      <td>2</td>\n",
       "      <td>1</td>\n",
       "      <td>0</td>\n",
       "      <td>1</td>\n",
       "      <td>2018</td>\n",
       "      <td>2</td>\n",
       "      <td>28</td>\n",
       "      <td>0</td>\n",
       "      <td>0</td>\n",
       "      <td>0</td>\n",
       "      <td>60.00</td>\n",
       "      <td>0</td>\n",
       "    </tr>\n",
       "    <tr>\n",
       "      <th>3</th>\n",
       "      <td>2</td>\n",
       "      <td>0</td>\n",
       "      <td>0</td>\n",
       "      <td>2</td>\n",
       "      <td>0</td>\n",
       "      <td>211</td>\n",
       "      <td>2018</td>\n",
       "      <td>5</td>\n",
       "      <td>20</td>\n",
       "      <td>0</td>\n",
       "      <td>0</td>\n",
       "      <td>0</td>\n",
       "      <td>100.00</td>\n",
       "      <td>0</td>\n",
       "    </tr>\n",
       "    <tr>\n",
       "      <th>4</th>\n",
       "      <td>2</td>\n",
       "      <td>0</td>\n",
       "      <td>1</td>\n",
       "      <td>1</td>\n",
       "      <td>0</td>\n",
       "      <td>48</td>\n",
       "      <td>2018</td>\n",
       "      <td>4</td>\n",
       "      <td>11</td>\n",
       "      <td>0</td>\n",
       "      <td>0</td>\n",
       "      <td>0</td>\n",
       "      <td>94.50</td>\n",
       "      <td>0</td>\n",
       "    </tr>\n",
       "    <tr>\n",
       "      <th>...</th>\n",
       "      <td>...</td>\n",
       "      <td>...</td>\n",
       "      <td>...</td>\n",
       "      <td>...</td>\n",
       "      <td>...</td>\n",
       "      <td>...</td>\n",
       "      <td>...</td>\n",
       "      <td>...</td>\n",
       "      <td>...</td>\n",
       "      <td>...</td>\n",
       "      <td>...</td>\n",
       "      <td>...</td>\n",
       "      <td>...</td>\n",
       "      <td>...</td>\n",
       "    </tr>\n",
       "    <tr>\n",
       "      <th>36270</th>\n",
       "      <td>3</td>\n",
       "      <td>0</td>\n",
       "      <td>2</td>\n",
       "      <td>6</td>\n",
       "      <td>0</td>\n",
       "      <td>85</td>\n",
       "      <td>2018</td>\n",
       "      <td>8</td>\n",
       "      <td>3</td>\n",
       "      <td>0</td>\n",
       "      <td>0</td>\n",
       "      <td>0</td>\n",
       "      <td>167.80</td>\n",
       "      <td>1</td>\n",
       "    </tr>\n",
       "    <tr>\n",
       "      <th>36271</th>\n",
       "      <td>2</td>\n",
       "      <td>0</td>\n",
       "      <td>1</td>\n",
       "      <td>3</td>\n",
       "      <td>0</td>\n",
       "      <td>228</td>\n",
       "      <td>2018</td>\n",
       "      <td>10</td>\n",
       "      <td>17</td>\n",
       "      <td>0</td>\n",
       "      <td>0</td>\n",
       "      <td>0</td>\n",
       "      <td>90.95</td>\n",
       "      <td>2</td>\n",
       "    </tr>\n",
       "    <tr>\n",
       "      <th>36272</th>\n",
       "      <td>2</td>\n",
       "      <td>0</td>\n",
       "      <td>2</td>\n",
       "      <td>6</td>\n",
       "      <td>0</td>\n",
       "      <td>148</td>\n",
       "      <td>2018</td>\n",
       "      <td>7</td>\n",
       "      <td>1</td>\n",
       "      <td>0</td>\n",
       "      <td>0</td>\n",
       "      <td>0</td>\n",
       "      <td>98.39</td>\n",
       "      <td>2</td>\n",
       "    </tr>\n",
       "    <tr>\n",
       "      <th>36273</th>\n",
       "      <td>2</td>\n",
       "      <td>0</td>\n",
       "      <td>0</td>\n",
       "      <td>3</td>\n",
       "      <td>0</td>\n",
       "      <td>63</td>\n",
       "      <td>2018</td>\n",
       "      <td>4</td>\n",
       "      <td>21</td>\n",
       "      <td>0</td>\n",
       "      <td>0</td>\n",
       "      <td>0</td>\n",
       "      <td>94.50</td>\n",
       "      <td>0</td>\n",
       "    </tr>\n",
       "    <tr>\n",
       "      <th>36274</th>\n",
       "      <td>2</td>\n",
       "      <td>0</td>\n",
       "      <td>1</td>\n",
       "      <td>2</td>\n",
       "      <td>0</td>\n",
       "      <td>207</td>\n",
       "      <td>2018</td>\n",
       "      <td>12</td>\n",
       "      <td>30</td>\n",
       "      <td>0</td>\n",
       "      <td>0</td>\n",
       "      <td>0</td>\n",
       "      <td>161.67</td>\n",
       "      <td>0</td>\n",
       "    </tr>\n",
       "  </tbody>\n",
       "</table>\n",
       "<p>36275 rows × 14 columns</p>\n",
       "</div>"
      ],
      "text/plain": [
       "       no_of_adults  no_of_children  no_of_weekend_nights  no_of_week_nights  \\\n",
       "0                 2               0                     1                  2   \n",
       "1                 2               0                     2                  3   \n",
       "2                 1               0                     2                  1   \n",
       "3                 2               0                     0                  2   \n",
       "4                 2               0                     1                  1   \n",
       "...             ...             ...                   ...                ...   \n",
       "36270             3               0                     2                  6   \n",
       "36271             2               0                     1                  3   \n",
       "36272             2               0                     2                  6   \n",
       "36273             2               0                     0                  3   \n",
       "36274             2               0                     1                  2   \n",
       "\n",
       "       required_car_parking_space  lead_time  arrival_year  arrival_month  \\\n",
       "0                               0        224          2017             10   \n",
       "1                               0          5          2018             11   \n",
       "2                               0          1          2018              2   \n",
       "3                               0        211          2018              5   \n",
       "4                               0         48          2018              4   \n",
       "...                           ...        ...           ...            ...   \n",
       "36270                           0         85          2018              8   \n",
       "36271                           0        228          2018             10   \n",
       "36272                           0        148          2018              7   \n",
       "36273                           0         63          2018              4   \n",
       "36274                           0        207          2018             12   \n",
       "\n",
       "       arrival_date  repeated_guest  no_of_previous_cancellations  \\\n",
       "0                 2               0                             0   \n",
       "1                 6               0                             0   \n",
       "2                28               0                             0   \n",
       "3                20               0                             0   \n",
       "4                11               0                             0   \n",
       "...             ...             ...                           ...   \n",
       "36270             3               0                             0   \n",
       "36271            17               0                             0   \n",
       "36272             1               0                             0   \n",
       "36273            21               0                             0   \n",
       "36274            30               0                             0   \n",
       "\n",
       "       no_of_previous_bookings_not_canceled  avg_price_per_room  \\\n",
       "0                                         0               65.00   \n",
       "1                                         0              106.68   \n",
       "2                                         0               60.00   \n",
       "3                                         0              100.00   \n",
       "4                                         0               94.50   \n",
       "...                                     ...                 ...   \n",
       "36270                                     0              167.80   \n",
       "36271                                     0               90.95   \n",
       "36272                                     0               98.39   \n",
       "36273                                     0               94.50   \n",
       "36274                                     0              161.67   \n",
       "\n",
       "       no_of_special_requests  \n",
       "0                           0  \n",
       "1                           1  \n",
       "2                           0  \n",
       "3                           0  \n",
       "4                           0  \n",
       "...                       ...  \n",
       "36270                       1  \n",
       "36271                       2  \n",
       "36272                       2  \n",
       "36273                       0  \n",
       "36274                       0  \n",
       "\n",
       "[36275 rows x 14 columns]"
      ]
     },
     "execution_count": 12,
     "metadata": {},
     "output_type": "execute_result"
    }
   ],
   "source": [
    "num_variable"
   ]
  },
  {
   "cell_type": "markdown",
   "id": "be93685c",
   "metadata": {
    "papermill": {
     "duration": 0.00854,
     "end_time": "2023-02-16T05:12:22.801324",
     "exception": false,
     "start_time": "2023-02-16T05:12:22.792784",
     "status": "completed"
    },
    "tags": []
   },
   "source": []
  },
  {
   "cell_type": "code",
   "execution_count": 13,
   "id": "6491e35e",
   "metadata": {
    "execution": {
     "iopub.execute_input": "2023-02-16T05:12:22.821166Z",
     "iopub.status.busy": "2023-02-16T05:12:22.820605Z",
     "iopub.status.idle": "2023-02-16T05:12:22.839032Z",
     "shell.execute_reply": "2023-02-16T05:12:22.837664Z"
    },
    "papermill": {
     "duration": 0.031122,
     "end_time": "2023-02-16T05:12:22.841386",
     "exception": false,
     "start_time": "2023-02-16T05:12:22.810264",
     "status": "completed"
    },
    "tags": []
   },
   "outputs": [],
   "source": [
    "df.booking_status = df.booking_status.replace({\"Not_Canceled\":0, \"Canceled\":1})"
   ]
  },
  {
   "cell_type": "code",
   "execution_count": 14,
   "id": "18a48f7a",
   "metadata": {
    "execution": {
     "iopub.execute_input": "2023-02-16T05:12:22.860772Z",
     "iopub.status.busy": "2023-02-16T05:12:22.860376Z",
     "iopub.status.idle": "2023-02-16T05:12:22.881690Z",
     "shell.execute_reply": "2023-02-16T05:12:22.880913Z"
    },
    "papermill": {
     "duration": 0.033009,
     "end_time": "2023-02-16T05:12:22.883412",
     "exception": false,
     "start_time": "2023-02-16T05:12:22.850403",
     "status": "completed"
    },
    "tags": []
   },
   "outputs": [
    {
     "data": {
      "text/html": [
       "<div>\n",
       "<style scoped>\n",
       "    .dataframe tbody tr th:only-of-type {\n",
       "        vertical-align: middle;\n",
       "    }\n",
       "\n",
       "    .dataframe tbody tr th {\n",
       "        vertical-align: top;\n",
       "    }\n",
       "\n",
       "    .dataframe thead th {\n",
       "        text-align: right;\n",
       "    }\n",
       "</style>\n",
       "<table border=\"1\" class=\"dataframe\">\n",
       "  <thead>\n",
       "    <tr style=\"text-align: right;\">\n",
       "      <th></th>\n",
       "      <th>no_of_adults</th>\n",
       "      <th>no_of_children</th>\n",
       "      <th>no_of_weekend_nights</th>\n",
       "      <th>no_of_week_nights</th>\n",
       "      <th>type_of_meal_plan</th>\n",
       "      <th>required_car_parking_space</th>\n",
       "      <th>room_type_reserved</th>\n",
       "      <th>lead_time</th>\n",
       "      <th>arrival_year</th>\n",
       "      <th>arrival_month</th>\n",
       "      <th>arrival_date</th>\n",
       "      <th>market_segment_type</th>\n",
       "      <th>repeated_guest</th>\n",
       "      <th>no_of_previous_cancellations</th>\n",
       "      <th>no_of_previous_bookings_not_canceled</th>\n",
       "      <th>avg_price_per_room</th>\n",
       "      <th>no_of_special_requests</th>\n",
       "      <th>booking_status</th>\n",
       "    </tr>\n",
       "  </thead>\n",
       "  <tbody>\n",
       "    <tr>\n",
       "      <th>0</th>\n",
       "      <td>2</td>\n",
       "      <td>0</td>\n",
       "      <td>1</td>\n",
       "      <td>2</td>\n",
       "      <td>Meal Plan 1</td>\n",
       "      <td>0</td>\n",
       "      <td>Room_Type 1</td>\n",
       "      <td>224</td>\n",
       "      <td>2017</td>\n",
       "      <td>10</td>\n",
       "      <td>2</td>\n",
       "      <td>Offline</td>\n",
       "      <td>0</td>\n",
       "      <td>0</td>\n",
       "      <td>0</td>\n",
       "      <td>65.00</td>\n",
       "      <td>0</td>\n",
       "      <td>0</td>\n",
       "    </tr>\n",
       "    <tr>\n",
       "      <th>1</th>\n",
       "      <td>2</td>\n",
       "      <td>0</td>\n",
       "      <td>2</td>\n",
       "      <td>3</td>\n",
       "      <td>Not Selected</td>\n",
       "      <td>0</td>\n",
       "      <td>Room_Type 1</td>\n",
       "      <td>5</td>\n",
       "      <td>2018</td>\n",
       "      <td>11</td>\n",
       "      <td>6</td>\n",
       "      <td>Online</td>\n",
       "      <td>0</td>\n",
       "      <td>0</td>\n",
       "      <td>0</td>\n",
       "      <td>106.68</td>\n",
       "      <td>1</td>\n",
       "      <td>0</td>\n",
       "    </tr>\n",
       "    <tr>\n",
       "      <th>2</th>\n",
       "      <td>1</td>\n",
       "      <td>0</td>\n",
       "      <td>2</td>\n",
       "      <td>1</td>\n",
       "      <td>Meal Plan 1</td>\n",
       "      <td>0</td>\n",
       "      <td>Room_Type 1</td>\n",
       "      <td>1</td>\n",
       "      <td>2018</td>\n",
       "      <td>2</td>\n",
       "      <td>28</td>\n",
       "      <td>Online</td>\n",
       "      <td>0</td>\n",
       "      <td>0</td>\n",
       "      <td>0</td>\n",
       "      <td>60.00</td>\n",
       "      <td>0</td>\n",
       "      <td>1</td>\n",
       "    </tr>\n",
       "    <tr>\n",
       "      <th>3</th>\n",
       "      <td>2</td>\n",
       "      <td>0</td>\n",
       "      <td>0</td>\n",
       "      <td>2</td>\n",
       "      <td>Meal Plan 1</td>\n",
       "      <td>0</td>\n",
       "      <td>Room_Type 1</td>\n",
       "      <td>211</td>\n",
       "      <td>2018</td>\n",
       "      <td>5</td>\n",
       "      <td>20</td>\n",
       "      <td>Online</td>\n",
       "      <td>0</td>\n",
       "      <td>0</td>\n",
       "      <td>0</td>\n",
       "      <td>100.00</td>\n",
       "      <td>0</td>\n",
       "      <td>1</td>\n",
       "    </tr>\n",
       "    <tr>\n",
       "      <th>4</th>\n",
       "      <td>2</td>\n",
       "      <td>0</td>\n",
       "      <td>1</td>\n",
       "      <td>1</td>\n",
       "      <td>Not Selected</td>\n",
       "      <td>0</td>\n",
       "      <td>Room_Type 1</td>\n",
       "      <td>48</td>\n",
       "      <td>2018</td>\n",
       "      <td>4</td>\n",
       "      <td>11</td>\n",
       "      <td>Online</td>\n",
       "      <td>0</td>\n",
       "      <td>0</td>\n",
       "      <td>0</td>\n",
       "      <td>94.50</td>\n",
       "      <td>0</td>\n",
       "      <td>1</td>\n",
       "    </tr>\n",
       "    <tr>\n",
       "      <th>...</th>\n",
       "      <td>...</td>\n",
       "      <td>...</td>\n",
       "      <td>...</td>\n",
       "      <td>...</td>\n",
       "      <td>...</td>\n",
       "      <td>...</td>\n",
       "      <td>...</td>\n",
       "      <td>...</td>\n",
       "      <td>...</td>\n",
       "      <td>...</td>\n",
       "      <td>...</td>\n",
       "      <td>...</td>\n",
       "      <td>...</td>\n",
       "      <td>...</td>\n",
       "      <td>...</td>\n",
       "      <td>...</td>\n",
       "      <td>...</td>\n",
       "      <td>...</td>\n",
       "    </tr>\n",
       "    <tr>\n",
       "      <th>36270</th>\n",
       "      <td>3</td>\n",
       "      <td>0</td>\n",
       "      <td>2</td>\n",
       "      <td>6</td>\n",
       "      <td>Meal Plan 1</td>\n",
       "      <td>0</td>\n",
       "      <td>Room_Type 4</td>\n",
       "      <td>85</td>\n",
       "      <td>2018</td>\n",
       "      <td>8</td>\n",
       "      <td>3</td>\n",
       "      <td>Online</td>\n",
       "      <td>0</td>\n",
       "      <td>0</td>\n",
       "      <td>0</td>\n",
       "      <td>167.80</td>\n",
       "      <td>1</td>\n",
       "      <td>0</td>\n",
       "    </tr>\n",
       "    <tr>\n",
       "      <th>36271</th>\n",
       "      <td>2</td>\n",
       "      <td>0</td>\n",
       "      <td>1</td>\n",
       "      <td>3</td>\n",
       "      <td>Meal Plan 1</td>\n",
       "      <td>0</td>\n",
       "      <td>Room_Type 1</td>\n",
       "      <td>228</td>\n",
       "      <td>2018</td>\n",
       "      <td>10</td>\n",
       "      <td>17</td>\n",
       "      <td>Online</td>\n",
       "      <td>0</td>\n",
       "      <td>0</td>\n",
       "      <td>0</td>\n",
       "      <td>90.95</td>\n",
       "      <td>2</td>\n",
       "      <td>1</td>\n",
       "    </tr>\n",
       "    <tr>\n",
       "      <th>36272</th>\n",
       "      <td>2</td>\n",
       "      <td>0</td>\n",
       "      <td>2</td>\n",
       "      <td>6</td>\n",
       "      <td>Meal Plan 1</td>\n",
       "      <td>0</td>\n",
       "      <td>Room_Type 1</td>\n",
       "      <td>148</td>\n",
       "      <td>2018</td>\n",
       "      <td>7</td>\n",
       "      <td>1</td>\n",
       "      <td>Online</td>\n",
       "      <td>0</td>\n",
       "      <td>0</td>\n",
       "      <td>0</td>\n",
       "      <td>98.39</td>\n",
       "      <td>2</td>\n",
       "      <td>0</td>\n",
       "    </tr>\n",
       "    <tr>\n",
       "      <th>36273</th>\n",
       "      <td>2</td>\n",
       "      <td>0</td>\n",
       "      <td>0</td>\n",
       "      <td>3</td>\n",
       "      <td>Not Selected</td>\n",
       "      <td>0</td>\n",
       "      <td>Room_Type 1</td>\n",
       "      <td>63</td>\n",
       "      <td>2018</td>\n",
       "      <td>4</td>\n",
       "      <td>21</td>\n",
       "      <td>Online</td>\n",
       "      <td>0</td>\n",
       "      <td>0</td>\n",
       "      <td>0</td>\n",
       "      <td>94.50</td>\n",
       "      <td>0</td>\n",
       "      <td>1</td>\n",
       "    </tr>\n",
       "    <tr>\n",
       "      <th>36274</th>\n",
       "      <td>2</td>\n",
       "      <td>0</td>\n",
       "      <td>1</td>\n",
       "      <td>2</td>\n",
       "      <td>Meal Plan 1</td>\n",
       "      <td>0</td>\n",
       "      <td>Room_Type 1</td>\n",
       "      <td>207</td>\n",
       "      <td>2018</td>\n",
       "      <td>12</td>\n",
       "      <td>30</td>\n",
       "      <td>Offline</td>\n",
       "      <td>0</td>\n",
       "      <td>0</td>\n",
       "      <td>0</td>\n",
       "      <td>161.67</td>\n",
       "      <td>0</td>\n",
       "      <td>0</td>\n",
       "    </tr>\n",
       "  </tbody>\n",
       "</table>\n",
       "<p>36275 rows × 18 columns</p>\n",
       "</div>"
      ],
      "text/plain": [
       "       no_of_adults  no_of_children  no_of_weekend_nights  no_of_week_nights  \\\n",
       "0                 2               0                     1                  2   \n",
       "1                 2               0                     2                  3   \n",
       "2                 1               0                     2                  1   \n",
       "3                 2               0                     0                  2   \n",
       "4                 2               0                     1                  1   \n",
       "...             ...             ...                   ...                ...   \n",
       "36270             3               0                     2                  6   \n",
       "36271             2               0                     1                  3   \n",
       "36272             2               0                     2                  6   \n",
       "36273             2               0                     0                  3   \n",
       "36274             2               0                     1                  2   \n",
       "\n",
       "      type_of_meal_plan  required_car_parking_space room_type_reserved  \\\n",
       "0           Meal Plan 1                           0        Room_Type 1   \n",
       "1          Not Selected                           0        Room_Type 1   \n",
       "2           Meal Plan 1                           0        Room_Type 1   \n",
       "3           Meal Plan 1                           0        Room_Type 1   \n",
       "4          Not Selected                           0        Room_Type 1   \n",
       "...                 ...                         ...                ...   \n",
       "36270       Meal Plan 1                           0        Room_Type 4   \n",
       "36271       Meal Plan 1                           0        Room_Type 1   \n",
       "36272       Meal Plan 1                           0        Room_Type 1   \n",
       "36273      Not Selected                           0        Room_Type 1   \n",
       "36274       Meal Plan 1                           0        Room_Type 1   \n",
       "\n",
       "       lead_time  arrival_year  arrival_month  arrival_date  \\\n",
       "0            224          2017             10             2   \n",
       "1              5          2018             11             6   \n",
       "2              1          2018              2            28   \n",
       "3            211          2018              5            20   \n",
       "4             48          2018              4            11   \n",
       "...          ...           ...            ...           ...   \n",
       "36270         85          2018              8             3   \n",
       "36271        228          2018             10            17   \n",
       "36272        148          2018              7             1   \n",
       "36273         63          2018              4            21   \n",
       "36274        207          2018             12            30   \n",
       "\n",
       "      market_segment_type  repeated_guest  no_of_previous_cancellations  \\\n",
       "0                 Offline               0                             0   \n",
       "1                  Online               0                             0   \n",
       "2                  Online               0                             0   \n",
       "3                  Online               0                             0   \n",
       "4                  Online               0                             0   \n",
       "...                   ...             ...                           ...   \n",
       "36270              Online               0                             0   \n",
       "36271              Online               0                             0   \n",
       "36272              Online               0                             0   \n",
       "36273              Online               0                             0   \n",
       "36274             Offline               0                             0   \n",
       "\n",
       "       no_of_previous_bookings_not_canceled  avg_price_per_room  \\\n",
       "0                                         0               65.00   \n",
       "1                                         0              106.68   \n",
       "2                                         0               60.00   \n",
       "3                                         0              100.00   \n",
       "4                                         0               94.50   \n",
       "...                                     ...                 ...   \n",
       "36270                                     0              167.80   \n",
       "36271                                     0               90.95   \n",
       "36272                                     0               98.39   \n",
       "36273                                     0               94.50   \n",
       "36274                                     0              161.67   \n",
       "\n",
       "       no_of_special_requests  booking_status  \n",
       "0                           0               0  \n",
       "1                           1               0  \n",
       "2                           0               1  \n",
       "3                           0               1  \n",
       "4                           0               1  \n",
       "...                       ...             ...  \n",
       "36270                       1               0  \n",
       "36271                       2               1  \n",
       "36272                       2               0  \n",
       "36273                       0               1  \n",
       "36274                       0               0  \n",
       "\n",
       "[36275 rows x 18 columns]"
      ]
     },
     "execution_count": 14,
     "metadata": {},
     "output_type": "execute_result"
    }
   ],
   "source": [
    "df"
   ]
  },
  {
   "cell_type": "code",
   "execution_count": 15,
   "id": "18b4997b",
   "metadata": {
    "execution": {
     "iopub.execute_input": "2023-02-16T05:12:22.903885Z",
     "iopub.status.busy": "2023-02-16T05:12:22.903079Z",
     "iopub.status.idle": "2023-02-16T05:12:24.573509Z",
     "shell.execute_reply": "2023-02-16T05:12:24.572550Z"
    },
    "papermill": {
     "duration": 1.683239,
     "end_time": "2023-02-16T05:12:24.575849",
     "exception": false,
     "start_time": "2023-02-16T05:12:22.892610",
     "status": "completed"
    },
    "tags": []
   },
   "outputs": [
    {
     "data": {
      "image/png": "[encoded data removed]",
      "text/plain": [
       "<Figure size 432x288 with 1 Axes>"
      ]
     },
     "metadata": {
      "needs_background": "light"
     },
     "output_type": "display_data"
    },
    {
     "data": {
      "image/png": "[encoded data removed]",
      "text/plain": [
       "<Figure size 432x288 with 1 Axes>"
      ]
     },
     "metadata": {
      "needs_background": "light"
     },
     "output_type": "display_data"
    },
    {
     "data": {
      "image/png": "[encoded data removed]",
      "text/plain": [
       "<Figure size 432x288 with 1 Axes>"
      ]
     },
     "metadata": {
      "needs_background": "light"
     },
     "output_type": "display_data"
    },
    {
     "data": {
      "image/png": "[encoded data removed]",
      "text/plain": [
       "<Figure size 432x288 with 1 Axes>"
      ]
     },
     "metadata": {
      "needs_background": "light"
     },
     "output_type": "display_data"
    }
   ],
   "source": [
    "import matplotlib.pyplot as plt\n",
    "import seaborn as sns\n",
    "for i in cat_variable:\n",
    "    ax=sns.countplot(x=df[i], data=df);\n",
    "    plt.title(i)\n",
    "    plt.show()\n",
    "    plt.tight_layout"
   ]
  },
  {
   "cell_type": "code",
   "execution_count": 16,
   "id": "a7d36956",
   "metadata": {
    "execution": {
     "iopub.execute_input": "2023-02-16T05:12:24.605397Z",
     "iopub.status.busy": "2023-02-16T05:12:24.604819Z",
     "iopub.status.idle": "2023-02-16T05:12:26.751119Z",
     "shell.execute_reply": "2023-02-16T05:12:26.750333Z"
    },
    "papermill": {
     "duration": 2.162885,
     "end_time": "2023-02-16T05:12:26.752997",
     "exception": false,
     "start_time": "2023-02-16T05:12:24.590112",
     "status": "completed"
    },
    "tags": []
   },
   "outputs": [
    {
     "data": {
      "image/png": "[encoded data removed]",
      "text/plain": [
       "<Figure size 432x288 with 1 Axes>"
      ]
     },
     "metadata": {
      "needs_background": "light"
     },
     "output_type": "display_data"
    },
    {
     "data": {
      "image/png": "[encoded data removed]",
      "text/plain": [
       "<Figure size 432x288 with 1 Axes>"
      ]
     },
     "metadata": {
      "needs_background": "light"
     },
     "output_type": "display_data"
    },
    {
     "data": {
      "image/png": "[encoded data removed]",
      "text/plain": [
       "<Figure size 432x288 with 1 Axes>"
      ]
     },
     "metadata": {
      "needs_background": "light"
     },
     "output_type": "display_data"
    },
    {
     "data": {
      "image/png": "[encoded data removed]",
      "text/plain": [
       "<Figure size 432x288 with 1 Axes>"
      ]
     },
     "metadata": {
      "needs_background": "light"
     },
     "output_type": "display_data"
    },
    {
     "data": {
      "image/png": "[encoded data removed]",
      "text/plain": [
       "<Figure size 432x288 with 1 Axes>"
      ]
     },
     "metadata": {
      "needs_background": "light"
     },
     "output_type": "display_data"
    },
    {
     "data": {
      "image/png": "[encoded data removed]",
      "text/plain": [
       "<Figure size 432x288 with 1 Axes>"
      ]
     },
     "metadata": {
      "needs_background": "light"
     },
     "output_type": "display_data"
    },
    {
     "data": {
      "image/png": "[encoded data removed]",
      "text/plain": [
       "<Figure size 432x288 with 1 Axes>"
      ]
     },
     "metadata": {
      "needs_background": "light"
     },
     "output_type": "display_data"
    },
    {
     "data": {
      "image/png": "[encoded data removed]",
      "text/plain": [
       "<Figure size 432x288 with 1 Axes>"
      ]
     },
     "metadata": {
      "needs_background": "light"
     },
     "output_type": "display_data"
    },
    {
     "data": {
      "image/png": "[encoded data removed]",
      "text/plain": [
       "<Figure size 432x288 with 1 Axes>"
      ]
     },
     "metadata": {
      "needs_background": "light"
     },
     "output_type": "display_data"
    },
    {
     "data": {
      "image/png": "[encoded data removed]",
      "text/plain": [
       "<Figure size 432x288 with 1 Axes>"
      ]
     },
     "metadata": {
      "needs_background": "light"
     },
     "output_type": "display_data"
    },
    {
     "data": {
      "image/png": "[encoded data removed]",
      "text/plain": [
       "<Figure size 432x288 with 1 Axes>"
      ]
     },
     "metadata": {
      "needs_background": "light"
     },
     "output_type": "display_data"
    },
    {
     "data": {
      "image/png": "[encoded data removed]",
      "text/plain": [
       "<Figure size 432x288 with 1 Axes>"
      ]
     },
     "metadata": {
      "needs_background": "light"
     },
     "output_type": "display_data"
    },
    {
     "data": {
      "image/png": "[encoded data removed]",
      "text/plain": [
       "<Figure size 432x288 with 1 Axes>"
      ]
     },
     "metadata": {
      "needs_background": "light"
     },
     "output_type": "display_data"
    },
    {
     "data": {
      "image/png": "[encoded data removed]",
      "text/plain": [
       "<Figure size 432x288 with 1 Axes>"
      ]
     },
     "metadata": {
      "needs_background": "light"
     },
     "output_type": "display_data"
    }
   ],
   "source": [
    "for i in num_variable:\n",
    "    plt.hist(df[i],   edgecolor='black',linewidth=2)\n",
    "    plt.title(i)\n",
    "    plt.show()"
   ]
  },
  {
   "cell_type": "markdown",
   "id": "d01d29fa",
   "metadata": {
    "papermill": {
     "duration": 0.012274,
     "end_time": "2023-02-16T05:12:26.778726",
     "exception": false,
     "start_time": "2023-02-16T05:12:26.766452",
     "status": "completed"
    },
    "tags": []
   },
   "source": [
    "correlation****"
   ]
  },
  {
   "cell_type": "code",
   "execution_count": 17,
   "id": "49acc7d0",
   "metadata": {
    "execution": {
     "iopub.execute_input": "2023-02-16T05:12:26.811427Z",
     "iopub.status.busy": "2023-02-16T05:12:26.811004Z",
     "iopub.status.idle": "2023-02-16T05:12:27.780124Z",
     "shell.execute_reply": "2023-02-16T05:12:27.778741Z"
    },
    "papermill": {
     "duration": 0.990918,
     "end_time": "2023-02-16T05:12:27.782207",
     "exception": false,
     "start_time": "2023-02-16T05:12:26.791289",
     "status": "completed"
    },
    "tags": []
   },
   "outputs": [
    {
     "data": {
      "text/plain": [
       "<AxesSubplot:>"
      ]
     },
     "execution_count": 17,
     "metadata": {},
     "output_type": "execute_result"
    },
    {
     "data": {
      "image/png": "[encoded data removed]",
      "text/plain": [
       "<Figure size 720x720 with 2 Axes>"
      ]
     },
     "metadata": {
      "needs_background": "light"
     },
     "output_type": "display_data"
    }
   ],
   "source": [
    "df.corr()\n",
    "plt.figure(figsize=(10,10))\n",
    "sns.heatmap(df.corr(),annot=True, fmt=\".2f\")"
   ]
  },
  {
   "cell_type": "code",
   "execution_count": 18,
   "id": "82f697fa",
   "metadata": {
    "execution": {
     "iopub.execute_input": "2023-02-16T05:12:27.814107Z",
     "iopub.status.busy": "2023-02-16T05:12:27.813760Z",
     "iopub.status.idle": "2023-02-16T05:12:27.835818Z",
     "shell.execute_reply": "2023-02-16T05:12:27.834595Z"
    },
    "papermill": {
     "duration": 0.041081,
     "end_time": "2023-02-16T05:12:27.838090",
     "exception": false,
     "start_time": "2023-02-16T05:12:27.797009",
     "status": "completed"
    },
    "tags": []
   },
   "outputs": [],
   "source": [
    "a = pd.get_dummies(df['type_of_meal_plan'],drop_first=True)\n",
    "b = pd.get_dummies(df['room_type_reserved'],drop_first=True)\n",
    "c = pd.get_dummies(df['market_segment_type'],drop_first=True)\n",
    "df = pd.concat((df,a,b,c),axis=1)"
   ]
  },
  {
   "cell_type": "code",
   "execution_count": 19,
   "id": "39e326b9",
   "metadata": {
    "execution": {
     "iopub.execute_input": "2023-02-16T05:12:27.868774Z",
     "iopub.status.busy": "2023-02-16T05:12:27.868109Z",
     "iopub.status.idle": "2023-02-16T05:12:27.880737Z",
     "shell.execute_reply": "2023-02-16T05:12:27.879786Z"
    },
    "papermill": {
     "duration": 0.030104,
     "end_time": "2023-02-16T05:12:27.882891",
     "exception": false,
     "start_time": "2023-02-16T05:12:27.852787",
     "status": "completed"
    },
    "tags": []
   },
   "outputs": [],
   "source": [
    "df=df.drop(['type_of_meal_plan','room_type_reserved','market_segment_type','arrival_year'],axis=1)"
   ]
  },
  {
   "cell_type": "code",
   "execution_count": 20,
   "id": "bf0baee9",
   "metadata": {
    "execution": {
     "iopub.execute_input": "2023-02-16T05:12:27.912666Z",
     "iopub.status.busy": "2023-02-16T05:12:27.912076Z",
     "iopub.status.idle": "2023-02-16T05:12:27.932874Z",
     "shell.execute_reply": "2023-02-16T05:12:27.931918Z"
    },
    "papermill": {
     "duration": 0.037792,
     "end_time": "2023-02-16T05:12:27.934846",
     "exception": false,
     "start_time": "2023-02-16T05:12:27.897054",
     "status": "completed"
    },
    "tags": []
   },
   "outputs": [
    {
     "data": {
      "text/html": [
       "<div>\n",
       "<style scoped>\n",
       "    .dataframe tbody tr th:only-of-type {\n",
       "        vertical-align: middle;\n",
       "    }\n",
       "\n",
       "    .dataframe tbody tr th {\n",
       "        vertical-align: top;\n",
       "    }\n",
       "\n",
       "    .dataframe thead th {\n",
       "        text-align: right;\n",
       "    }\n",
       "</style>\n",
       "<table border=\"1\" class=\"dataframe\">\n",
       "  <thead>\n",
       "    <tr style=\"text-align: right;\">\n",
       "      <th></th>\n",
       "      <th>no_of_adults</th>\n",
       "      <th>no_of_children</th>\n",
       "      <th>no_of_weekend_nights</th>\n",
       "      <th>no_of_week_nights</th>\n",
       "      <th>required_car_parking_space</th>\n",
       "      <th>lead_time</th>\n",
       "      <th>arrival_month</th>\n",
       "      <th>arrival_date</th>\n",
       "      <th>repeated_guest</th>\n",
       "      <th>no_of_previous_cancellations</th>\n",
       "      <th>...</th>\n",
       "      <th>Room_Type 2</th>\n",
       "      <th>Room_Type 3</th>\n",
       "      <th>Room_Type 4</th>\n",
       "      <th>Room_Type 5</th>\n",
       "      <th>Room_Type 6</th>\n",
       "      <th>Room_Type 7</th>\n",
       "      <th>Complementary</th>\n",
       "      <th>Corporate</th>\n",
       "      <th>Offline</th>\n",
       "      <th>Online</th>\n",
       "    </tr>\n",
       "  </thead>\n",
       "  <tbody>\n",
       "    <tr>\n",
       "      <th>0</th>\n",
       "      <td>2</td>\n",
       "      <td>0</td>\n",
       "      <td>1</td>\n",
       "      <td>2</td>\n",
       "      <td>0</td>\n",
       "      <td>224</td>\n",
       "      <td>10</td>\n",
       "      <td>2</td>\n",
       "      <td>0</td>\n",
       "      <td>0</td>\n",
       "      <td>...</td>\n",
       "      <td>0</td>\n",
       "      <td>0</td>\n",
       "      <td>0</td>\n",
       "      <td>0</td>\n",
       "      <td>0</td>\n",
       "      <td>0</td>\n",
       "      <td>0</td>\n",
       "      <td>0</td>\n",
       "      <td>1</td>\n",
       "      <td>0</td>\n",
       "    </tr>\n",
       "    <tr>\n",
       "      <th>1</th>\n",
       "      <td>2</td>\n",
       "      <td>0</td>\n",
       "      <td>2</td>\n",
       "      <td>3</td>\n",
       "      <td>0</td>\n",
       "      <td>5</td>\n",
       "      <td>11</td>\n",
       "      <td>6</td>\n",
       "      <td>0</td>\n",
       "      <td>0</td>\n",
       "      <td>...</td>\n",
       "      <td>0</td>\n",
       "      <td>0</td>\n",
       "      <td>0</td>\n",
       "      <td>0</td>\n",
       "      <td>0</td>\n",
       "      <td>0</td>\n",
       "      <td>0</td>\n",
       "      <td>0</td>\n",
       "      <td>0</td>\n",
       "      <td>1</td>\n",
       "    </tr>\n",
       "    <tr>\n",
       "      <th>2</th>\n",
       "      <td>1</td>\n",
       "      <td>0</td>\n",
       "      <td>2</td>\n",
       "      <td>1</td>\n",
       "      <td>0</td>\n",
       "      <td>1</td>\n",
       "      <td>2</td>\n",
       "      <td>28</td>\n",
       "      <td>0</td>\n",
       "      <td>0</td>\n",
       "      <td>...</td>\n",
       "      <td>0</td>\n",
       "      <td>0</td>\n",
       "      <td>0</td>\n",
       "      <td>0</td>\n",
       "      <td>0</td>\n",
       "      <td>0</td>\n",
       "      <td>0</td>\n",
       "      <td>0</td>\n",
       "      <td>0</td>\n",
       "      <td>1</td>\n",
       "    </tr>\n",
       "    <tr>\n",
       "      <th>3</th>\n",
       "      <td>2</td>\n",
       "      <td>0</td>\n",
       "      <td>0</td>\n",
       "      <td>2</td>\n",
       "      <td>0</td>\n",
       "      <td>211</td>\n",
       "      <td>5</td>\n",
       "      <td>20</td>\n",
       "      <td>0</td>\n",
       "      <td>0</td>\n",
       "      <td>...</td>\n",
       "      <td>0</td>\n",
       "      <td>0</td>\n",
       "      <td>0</td>\n",
       "      <td>0</td>\n",
       "      <td>0</td>\n",
       "      <td>0</td>\n",
       "      <td>0</td>\n",
       "      <td>0</td>\n",
       "      <td>0</td>\n",
       "      <td>1</td>\n",
       "    </tr>\n",
       "    <tr>\n",
       "      <th>4</th>\n",
       "      <td>2</td>\n",
       "      <td>0</td>\n",
       "      <td>1</td>\n",
       "      <td>1</td>\n",
       "      <td>0</td>\n",
       "      <td>48</td>\n",
       "      <td>4</td>\n",
       "      <td>11</td>\n",
       "      <td>0</td>\n",
       "      <td>0</td>\n",
       "      <td>...</td>\n",
       "      <td>0</td>\n",
       "      <td>0</td>\n",
       "      <td>0</td>\n",
       "      <td>0</td>\n",
       "      <td>0</td>\n",
       "      <td>0</td>\n",
       "      <td>0</td>\n",
       "      <td>0</td>\n",
       "      <td>0</td>\n",
       "      <td>1</td>\n",
       "    </tr>\n",
       "    <tr>\n",
       "      <th>...</th>\n",
       "      <td>...</td>\n",
       "      <td>...</td>\n",
       "      <td>...</td>\n",
       "      <td>...</td>\n",
       "      <td>...</td>\n",
       "      <td>...</td>\n",
       "      <td>...</td>\n",
       "      <td>...</td>\n",
       "      <td>...</td>\n",
       "      <td>...</td>\n",
       "      <td>...</td>\n",
       "      <td>...</td>\n",
       "      <td>...</td>\n",
       "      <td>...</td>\n",
       "      <td>...</td>\n",
       "      <td>...</td>\n",
       "      <td>...</td>\n",
       "      <td>...</td>\n",
       "      <td>...</td>\n",
       "      <td>...</td>\n",
       "      <td>...</td>\n",
       "    </tr>\n",
       "    <tr>\n",
       "      <th>36270</th>\n",
       "      <td>3</td>\n",
       "      <td>0</td>\n",
       "      <td>2</td>\n",
       "      <td>6</td>\n",
       "      <td>0</td>\n",
       "      <td>85</td>\n",
       "      <td>8</td>\n",
       "      <td>3</td>\n",
       "      <td>0</td>\n",
       "      <td>0</td>\n",
       "      <td>...</td>\n",
       "      <td>0</td>\n",
       "      <td>0</td>\n",
       "      <td>1</td>\n",
       "      <td>0</td>\n",
       "      <td>0</td>\n",
       "      <td>0</td>\n",
       "      <td>0</td>\n",
       "      <td>0</td>\n",
       "      <td>0</td>\n",
       "      <td>1</td>\n",
       "    </tr>\n",
       "    <tr>\n",
       "      <th>36271</th>\n",
       "      <td>2</td>\n",
       "      <td>0</td>\n",
       "      <td>1</td>\n",
       "      <td>3</td>\n",
       "      <td>0</td>\n",
       "      <td>228</td>\n",
       "      <td>10</td>\n",
       "      <td>17</td>\n",
       "      <td>0</td>\n",
       "      <td>0</td>\n",
       "      <td>...</td>\n",
       "      <td>0</td>\n",
       "      <td>0</td>\n",
       "      <td>0</td>\n",
       "      <td>0</td>\n",
       "      <td>0</td>\n",
       "      <td>0</td>\n",
       "      <td>0</td>\n",
       "      <td>0</td>\n",
       "      <td>0</td>\n",
       "      <td>1</td>\n",
       "    </tr>\n",
       "    <tr>\n",
       "      <th>36272</th>\n",
       "      <td>2</td>\n",
       "      <td>0</td>\n",
       "      <td>2</td>\n",
       "      <td>6</td>\n",
       "      <td>0</td>\n",
       "      <td>148</td>\n",
       "      <td>7</td>\n",
       "      <td>1</td>\n",
       "      <td>0</td>\n",
       "      <td>0</td>\n",
       "      <td>...</td>\n",
       "      <td>0</td>\n",
       "      <td>0</td>\n",
       "      <td>0</td>\n",
       "      <td>0</td>\n",
       "      <td>0</td>\n",
       "      <td>0</td>\n",
       "      <td>0</td>\n",
       "      <td>0</td>\n",
       "      <td>0</td>\n",
       "      <td>1</td>\n",
       "    </tr>\n",
       "    <tr>\n",
       "      <th>36273</th>\n",
       "      <td>2</td>\n",
       "      <td>0</td>\n",
       "      <td>0</td>\n",
       "      <td>3</td>\n",
       "      <td>0</td>\n",
       "      <td>63</td>\n",
       "      <td>4</td>\n",
       "      <td>21</td>\n",
       "      <td>0</td>\n",
       "      <td>0</td>\n",
       "      <td>...</td>\n",
       "      <td>0</td>\n",
       "      <td>0</td>\n",
       "      <td>0</td>\n",
       "      <td>0</td>\n",
       "      <td>0</td>\n",
       "      <td>0</td>\n",
       "      <td>0</td>\n",
       "      <td>0</td>\n",
       "      <td>0</td>\n",
       "      <td>1</td>\n",
       "    </tr>\n",
       "    <tr>\n",
       "      <th>36274</th>\n",
       "      <td>2</td>\n",
       "      <td>0</td>\n",
       "      <td>1</td>\n",
       "      <td>2</td>\n",
       "      <td>0</td>\n",
       "      <td>207</td>\n",
       "      <td>12</td>\n",
       "      <td>30</td>\n",
       "      <td>0</td>\n",
       "      <td>0</td>\n",
       "      <td>...</td>\n",
       "      <td>0</td>\n",
       "      <td>0</td>\n",
       "      <td>0</td>\n",
       "      <td>0</td>\n",
       "      <td>0</td>\n",
       "      <td>0</td>\n",
       "      <td>0</td>\n",
       "      <td>0</td>\n",
       "      <td>1</td>\n",
       "      <td>0</td>\n",
       "    </tr>\n",
       "  </tbody>\n",
       "</table>\n",
       "<p>36275 rows × 27 columns</p>\n",
       "</div>"
      ],
      "text/plain": [
       "       no_of_adults  no_of_children  no_of_weekend_nights  no_of_week_nights  \\\n",
       "0                 2               0                     1                  2   \n",
       "1                 2               0                     2                  3   \n",
       "2                 1               0                     2                  1   \n",
       "3                 2               0                     0                  2   \n",
       "4                 2               0                     1                  1   \n",
       "...             ...             ...                   ...                ...   \n",
       "36270             3               0                     2                  6   \n",
       "36271             2               0                     1                  3   \n",
       "36272             2               0                     2                  6   \n",
       "36273             2               0                     0                  3   \n",
       "36274             2               0                     1                  2   \n",
       "\n",
       "       required_car_parking_space  lead_time  arrival_month  arrival_date  \\\n",
       "0                               0        224             10             2   \n",
       "1                               0          5             11             6   \n",
       "2                               0          1              2            28   \n",
       "3                               0        211              5            20   \n",
       "4                               0         48              4            11   \n",
       "...                           ...        ...            ...           ...   \n",
       "36270                           0         85              8             3   \n",
       "36271                           0        228             10            17   \n",
       "36272                           0        148              7             1   \n",
       "36273                           0         63              4            21   \n",
       "36274                           0        207             12            30   \n",
       "\n",
       "       repeated_guest  no_of_previous_cancellations  ...  Room_Type 2  \\\n",
       "0                   0                             0  ...            0   \n",
       "1                   0                             0  ...            0   \n",
       "2                   0                             0  ...            0   \n",
       "3                   0                             0  ...            0   \n",
       "4                   0                             0  ...            0   \n",
       "...               ...                           ...  ...          ...   \n",
       "36270               0                             0  ...            0   \n",
       "36271               0                             0  ...            0   \n",
       "36272               0                             0  ...            0   \n",
       "36273               0                             0  ...            0   \n",
       "36274               0                             0  ...            0   \n",
       "\n",
       "       Room_Type 3  Room_Type 4  Room_Type 5  Room_Type 6  Room_Type 7  \\\n",
       "0                0            0            0            0            0   \n",
       "1                0            0            0            0            0   \n",
       "2                0            0            0            0            0   \n",
       "3                0            0            0            0            0   \n",
       "4                0            0            0            0            0   \n",
       "...            ...          ...          ...          ...          ...   \n",
       "36270            0            1            0            0            0   \n",
       "36271            0            0            0            0            0   \n",
       "36272            0            0            0            0            0   \n",
       "36273            0            0            0            0            0   \n",
       "36274            0            0            0            0            0   \n",
       "\n",
       "       Complementary  Corporate  Offline  Online  \n",
       "0                  0          0        1       0  \n",
       "1                  0          0        0       1  \n",
       "2                  0          0        0       1  \n",
       "3                  0          0        0       1  \n",
       "4                  0          0        0       1  \n",
       "...              ...        ...      ...     ...  \n",
       "36270              0          0        0       1  \n",
       "36271              0          0        0       1  \n",
       "36272              0          0        0       1  \n",
       "36273              0          0        0       1  \n",
       "36274              0          0        1       0  \n",
       "\n",
       "[36275 rows x 27 columns]"
      ]
     },
     "execution_count": 20,
     "metadata": {},
     "output_type": "execute_result"
    }
   ],
   "source": [
    "df"
   ]
  },
  {
   "cell_type": "code",
   "execution_count": 21,
   "id": "9020f997",
   "metadata": {
    "execution": {
     "iopub.execute_input": "2023-02-16T05:12:27.965294Z",
     "iopub.status.busy": "2023-02-16T05:12:27.964925Z",
     "iopub.status.idle": "2023-02-16T05:12:27.970389Z",
     "shell.execute_reply": "2023-02-16T05:12:27.969557Z"
    },
    "papermill": {
     "duration": 0.022989,
     "end_time": "2023-02-16T05:12:27.972291",
     "exception": false,
     "start_time": "2023-02-16T05:12:27.949302",
     "status": "completed"
    },
    "tags": []
   },
   "outputs": [],
   "source": [
    "Y = df.booking_status\n",
    "X = df.drop(columns=\"booking_status\")"
   ]
  },
  {
   "cell_type": "code",
   "execution_count": 22,
   "id": "e8d45ab2",
   "metadata": {
    "execution": {
     "iopub.execute_input": "2023-02-16T05:12:28.002446Z",
     "iopub.status.busy": "2023-02-16T05:12:28.001914Z",
     "iopub.status.idle": "2023-02-16T05:12:28.022646Z",
     "shell.execute_reply": "2023-02-16T05:12:28.021961Z"
    },
    "papermill": {
     "duration": 0.037748,
     "end_time": "2023-02-16T05:12:28.024313",
     "exception": false,
     "start_time": "2023-02-16T05:12:27.986565",
     "status": "completed"
    },
    "tags": []
   },
   "outputs": [
    {
     "data": {
      "text/html": [
       "<div>\n",
       "<style scoped>\n",
       "    .dataframe tbody tr th:only-of-type {\n",
       "        vertical-align: middle;\n",
       "    }\n",
       "\n",
       "    .dataframe tbody tr th {\n",
       "        vertical-align: top;\n",
       "    }\n",
       "\n",
       "    .dataframe thead th {\n",
       "        text-align: right;\n",
       "    }\n",
       "</style>\n",
       "<table border=\"1\" class=\"dataframe\">\n",
       "  <thead>\n",
       "    <tr style=\"text-align: right;\">\n",
       "      <th></th>\n",
       "      <th>no_of_adults</th>\n",
       "      <th>no_of_children</th>\n",
       "      <th>no_of_weekend_nights</th>\n",
       "      <th>no_of_week_nights</th>\n",
       "      <th>required_car_parking_space</th>\n",
       "      <th>lead_time</th>\n",
       "      <th>arrival_month</th>\n",
       "      <th>arrival_date</th>\n",
       "      <th>repeated_guest</th>\n",
       "      <th>no_of_previous_cancellations</th>\n",
       "      <th>...</th>\n",
       "      <th>Room_Type 2</th>\n",
       "      <th>Room_Type 3</th>\n",
       "      <th>Room_Type 4</th>\n",
       "      <th>Room_Type 5</th>\n",
       "      <th>Room_Type 6</th>\n",
       "      <th>Room_Type 7</th>\n",
       "      <th>Complementary</th>\n",
       "      <th>Corporate</th>\n",
       "      <th>Offline</th>\n",
       "      <th>Online</th>\n",
       "    </tr>\n",
       "  </thead>\n",
       "  <tbody>\n",
       "    <tr>\n",
       "      <th>0</th>\n",
       "      <td>2</td>\n",
       "      <td>0</td>\n",
       "      <td>1</td>\n",
       "      <td>2</td>\n",
       "      <td>0</td>\n",
       "      <td>224</td>\n",
       "      <td>10</td>\n",
       "      <td>2</td>\n",
       "      <td>0</td>\n",
       "      <td>0</td>\n",
       "      <td>...</td>\n",
       "      <td>0</td>\n",
       "      <td>0</td>\n",
       "      <td>0</td>\n",
       "      <td>0</td>\n",
       "      <td>0</td>\n",
       "      <td>0</td>\n",
       "      <td>0</td>\n",
       "      <td>0</td>\n",
       "      <td>1</td>\n",
       "      <td>0</td>\n",
       "    </tr>\n",
       "    <tr>\n",
       "      <th>1</th>\n",
       "      <td>2</td>\n",
       "      <td>0</td>\n",
       "      <td>2</td>\n",
       "      <td>3</td>\n",
       "      <td>0</td>\n",
       "      <td>5</td>\n",
       "      <td>11</td>\n",
       "      <td>6</td>\n",
       "      <td>0</td>\n",
       "      <td>0</td>\n",
       "      <td>...</td>\n",
       "      <td>0</td>\n",
       "      <td>0</td>\n",
       "      <td>0</td>\n",
       "      <td>0</td>\n",
       "      <td>0</td>\n",
       "      <td>0</td>\n",
       "      <td>0</td>\n",
       "      <td>0</td>\n",
       "      <td>0</td>\n",
       "      <td>1</td>\n",
       "    </tr>\n",
       "    <tr>\n",
       "      <th>2</th>\n",
       "      <td>1</td>\n",
       "      <td>0</td>\n",
       "      <td>2</td>\n",
       "      <td>1</td>\n",
       "      <td>0</td>\n",
       "      <td>1</td>\n",
       "      <td>2</td>\n",
       "      <td>28</td>\n",
       "      <td>0</td>\n",
       "      <td>0</td>\n",
       "      <td>...</td>\n",
       "      <td>0</td>\n",
       "      <td>0</td>\n",
       "      <td>0</td>\n",
       "      <td>0</td>\n",
       "      <td>0</td>\n",
       "      <td>0</td>\n",
       "      <td>0</td>\n",
       "      <td>0</td>\n",
       "      <td>0</td>\n",
       "      <td>1</td>\n",
       "    </tr>\n",
       "    <tr>\n",
       "      <th>3</th>\n",
       "      <td>2</td>\n",
       "      <td>0</td>\n",
       "      <td>0</td>\n",
       "      <td>2</td>\n",
       "      <td>0</td>\n",
       "      <td>211</td>\n",
       "      <td>5</td>\n",
       "      <td>20</td>\n",
       "      <td>0</td>\n",
       "      <td>0</td>\n",
       "      <td>...</td>\n",
       "      <td>0</td>\n",
       "      <td>0</td>\n",
       "      <td>0</td>\n",
       "      <td>0</td>\n",
       "      <td>0</td>\n",
       "      <td>0</td>\n",
       "      <td>0</td>\n",
       "      <td>0</td>\n",
       "      <td>0</td>\n",
       "      <td>1</td>\n",
       "    </tr>\n",
       "    <tr>\n",
       "      <th>4</th>\n",
       "      <td>2</td>\n",
       "      <td>0</td>\n",
       "      <td>1</td>\n",
       "      <td>1</td>\n",
       "      <td>0</td>\n",
       "      <td>48</td>\n",
       "      <td>4</td>\n",
       "      <td>11</td>\n",
       "      <td>0</td>\n",
       "      <td>0</td>\n",
       "      <td>...</td>\n",
       "      <td>0</td>\n",
       "      <td>0</td>\n",
       "      <td>0</td>\n",
       "      <td>0</td>\n",
       "      <td>0</td>\n",
       "      <td>0</td>\n",
       "      <td>0</td>\n",
       "      <td>0</td>\n",
       "      <td>0</td>\n",
       "      <td>1</td>\n",
       "    </tr>\n",
       "    <tr>\n",
       "      <th>...</th>\n",
       "      <td>...</td>\n",
       "      <td>...</td>\n",
       "      <td>...</td>\n",
       "      <td>...</td>\n",
       "      <td>...</td>\n",
       "      <td>...</td>\n",
       "      <td>...</td>\n",
       "      <td>...</td>\n",
       "      <td>...</td>\n",
       "      <td>...</td>\n",
       "      <td>...</td>\n",
       "      <td>...</td>\n",
       "      <td>...</td>\n",
       "      <td>...</td>\n",
       "      <td>...</td>\n",
       "      <td>...</td>\n",
       "      <td>...</td>\n",
       "      <td>...</td>\n",
       "      <td>...</td>\n",
       "      <td>...</td>\n",
       "      <td>...</td>\n",
       "    </tr>\n",
       "    <tr>\n",
       "      <th>36270</th>\n",
       "      <td>3</td>\n",
       "      <td>0</td>\n",
       "      <td>2</td>\n",
       "      <td>6</td>\n",
       "      <td>0</td>\n",
       "      <td>85</td>\n",
       "      <td>8</td>\n",
       "      <td>3</td>\n",
       "      <td>0</td>\n",
       "      <td>0</td>\n",
       "      <td>...</td>\n",
       "      <td>0</td>\n",
       "      <td>0</td>\n",
       "      <td>1</td>\n",
       "      <td>0</td>\n",
       "      <td>0</td>\n",
       "      <td>0</td>\n",
       "      <td>0</td>\n",
       "      <td>0</td>\n",
       "      <td>0</td>\n",
       "      <td>1</td>\n",
       "    </tr>\n",
       "    <tr>\n",
       "      <th>36271</th>\n",
       "      <td>2</td>\n",
       "      <td>0</td>\n",
       "      <td>1</td>\n",
       "      <td>3</td>\n",
       "      <td>0</td>\n",
       "      <td>228</td>\n",
       "      <td>10</td>\n",
       "      <td>17</td>\n",
       "      <td>0</td>\n",
       "      <td>0</td>\n",
       "      <td>...</td>\n",
       "      <td>0</td>\n",
       "      <td>0</td>\n",
       "      <td>0</td>\n",
       "      <td>0</td>\n",
       "      <td>0</td>\n",
       "      <td>0</td>\n",
       "      <td>0</td>\n",
       "      <td>0</td>\n",
       "      <td>0</td>\n",
       "      <td>1</td>\n",
       "    </tr>\n",
       "    <tr>\n",
       "      <th>36272</th>\n",
       "      <td>2</td>\n",
       "      <td>0</td>\n",
       "      <td>2</td>\n",
       "      <td>6</td>\n",
       "      <td>0</td>\n",
       "      <td>148</td>\n",
       "      <td>7</td>\n",
       "      <td>1</td>\n",
       "      <td>0</td>\n",
       "      <td>0</td>\n",
       "      <td>...</td>\n",
       "      <td>0</td>\n",
       "      <td>0</td>\n",
       "      <td>0</td>\n",
       "      <td>0</td>\n",
       "      <td>0</td>\n",
       "      <td>0</td>\n",
       "      <td>0</td>\n",
       "      <td>0</td>\n",
       "      <td>0</td>\n",
       "      <td>1</td>\n",
       "    </tr>\n",
       "    <tr>\n",
       "      <th>36273</th>\n",
       "      <td>2</td>\n",
       "      <td>0</td>\n",
       "      <td>0</td>\n",
       "      <td>3</td>\n",
       "      <td>0</td>\n",
       "      <td>63</td>\n",
       "      <td>4</td>\n",
       "      <td>21</td>\n",
       "      <td>0</td>\n",
       "      <td>0</td>\n",
       "      <td>...</td>\n",
       "      <td>0</td>\n",
       "      <td>0</td>\n",
       "      <td>0</td>\n",
       "      <td>0</td>\n",
       "      <td>0</td>\n",
       "      <td>0</td>\n",
       "      <td>0</td>\n",
       "      <td>0</td>\n",
       "      <td>0</td>\n",
       "      <td>1</td>\n",
       "    </tr>\n",
       "    <tr>\n",
       "      <th>36274</th>\n",
       "      <td>2</td>\n",
       "      <td>0</td>\n",
       "      <td>1</td>\n",
       "      <td>2</td>\n",
       "      <td>0</td>\n",
       "      <td>207</td>\n",
       "      <td>12</td>\n",
       "      <td>30</td>\n",
       "      <td>0</td>\n",
       "      <td>0</td>\n",
       "      <td>...</td>\n",
       "      <td>0</td>\n",
       "      <td>0</td>\n",
       "      <td>0</td>\n",
       "      <td>0</td>\n",
       "      <td>0</td>\n",
       "      <td>0</td>\n",
       "      <td>0</td>\n",
       "      <td>0</td>\n",
       "      <td>1</td>\n",
       "      <td>0</td>\n",
       "    </tr>\n",
       "  </tbody>\n",
       "</table>\n",
       "<p>36275 rows × 26 columns</p>\n",
       "</div>"
      ],
      "text/plain": [
       "       no_of_adults  no_of_children  no_of_weekend_nights  no_of_week_nights  \\\n",
       "0                 2               0                     1                  2   \n",
       "1                 2               0                     2                  3   \n",
       "2                 1               0                     2                  1   \n",
       "3                 2               0                     0                  2   \n",
       "4                 2               0                     1                  1   \n",
       "...             ...             ...                   ...                ...   \n",
       "36270             3               0                     2                  6   \n",
       "36271             2               0                     1                  3   \n",
       "36272             2               0                     2                  6   \n",
       "36273             2               0                     0                  3   \n",
       "36274             2               0                     1                  2   \n",
       "\n",
       "       required_car_parking_space  lead_time  arrival_month  arrival_date  \\\n",
       "0                               0        224             10             2   \n",
       "1                               0          5             11             6   \n",
       "2                               0          1              2            28   \n",
       "3                               0        211              5            20   \n",
       "4                               0         48              4            11   \n",
       "...                           ...        ...            ...           ...   \n",
       "36270                           0         85              8             3   \n",
       "36271                           0        228             10            17   \n",
       "36272                           0        148              7             1   \n",
       "36273                           0         63              4            21   \n",
       "36274                           0        207             12            30   \n",
       "\n",
       "       repeated_guest  no_of_previous_cancellations  ...  Room_Type 2  \\\n",
       "0                   0                             0  ...            0   \n",
       "1                   0                             0  ...            0   \n",
       "2                   0                             0  ...            0   \n",
       "3                   0                             0  ...            0   \n",
       "4                   0                             0  ...            0   \n",
       "...               ...                           ...  ...          ...   \n",
       "36270               0                             0  ...            0   \n",
       "36271               0                             0  ...            0   \n",
       "36272               0                             0  ...            0   \n",
       "36273               0                             0  ...            0   \n",
       "36274               0                             0  ...            0   \n",
       "\n",
       "       Room_Type 3  Room_Type 4  Room_Type 5  Room_Type 6  Room_Type 7  \\\n",
       "0                0            0            0            0            0   \n",
       "1                0            0            0            0            0   \n",
       "2                0            0            0            0            0   \n",
       "3                0            0            0            0            0   \n",
       "4                0            0            0            0            0   \n",
       "...            ...          ...          ...          ...          ...   \n",
       "36270            0            1            0            0            0   \n",
       "36271            0            0            0            0            0   \n",
       "36272            0            0            0            0            0   \n",
       "36273            0            0            0            0            0   \n",
       "36274            0            0            0            0            0   \n",
       "\n",
       "       Complementary  Corporate  Offline  Online  \n",
       "0                  0          0        1       0  \n",
       "1                  0          0        0       1  \n",
       "2                  0          0        0       1  \n",
       "3                  0          0        0       1  \n",
       "4                  0          0        0       1  \n",
       "...              ...        ...      ...     ...  \n",
       "36270              0          0        0       1  \n",
       "36271              0          0        0       1  \n",
       "36272              0          0        0       1  \n",
       "36273              0          0        0       1  \n",
       "36274              0          0        1       0  \n",
       "\n",
       "[36275 rows x 26 columns]"
      ]
     },
     "execution_count": 22,
     "metadata": {},
     "output_type": "execute_result"
    }
   ],
   "source": [
    "X"
   ]
  },
  {
   "cell_type": "code",
   "execution_count": 23,
   "id": "60088331",
   "metadata": {
    "execution": {
     "iopub.execute_input": "2023-02-16T05:12:28.056341Z",
     "iopub.status.busy": "2023-02-16T05:12:28.055782Z",
     "iopub.status.idle": "2023-02-16T05:12:28.062649Z",
     "shell.execute_reply": "2023-02-16T05:12:28.061818Z"
    },
    "papermill": {
     "duration": 0.025078,
     "end_time": "2023-02-16T05:12:28.064431",
     "exception": false,
     "start_time": "2023-02-16T05:12:28.039353",
     "status": "completed"
    },
    "tags": []
   },
   "outputs": [
    {
     "data": {
      "text/plain": [
       "0        0\n",
       "1        0\n",
       "2        1\n",
       "3        1\n",
       "4        1\n",
       "        ..\n",
       "36270    0\n",
       "36271    1\n",
       "36272    0\n",
       "36273    1\n",
       "36274    0\n",
       "Name: booking_status, Length: 36275, dtype: int64"
      ]
     },
     "execution_count": 23,
     "metadata": {},
     "output_type": "execute_result"
    }
   ],
   "source": [
    "Y"
   ]
  },
  {
   "cell_type": "code",
   "execution_count": 24,
   "id": "5b05d3a0",
   "metadata": {
    "execution": {
     "iopub.execute_input": "2023-02-16T05:12:28.097394Z",
     "iopub.status.busy": "2023-02-16T05:12:28.096871Z",
     "iopub.status.idle": "2023-02-16T05:12:28.315488Z",
     "shell.execute_reply": "2023-02-16T05:12:28.314287Z"
    },
    "papermill": {
     "duration": 0.238508,
     "end_time": "2023-02-16T05:12:28.318344",
     "exception": false,
     "start_time": "2023-02-16T05:12:28.079836",
     "status": "completed"
    },
    "tags": []
   },
   "outputs": [],
   "source": [
    "from sklearn.model_selection import train_test_split"
   ]
  },
  {
   "cell_type": "code",
   "execution_count": 25,
   "id": "8b75a40b",
   "metadata": {
    "execution": {
     "iopub.execute_input": "2023-02-16T05:12:28.352156Z",
     "iopub.status.busy": "2023-02-16T05:12:28.351780Z",
     "iopub.status.idle": "2023-02-16T05:12:28.356040Z",
     "shell.execute_reply": "2023-02-16T05:12:28.355203Z"
    },
    "papermill": {
     "duration": 0.023081,
     "end_time": "2023-02-16T05:12:28.358394",
     "exception": false,
     "start_time": "2023-02-16T05:12:28.335313",
     "status": "completed"
    },
    "tags": []
   },
   "outputs": [],
   "source": [
    "from sklearn.preprocessing import StandardScaler\n",
    "sc = StandardScaler()"
   ]
  },
  {
   "cell_type": "code",
   "execution_count": 26,
   "id": "22653a4a",
   "metadata": {
    "execution": {
     "iopub.execute_input": "2023-02-16T05:12:28.390138Z",
     "iopub.status.busy": "2023-02-16T05:12:28.389753Z",
     "iopub.status.idle": "2023-02-16T05:12:28.400628Z",
     "shell.execute_reply": "2023-02-16T05:12:28.399225Z"
    },
    "papermill": {
     "duration": 0.0297,
     "end_time": "2023-02-16T05:12:28.403103",
     "exception": false,
     "start_time": "2023-02-16T05:12:28.373403",
     "status": "completed"
    },
    "tags": []
   },
   "outputs": [],
   "source": [
    "df['lead_time'] = sc.fit_transform(df[['lead_time']])"
   ]
  },
  {
   "cell_type": "code",
   "execution_count": 27,
   "id": "f0091122",
   "metadata": {
    "execution": {
     "iopub.execute_input": "2023-02-16T05:12:28.434353Z",
     "iopub.status.busy": "2023-02-16T05:12:28.433993Z",
     "iopub.status.idle": "2023-02-16T05:12:28.457600Z",
     "shell.execute_reply": "2023-02-16T05:12:28.456577Z"
    },
    "papermill": {
     "duration": 0.041773,
     "end_time": "2023-02-16T05:12:28.459881",
     "exception": false,
     "start_time": "2023-02-16T05:12:28.418108",
     "status": "completed"
    },
    "tags": []
   },
   "outputs": [],
   "source": [
    "train_x, test_x, train_y, test_y = train_test_split(X,Y, test_size=0.2, random_state=42,stratify = Y)"
   ]
  },
  {
   "cell_type": "code",
   "execution_count": 28,
   "id": "e7ab07de",
   "metadata": {
    "execution": {
     "iopub.execute_input": "2023-02-16T05:12:28.492779Z",
     "iopub.status.busy": "2023-02-16T05:12:28.492147Z",
     "iopub.status.idle": "2023-02-16T05:12:32.308624Z",
     "shell.execute_reply": "2023-02-16T05:12:32.307195Z"
    },
    "papermill": {
     "duration": 3.835816,
     "end_time": "2023-02-16T05:12:32.311533",
     "exception": false,
     "start_time": "2023-02-16T05:12:28.475717",
     "status": "completed"
    },
    "tags": []
   },
   "outputs": [
    {
     "data": {
      "text/plain": [
       "RandomForestClassifier(random_state=42)"
      ]
     },
     "execution_count": 28,
     "metadata": {},
     "output_type": "execute_result"
    }
   ],
   "source": [
    "from sklearn.ensemble import RandomForestClassifier\n",
    "rf = RandomForestClassifier(random_state=42)\n",
    "rf.fit(train_x, train_y)"
   ]
  },
  {
   "cell_type": "code",
   "execution_count": 29,
   "id": "887b45c9",
   "metadata": {
    "execution": {
     "iopub.execute_input": "2023-02-16T05:12:32.343812Z",
     "iopub.status.busy": "2023-02-16T05:12:32.343454Z",
     "iopub.status.idle": "2023-02-16T05:12:32.505074Z",
     "shell.execute_reply": "2023-02-16T05:12:32.503779Z"
    },
    "papermill": {
     "duration": 0.180577,
     "end_time": "2023-02-16T05:12:32.507460",
     "exception": false,
     "start_time": "2023-02-16T05:12:32.326883",
     "status": "completed"
    },
    "tags": []
   },
   "outputs": [],
   "source": [
    "y_predict = rf.predict(test_x)"
   ]
  },
  {
   "cell_type": "code",
   "execution_count": 30,
   "id": "804537a7",
   "metadata": {
    "execution": {
     "iopub.execute_input": "2023-02-16T05:12:32.539206Z",
     "iopub.status.busy": "2023-02-16T05:12:32.538871Z",
     "iopub.status.idle": "2023-02-16T05:12:32.547668Z",
     "shell.execute_reply": "2023-02-16T05:12:32.546937Z"
    },
    "papermill": {
     "duration": 0.027122,
     "end_time": "2023-02-16T05:12:32.549567",
     "exception": false,
     "start_time": "2023-02-16T05:12:32.522445",
     "status": "completed"
    },
    "tags": []
   },
   "outputs": [],
   "source": [
    "from sklearn.metrics import confusion_matrix\n",
    "cm = confusion_matrix(test_y,y_predict)"
   ]
  },
  {
   "cell_type": "code",
   "execution_count": 31,
   "id": "47e21cf1",
   "metadata": {
    "execution": {
     "iopub.execute_input": "2023-02-16T05:12:32.583783Z",
     "iopub.status.busy": "2023-02-16T05:12:32.583360Z",
     "iopub.status.idle": "2023-02-16T05:12:32.590468Z",
     "shell.execute_reply": "2023-02-16T05:12:32.589256Z"
    },
    "papermill": {
     "duration": 0.027325,
     "end_time": "2023-02-16T05:12:32.592985",
     "exception": false,
     "start_time": "2023-02-16T05:12:32.565660",
     "status": "completed"
    },
    "tags": []
   },
   "outputs": [
    {
     "data": {
      "text/plain": [
       "array([[4654,  224],\n",
       "       [ 455, 1922]])"
      ]
     },
     "execution_count": 31,
     "metadata": {},
     "output_type": "execute_result"
    }
   ],
   "source": [
    "cm"
   ]
  },
  {
   "cell_type": "code",
   "execution_count": 32,
   "id": "f7dbb8b0",
   "metadata": {
    "execution": {
     "iopub.execute_input": "2023-02-16T05:12:32.627419Z",
     "iopub.status.busy": "2023-02-16T05:12:32.626815Z",
     "iopub.status.idle": "2023-02-16T05:12:32.780800Z",
     "shell.execute_reply": "2023-02-16T05:12:32.780176Z"
    },
    "papermill": {
     "duration": 0.173075,
     "end_time": "2023-02-16T05:12:32.782559",
     "exception": false,
     "start_time": "2023-02-16T05:12:32.609484",
     "status": "completed"
    },
    "tags": []
   },
   "outputs": [
    {
     "data": {
      "text/plain": [
       "0.9064093728463128"
      ]
     },
     "execution_count": 32,
     "metadata": {},
     "output_type": "execute_result"
    }
   ],
   "source": [
    "rf.score(test_x,test_y)"
   ]
  },
  {
   "cell_type": "code",
   "execution_count": null,
   "id": "093b293c",
   "metadata": {
    "papermill": {
     "duration": 0.016597,
     "end_time": "2023-02-16T05:12:32.815053",
     "exception": false,
     "start_time": "2023-02-16T05:12:32.798456",
     "status": "completed"
    },
    "tags": []
   },
   "outputs": [],
   "source": []
  }
 ],
 "metadata": {
  "kernelspec": {
   "display_name": "Python 3",
   "language": "python",
   "name": "python3"
  },
  "language_info": {
   "codemirror_mode": {
    "name": "ipython",
    "version": 3
   },
   "file_extension": ".py",
   "mimetype": "text/x-python",
   "name": "python",
   "nbconvert_exporter": "python",
   "pygments_lexer": "ipython3",
   "version": "3.7.12"
  },
  "papermill": {
   "default_parameters": {},
   "duration": 20.407781,
   "end_time": "2023-02-16T05:12:33.652663",
   "environment_variables": {},
   "exception": null,
   "input_path": "__notebook__.ipynb",
   "output_path": "__notebook__.ipynb",
   "parameters": {},
   "start_time": "2023-02-16T05:12:13.244882",
   "version": "2.3.4"
  }
 },
 "nbformat": 4,
 "nbformat_minor": 5
}
