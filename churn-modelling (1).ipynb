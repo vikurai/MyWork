{
 "cells": [
  {
   "cell_type": "code",
   "execution_count": 1,
   "id": "1c9e8a68",
   "metadata": {
    "_cell_guid": "b1076dfc-b9ad-4769-8c92-a6c4dae69d19",
    "_uuid": "8f2839f25d086af736a60e9eeb907d3b93b6e0e5",
    "execution": {
     "iopub.execute_input": "2023-03-03T18:02:43.400021Z",
     "iopub.status.busy": "2023-03-03T18:02:43.399543Z",
     "iopub.status.idle": "2023-03-03T18:02:43.418213Z",
     "shell.execute_reply": "2023-03-03T18:02:43.416801Z"
    },
    "papermill": {
     "duration": 0.033461,
     "end_time": "2023-03-03T18:02:43.421309",
     "exception": false,
     "start_time": "2023-03-03T18:02:43.387848",
     "status": "completed"
    },
    "tags": []
   },
   "outputs": [
    {
     "name": "stdout",
     "output_type": "stream",
     "text": [
      "/kaggle/input/churn-modelling/Churn_Modelling.csv\n"
     ]
    }
   ],
   "source": [
    "# This Python 3 environment comes with many helpful analytics libraries installed\n",
    "# It is defined by the kaggle/python Docker image: https://github.com/kaggle/docker-python\n",
    "# For example, here's several helpful packages to load\n",
    "\n",
    "import numpy as np # linear algebra\n",
    "import pandas as pd # data processing, CSV file I/O (e.g. pd.read_csv)\n",
    "\n",
    "# Input data files are available in the read-only \"../input/\" directory\n",
    "# For example, running this (by clicking run or pressing Shift+Enter) will list all files under the input directory\n",
    "\n",
    "import os\n",
    "for dirname, _, filenames in os.walk('/kaggle/input'):\n",
    "    for filename in filenames:\n",
    "        print(os.path.join(dirname, filename))\n",
    "\n",
    "# You can write up to 20GB to the current directory (/kaggle/working/) that gets preserved as output when you create a version using \"Save & Run All\" \n",
    "# You can also write temporary files to /kaggle/temp/, but they won't be saved outside of the current session"
   ]
  },
  {
   "cell_type": "markdown",
   "id": "cc899ad9",
   "metadata": {
    "papermill": {
     "duration": 0.009026,
     "end_time": "2023-03-03T18:02:43.439603",
     "exception": false,
     "start_time": "2023-03-03T18:02:43.430577",
     "status": "completed"
    },
    "tags": []
   },
   "source": [
    "importing libraries for the project and to load the file."
   ]
  },
  {
   "cell_type": "code",
   "execution_count": 2,
   "id": "62f9db71",
   "metadata": {
    "execution": {
     "iopub.execute_input": "2023-03-03T18:02:43.459395Z",
     "iopub.status.busy": "2023-03-03T18:02:43.458995Z",
     "iopub.status.idle": "2023-03-03T18:02:44.978106Z",
     "shell.execute_reply": "2023-03-03T18:02:44.976928Z"
    },
    "papermill": {
     "duration": 1.532264,
     "end_time": "2023-03-03T18:02:44.980977",
     "exception": false,
     "start_time": "2023-03-03T18:02:43.448713",
     "status": "completed"
    },
    "tags": []
   },
   "outputs": [],
   "source": [
    "import matplotlib.pyplot as plt\n",
    "import seaborn as sns\n",
    "from sklearn.model_selection import train_test_split\n",
    "from sklearn.preprocessing import StandardScaler\n",
    "from sklearn.linear_model import LogisticRegression\n",
    "from sklearn.metrics import confusion_matrix\n"
   ]
  },
  {
   "cell_type": "code",
   "execution_count": 3,
   "id": "4f1ac046",
   "metadata": {
    "execution": {
     "iopub.execute_input": "2023-03-03T18:02:44.999500Z",
     "iopub.status.busy": "2023-03-03T18:02:44.999070Z",
     "iopub.status.idle": "2023-03-03T18:02:45.053510Z",
     "shell.execute_reply": "2023-03-03T18:02:45.052123Z"
    },
    "papermill": {
     "duration": 0.066703,
     "end_time": "2023-03-03T18:02:45.056187",
     "exception": false,
     "start_time": "2023-03-03T18:02:44.989484",
     "status": "completed"
    },
    "tags": []
   },
   "outputs": [],
   "source": [
    "data= pd.read_csv(\"/kaggle/input/churn-modelling/Churn_Modelling.csv\")"
   ]
  },
  {
   "cell_type": "code",
   "execution_count": 4,
   "id": "3087d216",
   "metadata": {
    "execution": {
     "iopub.execute_input": "2023-03-03T18:02:45.078953Z",
     "iopub.status.busy": "2023-03-03T18:02:45.078140Z",
     "iopub.status.idle": "2023-03-03T18:02:45.104511Z",
     "shell.execute_reply": "2023-03-03T18:02:45.103317Z"
    },
    "papermill": {
     "duration": 0.040561,
     "end_time": "2023-03-03T18:02:45.106907",
     "exception": false,
     "start_time": "2023-03-03T18:02:45.066346",
     "status": "completed"
    },
    "tags": []
   },
   "outputs": [
    {
     "data": {
      "text/html": [
       "<div>\n",
       "<style scoped>\n",
       "    .dataframe tbody tr th:only-of-type {\n",
       "        vertical-align: middle;\n",
       "    }\n",
       "\n",
       "    .dataframe tbody tr th {\n",
       "        vertical-align: top;\n",
       "    }\n",
       "\n",
       "    .dataframe thead th {\n",
       "        text-align: right;\n",
       "    }\n",
       "</style>\n",
       "<table border=\"1\" class=\"dataframe\">\n",
       "  <thead>\n",
       "    <tr style=\"text-align: right;\">\n",
       "      <th></th>\n",
       "      <th>RowNumber</th>\n",
       "      <th>CustomerId</th>\n",
       "      <th>Surname</th>\n",
       "      <th>CreditScore</th>\n",
       "      <th>Geography</th>\n",
       "      <th>Gender</th>\n",
       "      <th>Age</th>\n",
       "      <th>Tenure</th>\n",
       "      <th>Balance</th>\n",
       "      <th>NumOfProducts</th>\n",
       "      <th>HasCrCard</th>\n",
       "      <th>IsActiveMember</th>\n",
       "      <th>EstimatedSalary</th>\n",
       "      <th>Exited</th>\n",
       "    </tr>\n",
       "  </thead>\n",
       "  <tbody>\n",
       "    <tr>\n",
       "      <th>0</th>\n",
       "      <td>1</td>\n",
       "      <td>15634602</td>\n",
       "      <td>Hargrave</td>\n",
       "      <td>619</td>\n",
       "      <td>France</td>\n",
       "      <td>Female</td>\n",
       "      <td>42</td>\n",
       "      <td>2</td>\n",
       "      <td>0.00</td>\n",
       "      <td>1</td>\n",
       "      <td>1</td>\n",
       "      <td>1</td>\n",
       "      <td>101348.88</td>\n",
       "      <td>1</td>\n",
       "    </tr>\n",
       "    <tr>\n",
       "      <th>1</th>\n",
       "      <td>2</td>\n",
       "      <td>15647311</td>\n",
       "      <td>Hill</td>\n",
       "      <td>608</td>\n",
       "      <td>Spain</td>\n",
       "      <td>Female</td>\n",
       "      <td>41</td>\n",
       "      <td>1</td>\n",
       "      <td>83807.86</td>\n",
       "      <td>1</td>\n",
       "      <td>0</td>\n",
       "      <td>1</td>\n",
       "      <td>112542.58</td>\n",
       "      <td>0</td>\n",
       "    </tr>\n",
       "    <tr>\n",
       "      <th>2</th>\n",
       "      <td>3</td>\n",
       "      <td>15619304</td>\n",
       "      <td>Onio</td>\n",
       "      <td>502</td>\n",
       "      <td>France</td>\n",
       "      <td>Female</td>\n",
       "      <td>42</td>\n",
       "      <td>8</td>\n",
       "      <td>159660.80</td>\n",
       "      <td>3</td>\n",
       "      <td>1</td>\n",
       "      <td>0</td>\n",
       "      <td>113931.57</td>\n",
       "      <td>1</td>\n",
       "    </tr>\n",
       "    <tr>\n",
       "      <th>3</th>\n",
       "      <td>4</td>\n",
       "      <td>15701354</td>\n",
       "      <td>Boni</td>\n",
       "      <td>699</td>\n",
       "      <td>France</td>\n",
       "      <td>Female</td>\n",
       "      <td>39</td>\n",
       "      <td>1</td>\n",
       "      <td>0.00</td>\n",
       "      <td>2</td>\n",
       "      <td>0</td>\n",
       "      <td>0</td>\n",
       "      <td>93826.63</td>\n",
       "      <td>0</td>\n",
       "    </tr>\n",
       "    <tr>\n",
       "      <th>4</th>\n",
       "      <td>5</td>\n",
       "      <td>15737888</td>\n",
       "      <td>Mitchell</td>\n",
       "      <td>850</td>\n",
       "      <td>Spain</td>\n",
       "      <td>Female</td>\n",
       "      <td>43</td>\n",
       "      <td>2</td>\n",
       "      <td>125510.82</td>\n",
       "      <td>1</td>\n",
       "      <td>1</td>\n",
       "      <td>1</td>\n",
       "      <td>79084.10</td>\n",
       "      <td>0</td>\n",
       "    </tr>\n",
       "    <tr>\n",
       "      <th>5</th>\n",
       "      <td>6</td>\n",
       "      <td>15574012</td>\n",
       "      <td>Chu</td>\n",
       "      <td>645</td>\n",
       "      <td>Spain</td>\n",
       "      <td>Male</td>\n",
       "      <td>44</td>\n",
       "      <td>8</td>\n",
       "      <td>113755.78</td>\n",
       "      <td>2</td>\n",
       "      <td>1</td>\n",
       "      <td>0</td>\n",
       "      <td>149756.71</td>\n",
       "      <td>1</td>\n",
       "    </tr>\n",
       "    <tr>\n",
       "      <th>6</th>\n",
       "      <td>7</td>\n",
       "      <td>15592531</td>\n",
       "      <td>Bartlett</td>\n",
       "      <td>822</td>\n",
       "      <td>France</td>\n",
       "      <td>Male</td>\n",
       "      <td>50</td>\n",
       "      <td>7</td>\n",
       "      <td>0.00</td>\n",
       "      <td>2</td>\n",
       "      <td>1</td>\n",
       "      <td>1</td>\n",
       "      <td>10062.80</td>\n",
       "      <td>0</td>\n",
       "    </tr>\n",
       "    <tr>\n",
       "      <th>7</th>\n",
       "      <td>8</td>\n",
       "      <td>15656148</td>\n",
       "      <td>Obinna</td>\n",
       "      <td>376</td>\n",
       "      <td>Germany</td>\n",
       "      <td>Female</td>\n",
       "      <td>29</td>\n",
       "      <td>4</td>\n",
       "      <td>115046.74</td>\n",
       "      <td>4</td>\n",
       "      <td>1</td>\n",
       "      <td>0</td>\n",
       "      <td>119346.88</td>\n",
       "      <td>1</td>\n",
       "    </tr>\n",
       "  </tbody>\n",
       "</table>\n",
       "</div>"
      ],
      "text/plain": [
       "   RowNumber  CustomerId   Surname  CreditScore Geography  Gender  Age  \\\n",
       "0          1    15634602  Hargrave          619    France  Female   42   \n",
       "1          2    15647311      Hill          608     Spain  Female   41   \n",
       "2          3    15619304      Onio          502    France  Female   42   \n",
       "3          4    15701354      Boni          699    France  Female   39   \n",
       "4          5    15737888  Mitchell          850     Spain  Female   43   \n",
       "5          6    15574012       Chu          645     Spain    Male   44   \n",
       "6          7    15592531  Bartlett          822    France    Male   50   \n",
       "7          8    15656148    Obinna          376   Germany  Female   29   \n",
       "\n",
       "   Tenure    Balance  NumOfProducts  HasCrCard  IsActiveMember  \\\n",
       "0       2       0.00              1          1               1   \n",
       "1       1   83807.86              1          0               1   \n",
       "2       8  159660.80              3          1               0   \n",
       "3       1       0.00              2          0               0   \n",
       "4       2  125510.82              1          1               1   \n",
       "5       8  113755.78              2          1               0   \n",
       "6       7       0.00              2          1               1   \n",
       "7       4  115046.74              4          1               0   \n",
       "\n",
       "   EstimatedSalary  Exited  \n",
       "0        101348.88       1  \n",
       "1        112542.58       0  \n",
       "2        113931.57       1  \n",
       "3         93826.63       0  \n",
       "4         79084.10       0  \n",
       "5        149756.71       1  \n",
       "6         10062.80       0  \n",
       "7        119346.88       1  "
      ]
     },
     "execution_count": 4,
     "metadata": {},
     "output_type": "execute_result"
    }
   ],
   "source": [
    "data.head(8)"
   ]
  },
  {
   "cell_type": "code",
   "execution_count": 5,
   "id": "c3e2ab17",
   "metadata": {
    "execution": {
     "iopub.execute_input": "2023-03-03T18:02:45.126214Z",
     "iopub.status.busy": "2023-03-03T18:02:45.125632Z",
     "iopub.status.idle": "2023-03-03T18:02:45.142842Z",
     "shell.execute_reply": "2023-03-03T18:02:45.142025Z"
    },
    "papermill": {
     "duration": 0.029363,
     "end_time": "2023-03-03T18:02:45.144920",
     "exception": false,
     "start_time": "2023-03-03T18:02:45.115557",
     "status": "completed"
    },
    "tags": []
   },
   "outputs": [
    {
     "data": {
      "text/plain": [
       "<bound method DataFrame.info of       RowNumber  CustomerId    Surname  CreditScore Geography  Gender  Age  \\\n",
       "0             1    15634602   Hargrave          619    France  Female   42   \n",
       "1             2    15647311       Hill          608     Spain  Female   41   \n",
       "2             3    15619304       Onio          502    France  Female   42   \n",
       "3             4    15701354       Boni          699    France  Female   39   \n",
       "4             5    15737888   Mitchell          850     Spain  Female   43   \n",
       "...         ...         ...        ...          ...       ...     ...  ...   \n",
       "9995       9996    15606229   Obijiaku          771    France    Male   39   \n",
       "9996       9997    15569892  Johnstone          516    France    Male   35   \n",
       "9997       9998    15584532        Liu          709    France  Female   36   \n",
       "9998       9999    15682355  Sabbatini          772   Germany    Male   42   \n",
       "9999      10000    15628319     Walker          792    France  Female   28   \n",
       "\n",
       "      Tenure    Balance  NumOfProducts  HasCrCard  IsActiveMember  \\\n",
       "0          2       0.00              1          1               1   \n",
       "1          1   83807.86              1          0               1   \n",
       "2          8  159660.80              3          1               0   \n",
       "3          1       0.00              2          0               0   \n",
       "4          2  125510.82              1          1               1   \n",
       "...      ...        ...            ...        ...             ...   \n",
       "9995       5       0.00              2          1               0   \n",
       "9996      10   57369.61              1          1               1   \n",
       "9997       7       0.00              1          0               1   \n",
       "9998       3   75075.31              2          1               0   \n",
       "9999       4  130142.79              1          1               0   \n",
       "\n",
       "      EstimatedSalary  Exited  \n",
       "0           101348.88       1  \n",
       "1           112542.58       0  \n",
       "2           113931.57       1  \n",
       "3            93826.63       0  \n",
       "4            79084.10       0  \n",
       "...               ...     ...  \n",
       "9995         96270.64       0  \n",
       "9996        101699.77       0  \n",
       "9997         42085.58       1  \n",
       "9998         92888.52       1  \n",
       "9999         38190.78       0  \n",
       "\n",
       "[10000 rows x 14 columns]>"
      ]
     },
     "execution_count": 5,
     "metadata": {},
     "output_type": "execute_result"
    }
   ],
   "source": [
    "data.info"
   ]
  },
  {
   "cell_type": "markdown",
   "id": "d9e2d2d1",
   "metadata": {
    "papermill": {
     "duration": 0.008725,
     "end_time": "2023-03-03T18:02:45.162655",
     "exception": false,
     "start_time": "2023-03-03T18:02:45.153930",
     "status": "completed"
    },
    "tags": []
   },
   "source": [
    "copying data to save original"
   ]
  },
  {
   "cell_type": "code",
   "execution_count": 6,
   "id": "2af42201",
   "metadata": {
    "execution": {
     "iopub.execute_input": "2023-03-03T18:02:45.183753Z",
     "iopub.status.busy": "2023-03-03T18:02:45.183082Z",
     "iopub.status.idle": "2023-03-03T18:02:45.187915Z",
     "shell.execute_reply": "2023-03-03T18:02:45.187084Z"
    },
    "papermill": {
     "duration": 0.017439,
     "end_time": "2023-03-03T18:02:45.190006",
     "exception": false,
     "start_time": "2023-03-03T18:02:45.172567",
     "status": "completed"
    },
    "tags": []
   },
   "outputs": [],
   "source": [
    "df = data.copy()"
   ]
  },
  {
   "cell_type": "markdown",
   "id": "12fc8663",
   "metadata": {
    "papermill": {
     "duration": 0.008688,
     "end_time": "2023-03-03T18:02:45.207857",
     "exception": false,
     "start_time": "2023-03-03T18:02:45.199169",
     "status": "completed"
    },
    "tags": []
   },
   "source": [
    "dealing with categorical variables"
   ]
  },
  {
   "cell_type": "code",
   "execution_count": 7,
   "id": "01d8d600",
   "metadata": {
    "execution": {
     "iopub.execute_input": "2023-03-03T18:02:45.228053Z",
     "iopub.status.busy": "2023-03-03T18:02:45.227364Z",
     "iopub.status.idle": "2023-03-03T18:02:45.244944Z",
     "shell.execute_reply": "2023-03-03T18:02:45.243750Z"
    },
    "papermill": {
     "duration": 0.030821,
     "end_time": "2023-03-03T18:02:45.247390",
     "exception": false,
     "start_time": "2023-03-03T18:02:45.216569",
     "status": "completed"
    },
    "tags": []
   },
   "outputs": [],
   "source": [
    "gender= pd.get_dummies(df['Gender'],drop_first=True)\n",
    "geo=pd.get_dummies(df['Geography'],drop_first=True)"
   ]
  },
  {
   "cell_type": "code",
   "execution_count": 8,
   "id": "97211333",
   "metadata": {
    "execution": {
     "iopub.execute_input": "2023-03-03T18:02:45.268277Z",
     "iopub.status.busy": "2023-03-03T18:02:45.267594Z",
     "iopub.status.idle": "2023-03-03T18:02:45.274961Z",
     "shell.execute_reply": "2023-03-03T18:02:45.274121Z"
    },
    "papermill": {
     "duration": 0.020232,
     "end_time": "2023-03-03T18:02:45.277087",
     "exception": false,
     "start_time": "2023-03-03T18:02:45.256855",
     "status": "completed"
    },
    "tags": []
   },
   "outputs": [],
   "source": [
    "df= pd.concat((df,gender,geo),axis=1)"
   ]
  },
  {
   "cell_type": "markdown",
   "id": "8ce55cf8",
   "metadata": {
    "papermill": {
     "duration": 0.008799,
     "end_time": "2023-03-03T18:02:45.294876",
     "exception": false,
     "start_time": "2023-03-03T18:02:45.286077",
     "status": "completed"
    },
    "tags": []
   },
   "source": [
    "lets visualise the data "
   ]
  },
  {
   "cell_type": "code",
   "execution_count": 9,
   "id": "3d40dc31",
   "metadata": {
    "execution": {
     "iopub.execute_input": "2023-03-03T18:02:45.315683Z",
     "iopub.status.busy": "2023-03-03T18:02:45.314999Z",
     "iopub.status.idle": "2023-03-03T18:02:45.319823Z",
     "shell.execute_reply": "2023-03-03T18:02:45.318763Z"
    },
    "papermill": {
     "duration": 0.017655,
     "end_time": "2023-03-03T18:02:45.322132",
     "exception": false,
     "start_time": "2023-03-03T18:02:45.304477",
     "status": "completed"
    },
    "tags": []
   },
   "outputs": [],
   "source": [
    "cat_features = ['Spain','Germany','Male','NumOfProducts','HasCrCard','IsActiveMember']\n",
    "num_features = ['Tenure','Balance','EstimatedSalary','Age','CreditScore']"
   ]
  },
  {
   "cell_type": "code",
   "execution_count": 10,
   "id": "64da0b67",
   "metadata": {
    "execution": {
     "iopub.execute_input": "2023-03-03T18:02:45.341903Z",
     "iopub.status.busy": "2023-03-03T18:02:45.341494Z",
     "iopub.status.idle": "2023-03-03T18:02:46.440900Z",
     "shell.execute_reply": "2023-03-03T18:02:46.440082Z"
    },
    "papermill": {
     "duration": 1.111912,
     "end_time": "2023-03-03T18:02:46.443102",
     "exception": false,
     "start_time": "2023-03-03T18:02:45.331190",
     "status": "completed"
    },
    "tags": []
   },
   "outputs": [
    {
     "data": {
      "image/png": "[encoded data removed]",
      "text/plain": [
       "<Figure size 432x288 with 1 Axes>"
      ]
     },
     "metadata": {
      "needs_background": "light"
     },
     "output_type": "display_data"
    },
    {
     "data": {
      "image/png": "[encoded data removed]",
      "text/plain": [
       "<Figure size 432x288 with 1 Axes>"
      ]
     },
     "metadata": {
      "needs_background": "light"
     },
     "output_type": "display_data"
    },
    {
     "data": {
      "image/png": "[encoded data removed]",
      "text/plain": [
       "<Figure size 432x288 with 1 Axes>"
      ]
     },
     "metadata": {
      "needs_background": "light"
     },
     "output_type": "display_data"
    },
    {
     "data": {
      "image/png": "[encoded data removed]",
      "text/plain": [
       "<Figure size 432x288 with 1 Axes>"
      ]
     },
     "metadata": {
      "needs_background": "light"
     },
     "output_type": "display_data"
    },
    {
     "data": {
      "image/png": "[encoded data removed]",
      "text/plain": [
       "<Figure size 432x288 with 1 Axes>"
      ]
     },
     "metadata": {
      "needs_background": "light"
     },
     "output_type": "display_data"
    },
    {
     "data": {
      "image/png": "[encoded data removed]",
      "text/plain": [
       "<Figure size 432x288 with 1 Axes>"
      ]
     },
     "metadata": {
      "needs_background": "light"
     },
     "output_type": "display_data"
    }
   ],
   "source": [
    "for i in cat_features:\n",
    "    ax=sns.countplot(x=df[i], data=df);\n",
    "    plt.title(i)\n",
    "    plt.show()"
   ]
  },
  {
   "cell_type": "code",
   "execution_count": 11,
   "id": "afce315b",
   "metadata": {
    "execution": {
     "iopub.execute_input": "2023-03-03T18:02:46.465915Z",
     "iopub.status.busy": "2023-03-03T18:02:46.465229Z",
     "iopub.status.idle": "2023-03-03T18:02:47.509971Z",
     "shell.execute_reply": "2023-03-03T18:02:47.509063Z"
    },
    "papermill": {
     "duration": 1.058663,
     "end_time": "2023-03-03T18:02:47.512264",
     "exception": false,
     "start_time": "2023-03-03T18:02:46.453601",
     "status": "completed"
    },
    "tags": []
   },
   "outputs": [
    {
     "data": {
      "image/png": "[encoded data removed]",
      "text/plain": [
       "<Figure size 432x288 with 1 Axes>"
      ]
     },
     "metadata": {
      "needs_background": "light"
     },
     "output_type": "display_data"
    },
    {
     "data": {
      "image/png": "[encoded data removed]",
      "text/plain": [
       "<Figure size 432x288 with 1 Axes>"
      ]
     },
     "metadata": {
      "needs_background": "light"
     },
     "output_type": "display_data"
    },
    {
     "data": {
      "image/png": "[encoded data removed]",
      "text/plain": [
       "<Figure size 432x288 with 1 Axes>"
      ]
     },
     "metadata": {
      "needs_background": "light"
     },
     "output_type": "display_data"
    },
    {
     "data": {
      "image/png": "[encoded data removed]",
      "text/plain": [
       "<Figure size 432x288 with 1 Axes>"
      ]
     },
     "metadata": {
      "needs_background": "light"
     },
     "output_type": "display_data"
    },
    {
     "data": {
      "image/png": "[encoded data removed]",
      "text/plain": [
       "<Figure size 432x288 with 1 Axes>"
      ]
     },
     "metadata": {
      "needs_background": "light"
     },
     "output_type": "display_data"
    }
   ],
   "source": [
    "for i in num_features:\n",
    "    plt.hist(df[i],   edgecolor='black',linewidth=2)\n",
    "    plt.title(i)\n",
    "    plt.show()"
   ]
  },
  {
   "cell_type": "markdown",
   "id": "9781eec3",
   "metadata": {
    "papermill": {
     "duration": 0.011051,
     "end_time": "2023-03-03T18:02:47.535098",
     "exception": false,
     "start_time": "2023-03-03T18:02:47.524047",
     "status": "completed"
    },
    "tags": []
   },
   "source": [
    "checking for missing values"
   ]
  },
  {
   "cell_type": "code",
   "execution_count": 12,
   "id": "90301f88",
   "metadata": {
    "execution": {
     "iopub.execute_input": "2023-03-03T18:02:47.559955Z",
     "iopub.status.busy": "2023-03-03T18:02:47.558959Z",
     "iopub.status.idle": "2023-03-03T18:02:47.570385Z",
     "shell.execute_reply": "2023-03-03T18:02:47.569330Z"
    },
    "papermill": {
     "duration": 0.026052,
     "end_time": "2023-03-03T18:02:47.572613",
     "exception": false,
     "start_time": "2023-03-03T18:02:47.546561",
     "status": "completed"
    },
    "tags": []
   },
   "outputs": [
    {
     "data": {
      "text/plain": [
       "RowNumber          0\n",
       "CustomerId         0\n",
       "Surname            0\n",
       "CreditScore        0\n",
       "Geography          0\n",
       "Gender             0\n",
       "Age                0\n",
       "Tenure             0\n",
       "Balance            0\n",
       "NumOfProducts      0\n",
       "HasCrCard          0\n",
       "IsActiveMember     0\n",
       "EstimatedSalary    0\n",
       "Exited             0\n",
       "Male               0\n",
       "Germany            0\n",
       "Spain              0\n",
       "dtype: int64"
      ]
     },
     "execution_count": 12,
     "metadata": {},
     "output_type": "execute_result"
    }
   ],
   "source": [
    "df.isnull().sum()"
   ]
  },
  {
   "cell_type": "markdown",
   "id": "d9fae026",
   "metadata": {
    "papermill": {
     "duration": 0.011035,
     "end_time": "2023-03-03T18:02:47.595143",
     "exception": false,
     "start_time": "2023-03-03T18:02:47.584108",
     "status": "completed"
    },
    "tags": []
   },
   "source": [
    "droping unneccesary data"
   ]
  },
  {
   "cell_type": "code",
   "execution_count": 13,
   "id": "c4a469b3",
   "metadata": {
    "execution": {
     "iopub.execute_input": "2023-03-03T18:02:47.621475Z",
     "iopub.status.busy": "2023-03-03T18:02:47.620643Z",
     "iopub.status.idle": "2023-03-03T18:02:47.629288Z",
     "shell.execute_reply": "2023-03-03T18:02:47.628460Z"
    },
    "papermill": {
     "duration": 0.024474,
     "end_time": "2023-03-03T18:02:47.631667",
     "exception": false,
     "start_time": "2023-03-03T18:02:47.607193",
     "status": "completed"
    },
    "tags": []
   },
   "outputs": [],
   "source": [
    "df = df.drop(['Gender','Geography'],axis=1)"
   ]
  },
  {
   "cell_type": "code",
   "execution_count": 14,
   "id": "4341be35",
   "metadata": {
    "execution": {
     "iopub.execute_input": "2023-03-03T18:02:47.657471Z",
     "iopub.status.busy": "2023-03-03T18:02:47.656702Z",
     "iopub.status.idle": "2023-03-03T18:02:49.591597Z",
     "shell.execute_reply": "2023-03-03T18:02:49.590351Z"
    },
    "papermill": {
     "duration": 1.950722,
     "end_time": "2023-03-03T18:02:49.594377",
     "exception": false,
     "start_time": "2023-03-03T18:02:47.643655",
     "status": "completed"
    },
    "tags": []
   },
   "outputs": [],
   "source": [
    "from pandas_profiling import ProfileReport"
   ]
  },
  {
   "cell_type": "code",
   "execution_count": 15,
   "id": "1ffafc38",
   "metadata": {
    "execution": {
     "iopub.execute_input": "2023-03-03T18:02:49.620763Z",
     "iopub.status.busy": "2023-03-03T18:02:49.619990Z",
     "iopub.status.idle": "2023-03-03T18:02:49.629713Z",
     "shell.execute_reply": "2023-03-03T18:02:49.628527Z"
    },
    "papermill": {
     "duration": 0.02559,
     "end_time": "2023-03-03T18:02:49.632130",
     "exception": false,
     "start_time": "2023-03-03T18:02:49.606540",
     "status": "completed"
    },
    "tags": []
   },
   "outputs": [],
   "source": [
    "profile = ProfileReport(df, title=\" Report\")"
   ]
  },
  {
   "cell_type": "code",
   "execution_count": 16,
   "id": "9097b753",
   "metadata": {
    "execution": {
     "iopub.execute_input": "2023-03-03T18:02:49.656978Z",
     "iopub.status.busy": "2023-03-03T18:02:49.656575Z",
     "iopub.status.idle": "2023-03-03T18:02:49.661690Z",
     "shell.execute_reply": "2023-03-03T18:02:49.660491Z"
    },
    "papermill": {
     "duration": 0.020593,
     "end_time": "2023-03-03T18:02:49.664326",
     "exception": false,
     "start_time": "2023-03-03T18:02:49.643733",
     "status": "completed"
    },
    "tags": []
   },
   "outputs": [],
   "source": [
    "# profile"
   ]
  },
  {
   "cell_type": "code",
   "execution_count": 17,
   "id": "464be8ec",
   "metadata": {
    "execution": {
     "iopub.execute_input": "2023-03-03T18:02:49.689222Z",
     "iopub.status.busy": "2023-03-03T18:02:49.688813Z",
     "iopub.status.idle": "2023-03-03T18:02:49.693942Z",
     "shell.execute_reply": "2023-03-03T18:02:49.692806Z"
    },
    "papermill": {
     "duration": 0.020199,
     "end_time": "2023-03-03T18:02:49.696084",
     "exception": false,
     "start_time": "2023-03-03T18:02:49.675885",
     "status": "completed"
    },
    "tags": []
   },
   "outputs": [],
   "source": [
    "Remove = ['RowNumber', 'CustomerId', 'Surname','EstimatedSalary','HasCrCard','CreditScore','Germany']"
   ]
  },
  {
   "cell_type": "code",
   "execution_count": 18,
   "id": "54be7b2a",
   "metadata": {
    "execution": {
     "iopub.execute_input": "2023-03-03T18:02:49.721586Z",
     "iopub.status.busy": "2023-03-03T18:02:49.720837Z",
     "iopub.status.idle": "2023-03-03T18:02:49.726723Z",
     "shell.execute_reply": "2023-03-03T18:02:49.725783Z"
    },
    "papermill": {
     "duration": 0.021085,
     "end_time": "2023-03-03T18:02:49.729012",
     "exception": false,
     "start_time": "2023-03-03T18:02:49.707927",
     "status": "completed"
    },
    "tags": []
   },
   "outputs": [],
   "source": [
    "df = df.drop(Remove,axis=1)"
   ]
  },
  {
   "cell_type": "markdown",
   "id": "e71d1373",
   "metadata": {
    "papermill": {
     "duration": 0.011143,
     "end_time": "2023-03-03T18:02:49.752038",
     "exception": false,
     "start_time": "2023-03-03T18:02:49.740895",
     "status": "completed"
    },
    "tags": []
   },
   "source": [
    "normalising the data for or to fit"
   ]
  },
  {
   "cell_type": "code",
   "execution_count": 19,
   "id": "b68e9cea",
   "metadata": {
    "execution": {
     "iopub.execute_input": "2023-03-03T18:02:49.777074Z",
     "iopub.status.busy": "2023-03-03T18:02:49.776656Z",
     "iopub.status.idle": "2023-03-03T18:02:49.781923Z",
     "shell.execute_reply": "2023-03-03T18:02:49.780584Z"
    },
    "papermill": {
     "duration": 0.020539,
     "end_time": "2023-03-03T18:02:49.784263",
     "exception": false,
     "start_time": "2023-03-03T18:02:49.763724",
     "status": "completed"
    },
    "tags": []
   },
   "outputs": [],
   "source": [
    "sc = StandardScaler()"
   ]
  },
  {
   "cell_type": "code",
   "execution_count": 20,
   "id": "a89ff3c8",
   "metadata": {
    "execution": {
     "iopub.execute_input": "2023-03-03T18:02:49.810001Z",
     "iopub.status.busy": "2023-03-03T18:02:49.809623Z",
     "iopub.status.idle": "2023-03-03T18:02:49.824600Z",
     "shell.execute_reply": "2023-03-03T18:02:49.823500Z"
    },
    "papermill": {
     "duration": 0.031469,
     "end_time": "2023-03-03T18:02:49.827266",
     "exception": false,
     "start_time": "2023-03-03T18:02:49.795797",
     "status": "completed"
    },
    "tags": []
   },
   "outputs": [],
   "source": [
    "df['Balance']= sc.fit_transform(df[['Balance']])\n",
    "df['Age'] = sc.fit_transform(df[['Age']])"
   ]
  },
  {
   "cell_type": "markdown",
   "id": "48b27655",
   "metadata": {
    "papermill": {
     "duration": 0.011209,
     "end_time": "2023-03-03T18:02:49.850362",
     "exception": false,
     "start_time": "2023-03-03T18:02:49.839153",
     "status": "completed"
    },
    "tags": []
   },
   "source": [
    "creating X and Y variaable"
   ]
  },
  {
   "cell_type": "code",
   "execution_count": 21,
   "id": "a1187975",
   "metadata": {
    "execution": {
     "iopub.execute_input": "2023-03-03T18:02:49.875600Z",
     "iopub.status.busy": "2023-03-03T18:02:49.875110Z",
     "iopub.status.idle": "2023-03-03T18:02:49.882395Z",
     "shell.execute_reply": "2023-03-03T18:02:49.881422Z"
    },
    "papermill": {
     "duration": 0.0229,
     "end_time": "2023-03-03T18:02:49.884912",
     "exception": false,
     "start_time": "2023-03-03T18:02:49.862012",
     "status": "completed"
    },
    "tags": []
   },
   "outputs": [],
   "source": [
    "Y = df[['Exited']]\n",
    "X = df.drop(['Exited'],axis=1)"
   ]
  },
  {
   "cell_type": "markdown",
   "id": "a01e4ef5",
   "metadata": {
    "papermill": {
     "duration": 0.011196,
     "end_time": "2023-03-03T18:02:49.908181",
     "exception": false,
     "start_time": "2023-03-03T18:02:49.896985",
     "status": "completed"
    },
    "tags": []
   },
   "source": [
    "spliting data into train and test"
   ]
  },
  {
   "cell_type": "code",
   "execution_count": 22,
   "id": "68cfb056",
   "metadata": {
    "execution": {
     "iopub.execute_input": "2023-03-03T18:02:49.932597Z",
     "iopub.status.busy": "2023-03-03T18:02:49.932169Z",
     "iopub.status.idle": "2023-03-03T18:02:49.983668Z",
     "shell.execute_reply": "2023-03-03T18:02:49.982648Z"
    },
    "papermill": {
     "duration": 0.066776,
     "end_time": "2023-03-03T18:02:49.986379",
     "exception": false,
     "start_time": "2023-03-03T18:02:49.919603",
     "status": "completed"
    },
    "tags": []
   },
   "outputs": [],
   "source": [
    "X_train,X_test,Y_train,Y_test= train_test_split(X,Y,test_size=0.3,random_state=1234,stratify=Y)"
   ]
  },
  {
   "cell_type": "code",
   "execution_count": 23,
   "id": "85a1c3c5",
   "metadata": {
    "execution": {
     "iopub.execute_input": "2023-03-03T18:02:50.011734Z",
     "iopub.status.busy": "2023-03-03T18:02:50.011309Z",
     "iopub.status.idle": "2023-03-03T18:02:50.165593Z",
     "shell.execute_reply": "2023-03-03T18:02:50.164012Z"
    },
    "papermill": {
     "duration": 0.170481,
     "end_time": "2023-03-03T18:02:50.168549",
     "exception": false,
     "start_time": "2023-03-03T18:02:49.998068",
     "status": "completed"
    },
    "tags": []
   },
   "outputs": [],
   "source": [
    "from sklearn.ensemble import RandomForestClassifier\n",
    "model1 = RandomForestClassifier(random_state=42)  "
   ]
  },
  {
   "cell_type": "code",
   "execution_count": 24,
   "id": "e0551580",
   "metadata": {
    "execution": {
     "iopub.execute_input": "2023-03-03T18:02:50.194524Z",
     "iopub.status.busy": "2023-03-03T18:02:50.194101Z",
     "iopub.status.idle": "2023-03-03T18:02:50.199254Z",
     "shell.execute_reply": "2023-03-03T18:02:50.198137Z"
    },
    "papermill": {
     "duration": 0.020713,
     "end_time": "2023-03-03T18:02:50.201585",
     "exception": false,
     "start_time": "2023-03-03T18:02:50.180872",
     "status": "completed"
    },
    "tags": []
   },
   "outputs": [],
   "source": [
    "model = LogisticRegression()"
   ]
  },
  {
   "cell_type": "code",
   "execution_count": 25,
   "id": "412ea450",
   "metadata": {
    "execution": {
     "iopub.execute_input": "2023-03-03T18:02:50.226940Z",
     "iopub.status.busy": "2023-03-03T18:02:50.226014Z",
     "iopub.status.idle": "2023-03-03T18:02:51.022434Z",
     "shell.execute_reply": "2023-03-03T18:02:51.021148Z"
    },
    "papermill": {
     "duration": 0.812201,
     "end_time": "2023-03-03T18:02:51.025492",
     "exception": false,
     "start_time": "2023-03-03T18:02:50.213291",
     "status": "completed"
    },
    "tags": []
   },
   "outputs": [
    {
     "name": "stderr",
     "output_type": "stream",
     "text": [
      "/opt/conda/lib/python3.7/site-packages/ipykernel_launcher.py:1: DataConversionWarning: A column-vector y was passed when a 1d array was expected. Please change the shape of y to (n_samples,), for example using ravel().\n",
      "  \"\"\"Entry point for launching an IPython kernel.\n"
     ]
    }
   ],
   "source": [
    "model1.fit(X_train,Y_train)\n",
    "Y_predict = model1.predict(X_test)"
   ]
  },
  {
   "cell_type": "markdown",
   "id": "06ec40a4",
   "metadata": {
    "papermill": {
     "duration": 0.01119,
     "end_time": "2023-03-03T18:02:51.048837",
     "exception": false,
     "start_time": "2023-03-03T18:02:51.037647",
     "status": "completed"
    },
    "tags": []
   },
   "source": [
    "Checking the accuracy of the model"
   ]
  },
  {
   "cell_type": "code",
   "execution_count": 26,
   "id": "29c3f624",
   "metadata": {
    "execution": {
     "iopub.execute_input": "2023-03-03T18:02:51.073375Z",
     "iopub.status.busy": "2023-03-03T18:02:51.072947Z",
     "iopub.status.idle": "2023-03-03T18:02:51.082765Z",
     "shell.execute_reply": "2023-03-03T18:02:51.081588Z"
    },
    "papermill": {
     "duration": 0.024636,
     "end_time": "2023-03-03T18:02:51.084947",
     "exception": false,
     "start_time": "2023-03-03T18:02:51.060311",
     "status": "completed"
    },
    "tags": []
   },
   "outputs": [
    {
     "data": {
      "text/plain": [
       "array([[2238,  151],\n",
       "       [ 318,  293]])"
      ]
     },
     "execution_count": 26,
     "metadata": {},
     "output_type": "execute_result"
    }
   ],
   "source": [
    "cm = confusion_matrix(Y_test,Y_predict)\n",
    "cm"
   ]
  },
  {
   "cell_type": "markdown",
   "id": "1ebc1432",
   "metadata": {
    "papermill": {
     "duration": 0.011175,
     "end_time": "2023-03-03T18:02:51.107874",
     "exception": false,
     "start_time": "2023-03-03T18:02:51.096699",
     "status": "completed"
    },
    "tags": []
   },
   "source": [
    "checking the accuracy"
   ]
  },
  {
   "cell_type": "code",
   "execution_count": 27,
   "id": "de415182",
   "metadata": {
    "execution": {
     "iopub.execute_input": "2023-03-03T18:02:51.133173Z",
     "iopub.status.busy": "2023-03-03T18:02:51.132186Z",
     "iopub.status.idle": "2023-03-03T18:02:51.218834Z",
     "shell.execute_reply": "2023-03-03T18:02:51.217630Z"
    },
    "papermill": {
     "duration": 0.101714,
     "end_time": "2023-03-03T18:02:51.221193",
     "exception": false,
     "start_time": "2023-03-03T18:02:51.119479",
     "status": "completed"
    },
    "tags": []
   },
   "outputs": [
    {
     "data": {
      "text/plain": [
       "0.8436666666666667"
      ]
     },
     "execution_count": 27,
     "metadata": {},
     "output_type": "execute_result"
    }
   ],
   "source": [
    "model1.score(X_test,Y_test)"
   ]
  },
  {
   "cell_type": "code",
   "execution_count": null,
   "id": "961175de",
   "metadata": {
    "papermill": {
     "duration": 0.011348,
     "end_time": "2023-03-03T18:02:51.244393",
     "exception": false,
     "start_time": "2023-03-03T18:02:51.233045",
     "status": "completed"
    },
    "tags": []
   },
   "outputs": [],
   "source": []
  }
 ],
 "metadata": {
  "kernelspec": {
   "display_name": "Python 3",
   "language": "python",
   "name": "python3"
  },
  "language_info": {
   "codemirror_mode": {
    "name": "ipython",
    "version": 3
   },
   "file_extension": ".py",
   "mimetype": "text/x-python",
   "name": "python",
   "nbconvert_exporter": "python",
   "pygments_lexer": "ipython3",
   "version": "3.7.12"
  },
  "papermill": {
   "default_parameters": {},
   "duration": 19.05966,
   "end_time": "2023-03-03T18:02:52.178668",
   "environment_variables": {},
   "exception": null,
   "input_path": "__notebook__.ipynb",
   "output_path": "__notebook__.ipynb",
   "parameters": {},
   "start_time": "2023-03-03T18:02:33.119008",
   "version": "2.3.4"
  }
 },
 "nbformat": 4,
 "nbformat_minor": 5
}
